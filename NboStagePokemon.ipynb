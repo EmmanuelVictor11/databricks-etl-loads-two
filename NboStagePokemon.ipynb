{
 "cells": [
  {
   "cell_type": "code",
   "execution_count": 0,
   "metadata": {
    "application/vnd.databricks.v1+cell": {
     "cellMetadata": {
      "byteLimit": 2048000,
      "rowLimit": 10000
     },
     "inputWidgets": {},
     "nuid": "8351c491-ae67-4c61-b2d9-48858109566a",
     "showTitle": false,
     "title": ""
    }
   },
   "outputs": [
    {
     "output_type": "stream",
     "name": "stdout",
     "output_type": "stream",
     "text": [
      "Processando informações do Pokémon: abomasnow...\nProcessando informações do Pokémon: abra...\nProcessando informações do Pokémon: absol...\nProcessando informações do Pokémon: accelgor...\nProcessando informações do Pokémon: aegislash...\nErro ao obter informações do Pokémon aegislash: 404 Client Error: Not Found for url: https://pokeapi.co/api/v2/pokemon/aegislash\nProcessando informações do Pokémon: aerodactyl...\nProcessando informações do Pokémon: aggron...\nProcessando informações do Pokémon: aipom...\nProcessando informações do Pokémon: alakazam...\nProcessando informações do Pokémon: alomomola...\nProcessando informações do Pokémon: altaria...\nProcessando informações do Pokémon: ambipom...\nProcessando informações do Pokémon: amoonguss...\nProcessando informações do Pokémon: ampharos...\nProcessando informações do Pokémon: anorith...\nProcessando informações do Pokémon: arbok...\nProcessando informações do Pokémon: arcanine...\nProcessando informações do Pokémon: arceus...\nProcessando informações do Pokémon: armaldo...\nProcessando informações do Pokémon: aromatisse...\nProcessando informações do Pokémon: aron...\nProcessando informações do Pokémon: articuno...\nProcessando informações do Pokémon: audino...\nProcessando informações do Pokémon: bagon...\nProcessando informações do Pokémon: baltoy...\nProcessando informações do Pokémon: banette...\nProcessando informações do Pokémon: barboach...\nProcessando informações do Pokémon: barraskewda...\nProcessando informações do Pokémon: beldum...\nProcessando informações do Pokémon: bellossom...\nProcessando informações do Pokémon: bellsprout...\nProcessando informações do Pokémon: bergmite...\nProcessando informações do Pokémon: bidoof...\nProcessando informações do Pokémon: bisharp...\nProcessando informações do Pokémon: blacephalon...\nProcessando informações do Pokémon: blastoise...\nProcessando informações do Pokémon: blaziken...\nProcessando informações do Pokémon: blipbug...\nProcessando informações do Pokémon: boltund...\nProcessando informações do Pokémon: bounsweet...\nProcessando informações do Pokémon: braixen...\nProcessando informações do Pokémon: brionne...\nProcessando informações do Pokémon: bronzer...\nErro ao obter informações do Pokémon bronzer: 404 Client Error: Not Found for url: https://pokeapi.co/api/v2/pokemon/bronzer\nProcessando informações do Pokémon: butterfree...\nProcessando informações do Pokémon: buzzwole...\nProcessando informações do Pokémon: cacturne...\nProcessando informações do Pokémon: calyrex...\nProcessando informações do Pokémon: carbink...\nProcessando informações do Pokémon: carnivine...\nProcessando informações do Pokémon: carracosta...\nProcessando informações do Pokémon: castform...\nProcessando informações do Pokémon: caterpie...\nProcessando informações do Pokémon: celebi...\nProcessando informações do Pokémon: chandelure...\nProcessando informações do Pokémon: chansey...\nProcessando informações do Pokémon: charizard...\nProcessando informações do Pokémon: charmeleon...\nProcessando informações do Pokémon: charmander...\nProcessando informações do Pokémon: chatot...\nProcessando informações do Pokémon: cherrim...\nProcessando informações do Pokémon: cherubi...\nProcessando informações do Pokémon: chespin...\nProcessando informações do Pokémon: chikorita...\nProcessando informações do Pokémon: chimchar...\nProcessando informações do Pokémon: chinchou...\nProcessando informações do Pokémon: chingling...\nProcessando informações do Pokémon: cinccino...\nProcessando informações do Pokémon: cinderace...\nProcessando informações do Pokémon: clauncher...\nProcessando informações do Pokémon: clawitzer...\nProcessando informações do Pokémon: claydol...\nProcessando informações do Pokémon: clefable...\nProcessando informações do Pokémon: clefairy...\nProcessando informações do Pokémon: cleffa...\nProcessando informações do Pokémon: cloyster...\nProcessando informações do Pokémon: cofagrigus...\nProcessando informações do Pokémon: combee...\nProcessando informações do Pokémon: comfey...\nProcessando informações do Pokémon: conkeldurr...\nProcessando informações do Pokémon: corphish...\nProcessando informações do Pokémon: corsola...\nProcessando informações do Pokémon: cottonee...\nProcessando informações do Pokémon: crabominable...\nProcessando informações do Pokémon: crabrawler...\nProcessando informações do Pokémon: cradily...\nProcessando informações do Pokémon: croagunk...\nProcessando informações do Pokémon: crobat...\nProcessando informações do Pokémon: croconaw...\nProcessando informações do Pokémon: crustle...\nProcessando informações do Pokémon: cubone...\nProcessando informações do Pokémon: cutiefly...\nProcessando informações do Pokémon: darmanitane...\nErro ao obter informações do Pokémon darmanitane: 404 Client Error: Not Found for url: https://pokeapi.co/api/v2/pokemon/darmanitane\nProcessando informações do Pokémon: dartrix...\nProcessando informações do Pokémon: darmanitan...\nErro ao obter informações do Pokémon darmanitan: 404 Client Error: Not Found for url: https://pokeapi.co/api/v2/pokemon/darmanitan\nProcessando informações do Pokémon: dedenne...\nProcessando informações do Pokémon: delcatty...\nProcessando informações do Pokémon: delibird...\nProcessando informações do Pokémon: dewgong...\nProcessando informações do Pokémon: dewpider...\nProcessando informações do Pokémon: diggersby...\nProcessando informações do Pokémon: diancie...\nProcessando informações do Pokémon: diglett...\nProcessando informações do Pokémon: ditto...\nProcessando informações do Pokémon: dodrio...\nProcessando informações do Pokémon: doduo...\nProcessando informações do Pokémon: donphan...\nProcessando informações do Pokémon: dottler...\nProcessando informações do Pokémon: dracozolt...\nProcessando informações do Pokémon: dragapult...\nProcessando informações do Pokémon: dragonair...\nProcessando informações do Pokémon: dragonite...\nProcessando informações do Pokémon: dratini...\nProcessando informações do Pokémon: drifblim...\nProcessando informações do Pokémon: drifloon...\nProcessando informações do Pokémon: drowzee...\nProcessando informações do Pokémon: ducklett...\nProcessando informações do Pokémon: dugtrio...\nProcessando informações do Pokémon: dunsparce...\nProcessando informações do Pokémon: duraludon...\nProcessando informações do Pokémon: dustox...\nProcessando informações do Pokémon: dwebble...\nProcessando informações do Pokémon: eelektross...\nProcessando informações do Pokémon: eevee...\nProcessando informações do Pokémon: electabuzz...\nProcessando informações do Pokémon: electivire...\nProcessando informações do Pokémon: electrike...\nProcessando informações do Pokémon: elgyem...\nProcessando informações do Pokémon: emolga...\nProcessando informações do Pokémon: empoleon...\nProcessando informações do Pokémon: emolga...\nProcessando informações do Pokémon: entei...\nProcessando informações do Pokémon: escavalier...\nProcessando informações do Pokémon: espurr...\nProcessando informações do Pokémon: exeggutor...\nProcessando informações do Pokémon: exeggcute...\nProcessando informações do Pokémon: exploud...\nProcessando informações do Pokémon: farfetch'd...\nErro ao obter informações do Pokémon farfetch'd: 404 Client Error: Not Found for url: https://pokeapi.co/api/v2/pokemon/farfetch'd\nProcessando informações do Pokémon: fearow...\nProcessando informações do Pokémon: feebas...\nProcessando informações do Pokémon: fennekin...\nProcessando informações do Pokémon: ferrothorn...\nProcessando informações do Pokémon: finneon...\nProcessando informações do Pokémon: flapple...\nProcessando informações do Pokémon: flaaffy...\nProcessando informações do Pokémon: flareon...\nProcessando informações do Pokémon: flapple...\nProcessando informações do Pokémon: fletchinder...\nProcessando informações do Pokémon: fletchling...\nProcessando informações do Pokémon: floatzel...\nProcessando informações do Pokémon: florges...\nProcessando informações do Pokémon: foongus...\nProcessando informações do Pokémon: forretress...\nProcessando informações do Pokémon: frillish...\nProcessando informações do Pokémon: frogadier...\nProcessando informações do Pokémon: froakie...\nProcessando informações do Pokémon: froslass...\nProcessando informações do Pokémon: furret...\nProcessando informações do Pokémon: gabite...\nProcessando informações do Pokémon: gallade...\nProcessando informações do Pokémon: gardevoir...\nProcessando informações do Pokémon: gengar...\nProcessando informações do Pokémon: gigalith...\nProcessando informações do Pokémon: gimmighoul...\nProcessando informações do Pokémon: gogoat...\nProcessando informações do Pokémon: golbat...\nProcessando informações do Pokémon: goldeen...\nProcessando informações do Pokémon: golduck...\nProcessando informações do Pokémon: golett...\nProcessando informações do Pokémon: golem...\nProcessando informações do Pokémon: golisopod...\nProcessando informações do Pokémon: golurk...\nProcessando informações do Pokémon: goodra...\nProcessando informações do Pokémon: goomy...\nProcessando informações do Pokémon: gourgeist...\nErro ao obter informações do Pokémon gourgeist: 404 Client Error: Not Found for url: https://pokeapi.co/api/v2/pokemon/gourgeist\nProcessando informações do Pokémon: granbull...\nProcessando informações do Pokémon: grimer...\nProcessando informações do Pokémon: grotle...\nProcessando informações do Pokémon: grovyle...\nProcessando informações do Pokémon: gulpin...\nProcessando informações do Pokémon: guzzlord...\nProcessando informações do Pokémon: helioptile...\nProcessando informações do Pokémon: heliolisk...\nProcessando informações do Pokémon: herdier...\nProcessando informações do Pokémon: heracross...\nProcessando informações do Pokémon: hippowdon...\nProcessando informações do Pokémon: hitmonchan...\nProcessando informações do Pokémon: hitmonlee...\nProcessando informações do Pokémon: hitmontop...\nProcessando informações do Pokémon: ho-oh...\nProcessando informações do Pokémon: honchkrow...\nProcessando informações do Pokémon: hoothoot...\nProcessando informações do Pokémon: hoppip...\nProcessando informações do Pokémon: horse...\nErro ao obter informações do Pokémon horse: 404 Client Error: Not Found for url: https://pokeapi.co/api/v2/pokemon/horse\nProcessando informações do Pokémon: houndoom...\nProcessando informações do Pokémon: houndour...\nProcessando informações do Pokémon: huntail...\nProcessando informações do Pokémon: hydreigon...\nProcessando informações do Pokémon: hypno...\nProcessando informações do Pokémon: igglybuff...\nProcessando informações do Pokémon: incineroar...\nProcessando informações do Pokémon: inteleon...\nProcessando informações do Pokémon: jangmo-o...\nProcessando informações do Pokémon: jigglypuff...\nProcessando informações do Pokémon: jolteon...\nProcessando informações do Pokémon: jynx...\nProcessando informações do Pokémon: kabuto...\nProcessando informações do Pokémon: kabutops...\nProcessando informações do Pokémon: kadabra...\nProcessando informações do Pokémon: kaimon...\nErro ao obter informações do Pokémon kaimon: 404 Client Error: Not Found for url: https://pokeapi.co/api/v2/pokemon/kaimon\nProcessando informações do Pokémon: kakuna...\nProcessando informações do Pokémon: kalos...\nErro ao obter informações do Pokémon kalos: 404 Client Error: Not Found for url: https://pokeapi.co/api/v2/pokemon/kalos\nProcessando informações do Pokémon: kecleon...\nProcessando informações do Pokémon: keldeo...\nErro ao obter informações do Pokémon keldeo: 404 Client Error: Not Found for url: https://pokeapi.co/api/v2/pokemon/keldeo\nProcessando informações do Pokémon: kingdra...\nProcessando informações do Pokémon: kingler...\nProcessando informações do Pokémon: kirlia...\nProcessando informações do Pokémon: klang...\nProcessando informações do Pokémon: klink...\nProcessando informações do Pokémon: klinklang...\nProcessando informações do Pokémon: koffing...\nProcessando informações do Pokémon: komala...\nProcessando informações do Pokémon: kommo-o...\nProcessando informações do Pokémon: krabby...\nProcessando informações do Pokémon: kricketot...\nProcessando informações do Pokémon: kricketune...\nProcessando informações do Pokémon: krookodile...\nProcessando informações do Pokémon: kyogre...\nProcessando informações do Pokémon: kyurem...\nProcessando informações do Pokémon: landorus...\nErro ao obter informações do Pokémon landorus: 404 Client Error: Not Found for url: https://pokeapi.co/api/v2/pokemon/landorus\nProcessando informações do Pokémon: lanturn...\nProcessando informações do Pokémon: lapras...\nProcessando informações do Pokémon: larvesta...\nProcessando informações do Pokémon: larvitar...\nProcessando informações do Pokémon: latias...\nProcessando informações do Pokémon: latios...\nProcessando informações do Pokémon: leafeon...\nProcessando informações do Pokémon: leavanny...\nProcessando informações do Pokémon: ledian...\nProcessando informações do Pokémon: ledyba...\nProcessando informações do Pokémon: lickilicky...\nProcessando informações do Pokémon: lickitung...\nProcessando informações do Pokémon: liepard...\nProcessando informações do Pokémon: lileep...\nProcessando informações do Pokémon: lilligant...\nProcessando informações do Pokémon: linoone...\nProcessando informações do Pokémon: litwick...\nProcessando informações do Pokémon: litten...\nProcessando informações do Pokémon: livani...\nErro ao obter informações do Pokémon livani: 404 Client Error: Not Found for url: https://pokeapi.co/api/v2/pokemon/livani\nProcessando informações do Pokémon: lopunny...\nProcessando informações do Pokémon: lotad...\nProcessando informações do Pokémon: loudred...\nProcessando informações do Pokémon: lucario...\nProcessando informações do Pokémon: ludicolo...\nProcessando informações do Pokémon: lumineon...\nProcessando informações do Pokémon: lunala...\nProcessando informações do Pokémon: lunatone...\nProcessando informações do Pokémon: luxio...\nProcessando informações do Pokémon: luxray...\nProcessando informações do Pokémon: magby...\nProcessando informações do Pokémon: magcargo...\nProcessando informações do Pokémon: magikarp...\nProcessando informações do Pokémon: magmar...\nProcessando informações do Pokémon: magmortar...\nProcessando informações do Pokémon: magnemite...\nProcessando informações do Pokémon: mamoswine...\nProcessando informações do Pokémon: manaphy...\nProcessando informações do Pokémon: mandibuzz...\nProcessando informações do Pokémon: manectric...\nProcessando informações do Pokémon: maractus...\nProcessando informações do Pokémon: mareep...\nProcessando informações do Pokémon: marill...\nProcessando informações do Pokémon: marshtomp...\nProcessando informações do Pokémon: masquerain...\nProcessando informações do Pokémon: mawile...\nProcessando informações do Pokémon: medicham...\nProcessando informações do Pokémon: meditite...\nProcessando informações do Pokémon: melmetal...\nProcessando informações do Pokémon: meltan...\nProcessando informações do Pokémon: mesprit...\nProcessando informações do Pokémon: metagross...\nProcessando informações do Pokémon: metang...\nProcessando informações do Pokémon: metapod...\nProcessando informações do Pokémon: mew...\nProcessando informações do Pokémon: mewtwo...\nProcessando informações do Pokémon: mimikyu...\nErro ao obter informações do Pokémon mimikyu: 404 Client Error: Not Found for url: https://pokeapi.co/api/v2/pokemon/mimikyu\nProcessando informações do Pokémon: minccino...\nProcessando informações do Pokémon: minun...\nProcessando informações do Pokémon: mismagius...\nProcessando informações do Pokémon: mistralton...\nErro ao obter informações do Pokémon mistralton: 404 Client Error: Not Found for url: https://pokeapi.co/api/v2/pokemon/mistralton\nProcessando informações do Pokémon: mitegala...\nErro ao obter informações do Pokémon mitegala: 404 Client Error: Not Found for url: https://pokeapi.co/api/v2/pokemon/mitegala\nProcessando informações do Pokémon: mienshao...\nProcessando informações do Pokémon: mightyena...\nProcessando informações do Pokémon: milcery...\nProcessando informações do Pokémon: milotic...\nProcessando informações do Pokémon: mime jr....\nErro ao obter informações do Pokémon mime jr.: 404 Client Error: Not Found for url: https://pokeapi.co/api/v2/pokemon/mime%20jr.\nProcessando informações do Pokémon: mimikyu...\nErro ao obter informações do Pokémon mimikyu: 404 Client Error: Not Found for url: https://pokeapi.co/api/v2/pokemon/mimikyu\nProcessando informações do Pokémon: minccino...\nProcessando informações do Pokémon: minun...\nProcessando informações do Pokémon: mismagius...\nProcessando informações do Pokémon: mistralton...\nErro ao obter informações do Pokémon mistralton: 404 Client Error: Not Found for url: https://pokeapi.co/api/v2/pokemon/mistralton\nProcessando informações do Pokémon: mitegala...\nErro ao obter informações do Pokémon mitegala: 404 Client Error: Not Found for url: https://pokeapi.co/api/v2/pokemon/mitegala\nProcessando informações do Pokémon: mienshao...\nProcessando informações do Pokémon: mightyena...\nProcessando informações do Pokémon: milcery...\nProcessando informações do Pokémon: milotic...\nProcessando informações do Pokémon: mime jr....\nErro ao obter informações do Pokémon mime jr.: 404 Client Error: Not Found for url: https://pokeapi.co/api/v2/pokemon/mime%20jr.\nProcessando informações do Pokémon: minior...\nErro ao obter informações do Pokémon minior: 404 Client Error: Not Found for url: https://pokeapi.co/api/v2/pokemon/minior\nProcessando informações do Pokémon: misplor...\nErro ao obter informações do Pokémon misplor: 404 Client Error: Not Found for url: https://pokeapi.co/api/v2/pokemon/misplor\nProcessando informações do Pokémon: moltres...\nProcessando informações do Pokémon: monferno...\nProcessando informações do Pokémon: morelull...\nProcessando informações do Pokémon: mudbray...\nProcessando informações do Pokémon: mudkip...\nProcessando informações do Pokémon: muk...\nProcessando informações do Pokémon: mukuhawk...\nErro ao obter informações do Pokémon mukuhawk: 404 Client Error: Not Found for url: https://pokeapi.co/api/v2/pokemon/mukuhawk\nProcessando informações do Pokémon: mukushin...\nErro ao obter informações do Pokémon mukushin: 404 Client Error: Not Found for url: https://pokeapi.co/api/v2/pokemon/mukushin\nProcessando informações do Pokémon: munna...\nProcessando informações do Pokémon: murkrow...\nProcessando informações do Pokémon: musharna...\nProcessando informações do Pokémon: naganadel...\nProcessando informações do Pokémon: natu...\nProcessando informações do Pokémon: necrozma...\nProcessando informações do Pokémon: nidoran♀...\nErro ao obter informações do Pokémon nidoran♀: 404 Client Error: Not Found for url: https://pokeapi.co/api/v2/pokemon/nidoran%E2%99%80\nProcessando informações do Pokémon: nidoran♂...\nErro ao obter informações do Pokémon nidoran♂: 404 Client Error: Not Found for url: https://pokeapi.co/api/v2/pokemon/nidoran%E2%99%82\nProcessando informações do Pokémon: nidorina...\nProcessando informações do Pokémon: nidorino...\nProcessando informações do Pokémon: nidoqueen...\nProcessando informações do Pokémon: nidoking...\nProcessando informações do Pokémon: ninetales...\nProcessando informações do Pokémon: noctowl...\nProcessando informações do Pokémon: noibat...\nProcessando informações do Pokémon: noivern...\nProcessando informações do Pokémon: numel...\nProcessando informações do Pokémon: nuzleaf...\nProcessando informações do Pokémon: obstagoon...\nProcessando informações do Pokémon: octillery...\nProcessando informações do Pokémon: oddish...\nProcessando informações do Pokémon: omanyte...\nProcessando informações do Pokémon: omastar...\nProcessando informações do Pokémon: onix...\nProcessando informações do Pokémon: oranguru...\nProcessando informações do Pokémon: orbeetle...\nProcessando informações do Pokémon: oricorio...\nErro ao obter informações do Pokémon oricorio: 404 Client Error: Not Found for url: https://pokeapi.co/api/v2/pokemon/oricorio\nProcessando informações do Pokémon: pachirisu...\nProcessando informações do Pokémon: palkia...\nProcessando informações do Pokémon: palpitoad...\nProcessando informações do Pokémon: pancham...\nProcessando informações do Pokémon: pangoro...\nProcessando informações do Pokémon: panpour...\nProcessando informações do Pokémon: pansage...\nProcessando informações do Pokémon: pansham...\nErro ao obter informações do Pokémon pansham: 404 Client Error: Not Found for url: https://pokeapi.co/api/v2/pokemon/pansham\nProcessando informações do Pokémon: pansham...\nErro ao obter informações do Pokémon pansham: 404 Client Error: Not Found for url: https://pokeapi.co/api/v2/pokemon/pansham\nProcessando informações do Pokémon: parasec...\nErro ao obter informações do Pokémon parasec: 404 Client Error: Not Found for url: https://pokeapi.co/api/v2/pokemon/parasec\nProcessando informações do Pokémon: paras...\nProcessando informações do Pokémon: passimian...\nProcessando informações do Pokémon: pawmi...\nProcessando informações do Pokémon: pawniard...\nProcessando informações do Pokémon: pidgeot...\nProcessando informações do Pokémon: pidgeotto...\nProcessando informações do Pokémon: pidgey...\nProcessando informações do Pokémon: pidove...\nProcessando informações do Pokémon: pikachu...\nProcessando informações do Pokémon: pikipek...\nProcessando informações do Pokémon: piloswine...\nProcessando informações do Pokémon: pinsir...\nProcessando informações do Pokémon: piplup...\nProcessando informações do Pokémon: porygon...\nProcessando informações do Pokémon: porygon-z...\nProcessando informações do Pokémon: porygon2...\nProcessando informações do Pokémon: primeape...\nProcessando informações do Pokémon: prinplup...\nProcessando informações do Pokémon: probopass...\nProcessando informações do Pokémon: psyduck...\nProcessando informações do Pokémon: purugly...\nProcessando informações do Pokémon: purrloin...\nProcessando informações do Pokémon: pyroar...\nProcessando informações do Pokémon: quagsire...\nProcessando informações do Pokémon: quaxly...\nProcessando informações do Pokémon: quilladin...\nProcessando informações do Pokémon: quilava...\nProcessando informações do Pokémon: qwilfish...\nProcessando informações do Pokémon: raboot...\nProcessando informações do Pokémon: raichu...\nProcessando informações do Pokémon: raikou...\nProcessando informações do Pokémon: ralts...\nProcessando informações do Pokémon: rampardos...\nProcessando informações do Pokémon: ranguru...\nErro ao obter informações do Pokémon ranguru: 404 Client Error: Not Found for url: https://pokeapi.co/api/v2/pokemon/ranguru\nProcessando informações do Pokémon: rapidash...\nProcessando informações do Pokémon: raticate...\nProcessando informações do Pokémon: rattata...\nProcessando informações do Pokémon: rayquaza...\nProcessando informações do Pokémon: regice...\nProcessando informações do Pokémon: regidrago...\nProcessando informações do Pokémon: regigigas...\nProcessando informações do Pokémon: regirock...\nProcessando informações do Pokémon: registeel...\nProcessando informações do Pokémon: reshiram...\nProcessando informações do Pokémon: ribombee...\nProcessando informações do Pokémon: rillaboom...\nProcessando informações do Pokémon: rhyperior...\nProcessando informações do Pokémon: roselia...\nProcessando informações do Pokémon: roserade...\nProcessando informações do Pokémon: rowlet...\nProcessando informações do Pokémon: rubombee...\nErro ao obter informações do Pokémon rubombee: 404 Client Error: Not Found for url: https://pokeapi.co/api/v2/pokemon/rubombee\nProcessando informações do Pokémon: sableye...\nProcessando informações do Pokémon: salamence...\nProcessando informações do Pokémon: samurott...\nProcessando informações do Pokémon: sandaconda...\nProcessando informações do Pokémon: sandshrew...\nProcessando informações do Pokémon: sandslash...\nProcessando informações do Pokémon: sceptile...\nProcessando informações do Pokémon: scizor...\nProcessando informações do Pokémon: scyther...\nProcessando informações do Pokémon: seadra...\nProcessando informações do Pokémon: seaking...\nProcessando informações do Pokémon: sealeo...\nProcessando informações do Pokémon: seel...\nProcessando informações do Pokémon: seedot...\nProcessando informações do Pokémon: seismitoad...\nProcessando informações do Pokémon: sentret...\nProcessando informações do Pokémon: serperior...\nProcessando informações do Pokémon: servine...\nProcessando informações do Pokémon: seviper...\nProcessando informações do Pokémon: sharpedo...\nProcessando informações do Pokémon: shellder...\nProcessando informações do Pokémon: shellos...\nProcessando informações do Pokémon: shellmet...\nErro ao obter informações do Pokémon shellmet: 404 Client Error: Not Found for url: https://pokeapi.co/api/v2/pokemon/shellmet\nProcessando informações do Pokémon: shiftry...\nProcessando informações do Pokémon: shinx...\nProcessando informações do Pokémon: shroomish...\nProcessando informações do Pokémon: shuckle...\nProcessando informações do Pokémon: silicobra...\nProcessando informações do Pokémon: silicobra...\nProcessando informações do Pokémon: silvalli...\nErro ao obter informações do Pokémon silvalli: 404 Client Error: Not Found for url: https://pokeapi.co/api/v2/pokemon/silvalli\nProcessando informações do Pokémon: simisage...\nProcessando informações do Pokémon: simisear...\nProcessando informações do Pokémon: simipour...\nProcessando informações do Pokémon: sinistea...\nProcessando informações do Pokémon: skarmory...\nProcessando informações do Pokémon: skitty...\nProcessando informações do Pokémon: skolipede...\nErro ao obter informações do Pokémon skolipede: 404 Client Error: Not Found for url: https://pokeapi.co/api/v2/pokemon/skolipede\nProcessando informações do Pokémon: skorupi...\nProcessando informações do Pokémon: slaking...\nProcessando informações do Pokémon: slakoth...\nProcessando informações do Pokémon: slugma...\nProcessando informações do Pokémon: sliggoo...\nProcessando informações do Pokémon: slowbro...\nProcessando informações do Pokémon: slowking...\nProcessando informações do Pokémon: slowpoke...\nProcessando informações do Pokémon: slurpuff...\nProcessando informações do Pokémon: smoochum...\nProcessando informações do Pokémon: snagom...\nErro ao obter informações do Pokémon snagom: 404 Client Error: Not Found for url: https://pokeapi.co/api/v2/pokemon/snagom\nProcessando informações do Pokémon: snorlax...\nProcessando informações do Pokémon: snorunt...\nProcessando informações do Pokémon: sobble...\nProcessando informações do Pokémon: solgaleo...\nProcessando informações do Pokémon: solgaleo...\nProcessando informações do Pokémon: solrock...\nProcessando informações do Pokémon: spearow...\nProcessando informações do Pokémon: spewpa...\nProcessando informações do Pokémon: spheal...\nProcessando informações do Pokémon: spinarak...\nProcessando informações do Pokémon: spiro...\nErro ao obter informações do Pokémon spiro: 404 Client Error: Not Found for url: https://pokeapi.co/api/v2/pokemon/spiro\nProcessando informações do Pokémon: spritzee...\nProcessando informações do Pokémon: stakataka...\nProcessando informações do Pokémon: stantler...\nProcessando informações do Pokémon: staraptor...\nProcessando informações do Pokémon: staravia...\nProcessando informações do Pokémon: starly...\nProcessando informações do Pokémon: starmie...\nProcessando informações do Pokémon: staryu...\nProcessando informações do Pokémon: steenee...\nProcessando informações do Pokémon: steelix...\nProcessando informações do Pokémon: steenee...\nProcessando informações do Pokémon: stoutland...\nProcessando informações do Pokémon: stufful...\nProcessando informações do Pokémon: sudowoodo...\nProcessando informações do Pokémon: suicune...\nProcessando informações do Pokémon: sunflora...\nProcessando informações do Pokémon: sunken...\nErro ao obter informações do Pokémon sunken: 404 Client Error: Not Found for url: https://pokeapi.co/api/v2/pokemon/sunken\nProcessando informações do Pokémon: surskit...\nProcessando informações do Pokémon: swablu...\nProcessando informações do Pokémon: swampert...\nProcessando informações do Pokémon: swanna...\nProcessando informações do Pokémon: swellow...\nProcessando informações do Pokémon: sylveon...\nProcessando informações do Pokémon: toxapex...\nProcessando informações do Pokémon: toxicroak...\nProcessando informações do Pokémon: trapinch...\nProcessando informações do Pokémon: trevenant...\nProcessando informações do Pokémon: treecko...\nProcessando informações do Pokémon: trubbish...\nProcessando informações do Pokémon: tsareena...\nProcessando informações do Pokémon: turtonator...\nProcessando informações do Pokémon: tyranitar...\nProcessando informações do Pokémon: tyrantrum...\nProcessando informações do Pokémon: tyrogue...\nProcessando informações do Pokémon: tynamos...\nErro ao obter informações do Pokémon tynamos: 404 Client Error: Not Found for url: https://pokeapi.co/api/v2/pokemon/tynamos\nProcessando informações do Pokémon: unfezant...\nProcessando informações do Pokémon: uxie...\nProcessando informações do Pokémon: vanilluxe...\nProcessando informações do Pokémon: vanillish...\nProcessando informações do Pokémon: vanillite...\nProcessando informações do Pokémon: vaporeon...\nProcessando informações do Pokémon: venusaur...\nProcessando informações do Pokémon: victini...\nProcessando informações do Pokémon: victreebel...\nProcessando informações do Pokémon: vileplume...\nProcessando informações do Pokémon: volcanion...\nProcessando informações do Pokémon: volcarona...\nProcessando informações do Pokémon: voltorb...\nProcessando informações do Pokémon: wailmer...\nProcessando informações do Pokémon: wailord...\nProcessando informações do Pokémon: walrein...\nProcessando informações do Pokémon: wander...\nErro ao obter informações do Pokémon wander: 404 Client Error: Not Found for url: https://pokeapi.co/api/v2/pokemon/wander\nProcessando informações do Pokémon: watchog...\nProcessando informações do Pokémon: weavile...\nProcessando informações do Pokémon: weedle...\nProcessando informações do Pokémon: weepinbell...\nProcessando informações do Pokémon: whimsicott...\nProcessando informações do Pokémon: whirlipede...\nProcessando informações do Pokémon: whiscash...\nProcessando informações do Pokémon: whismur...\nProcessando informações do Pokémon: wigglytuff...\nProcessando informações do Pokémon: wishiwashi...\nErro ao obter informações do Pokémon wishiwashi: 404 Client Error: Not Found for url: https://pokeapi.co/api/v2/pokemon/wishiwashi\nProcessando informações do Pokémon: woobat...\nProcessando informações do Pokémon: wooloo...\nProcessando informações do Pokémon: wormadam...\nErro ao obter informações do Pokémon wormadam: 404 Client Error: Not Found for url: https://pokeapi.co/api/v2/pokemon/wormadam\nProcessando informações do Pokémon: wurmple...\nProcessando informações do Pokémon: wyrdeer...\nProcessando informações do Pokémon: xerneas...\nProcessando informações do Pokémon: yamask...\nProcessando informações do Pokémon: yamper...\nProcessando informações do Pokémon: yungoos...\nProcessando informações do Pokémon: zangoose...\nProcessando informações do Pokémon: zapdos...\nProcessando informações do Pokémon: zekrom...\nProcessando informações do Pokémon: zigzagoon...\nProcessando informações do Pokémon: zubat...\nProcessando informações do Pokémon: zweilous...\n"
     ]
    },
    {
     "output_type": "stream",
     "name": "stderr",
     "output_type": "stream",
     "text": [
      "/databricks/spark/python/pyspark/sql/pandas/conversion.py:467: UserWarning: createDataFrame attempted Arrow optimization because 'spark.sql.execution.arrow.pyspark.enabled' is set to true; however, failed by the reason below:\n  Expected a string or bytes dtype, got int64\nAttempting non-optimization as 'spark.sql.execution.arrow.pyspark.fallback.enabled' is set to true.\n  warn(msg)\n"
     ]
    }
   ],
   "source": [
    "import requests\n",
    "import pandas as pd\n",
    "from pyspark.sql import SparkSession\n",
    "from pyspark.sql.types import StructType, StructField, StringType, FloatType\n",
    "\n",
    "def get_pokemon_info(pokemon_name):\n",
    "    url = f\"https://pokeapi.co/api/v2/pokemon/{pokemon_name}\"\n",
    "    \n",
    "    try:\n",
    "        response = requests.get(url)\n",
    "        response.raise_for_status()\n",
    "        \n",
    "        pokemon_data = response.json()\n",
    "        return pokemon_data\n",
    "    except requests.exceptions.RequestException as err:\n",
    "        print(f\"Erro ao obter informações do Pokémon {pokemon_name}: {err}\")\n",
    "        return None\n",
    "pokemons = [\n",
    "    'abomasnow', 'abra', 'absol', 'accelgor', 'aegislash', 'aerodactyl', 'aggron', 'aipom', 'alakazam', 'alomomola', 'altaria', 'ambipom', \n",
    "    'amoonguss', 'ampharos', 'anorith', 'arbok', 'arcanine', 'arceus', 'armaldo', 'aromatisse', 'aron', 'articuno', 'audino', 'bagon', \n",
    "    'baltoy', 'banette', 'barboach', 'barraskewda', 'beldum', 'bellossom', 'bellsprout', 'bergmite', 'bidoof', 'bisharp', 'blacephalon', \n",
    "    'blastoise', 'blaziken', 'blipbug', 'boltund', 'bounsweet', 'braixen', 'brionne', 'bronzer', 'butterfree', 'buzzwole', 'cacturne', \n",
    "    'calyrex', 'carbink', 'carnivine', 'carracosta', 'castform', 'caterpie', 'celebi', 'chandelure', 'chansey', 'charizard', \n",
    "    'charmeleon', 'charmander', 'chatot', 'cherrim', 'cherubi', 'chespin', 'chikorita', 'chimchar', 'chinchou', 'chingling', \n",
    "    'cinccino', 'cinderace', 'clauncher', 'clawitzer', 'claydol', 'clefable', 'clefairy', 'cleffa', 'cloyster', 'cofagrigus', \n",
    "    'combee', 'comfey', 'conkeldurr', 'corphish', 'corsola', 'cottonee', 'crabominable', 'crabrawler', 'cradily', 'croagunk', 'crobat', \n",
    "    'croconaw', 'crustle', 'cubone', 'cutiefly', 'darmanitane', 'dartrix', 'darmanitan', 'dedenne', 'delcatty', 'delibird', \n",
    "    'dewgong', 'dewpider', 'diggersby', 'diancie', 'diglett', 'ditto', 'dodrio', 'doduo', 'donphan', 'dottler', 'dracozolt', \n",
    "    'dragapult', 'dragonair', 'dragonite', 'dratini', 'drifblim', 'drifloon', 'drowzee', 'ducklett', 'dugtrio', 'dunsparce', \n",
    "    'duraludon', 'dustox', 'dwebble', 'eelektross', 'eevee', 'electabuzz', 'electivire', 'electrike', 'elgyem', 'emolga', \n",
    "    'empoleon', 'emolga', 'entei', 'escavalier', 'espurr', 'exeggutor', 'exeggcute', 'exploud', 'farfetch\\'d', 'fearow', \n",
    "    'feebas', 'fennekin', 'ferrothorn', 'finneon', 'flapple', 'flaaffy', 'flareon', 'flapple', 'fletchinder', 'fletchling', \n",
    "    'floatzel', 'florges', 'foongus', 'forretress', 'frillish', 'frogadier', 'froakie', 'froslass', 'furret', 'gabite', \n",
    "    'gallade', 'gardevoir', 'gengar', 'gigalith', 'gimmighoul', 'gogoat', 'golbat', 'goldeen', 'golduck', 'golett', \n",
    "    'golem', 'golisopod', 'golurk', 'goodra', 'goomy', 'gourgeist', 'granbull', 'grimer', 'grotle', 'grovyle', \n",
    "    'gulpin', 'guzzlord', 'helioptile', 'heliolisk', 'herdier', 'heracross', 'hippowdon', 'hitmonchan', 'hitmonlee', 'hitmontop', \n",
    "    'ho-oh', 'honchkrow', 'hoothoot', 'hoppip', 'horse', 'houndoom', 'houndour', 'huntail', 'hydreigon', 'hypno', \n",
    "    'igglybuff', 'incineroar', 'inteleon', 'jangmo-o', 'jigglypuff', 'jolteon', 'jynx', 'kabuto', 'kabutops', 'kadabra', \n",
    "    'kaimon', 'kakuna', 'kalos', 'kecleon', 'keldeo', 'kingdra', 'kingler', 'kirlia', 'klang', 'klink', \n",
    "    'klinklang', 'koffing', 'komala', 'kommo-o', 'krabby', 'kricketot', 'kricketune', 'krookodile', 'kyogre', 'kyurem', \n",
    "    'landorus', 'lanturn', 'lapras', 'larvesta', 'larvitar', 'latias', 'latios', 'leafeon', 'leavanny', 'ledian', \n",
    "    'ledyba', 'lickilicky', 'lickitung', 'liepard', 'lileep', 'lilligant', 'linoone', 'litwick', 'litten', 'livani', \n",
    "    'lopunny', 'lotad', 'loudred', 'lucario', 'ludicolo', 'lumineon', 'lunala', 'lunatone', 'luxio', 'luxray', \n",
    "    'magby', 'magcargo', 'magikarp', 'magmar', 'magmortar', 'magnemite', 'mamoswine', 'manaphy', 'mandibuzz', 'manectric', \n",
    "    'maractus', 'mareep', 'marill', 'marshtomp', 'masquerain', 'mawile', 'medicham', 'meditite', 'melmetal', 'meltan', \n",
    "    'mesprit', 'metagross', 'metang', 'metapod', 'mew', 'mewtwo', 'mimikyu', 'minccino', 'minun', 'mismagius', \n",
    "    'mistralton', 'mitegala', 'mienshao', 'mightyena', 'milcery', 'milotic', 'mime jr.', 'mimikyu', 'minccino', 'minun', \n",
    "    'mismagius', 'mistralton', 'mitegala', 'mienshao', 'mightyena', 'milcery', 'milotic', 'mime jr.', 'minior', \n",
    "    'misplor', 'moltres', 'monferno', 'morelull', 'mudbray', 'mudkip', 'muk', 'mukuhawk', 'mukushin', 'munna', \n",
    "    'murkrow', 'musharna', 'naganadel', 'natu', 'necrozma', 'nidoran♀', 'nidoran♂', 'nidorina', 'nidorino', 'nidoqueen', \n",
    "    'nidoking', 'ninetales', 'noctowl', 'noibat', 'noivern', 'numel', 'nuzleaf', 'obstagoon', 'octillery', 'oddish', \n",
    "    'omanyte', 'omastar', 'onix', 'oranguru', 'orbeetle', 'oricorio', 'pachirisu', 'palkia', 'palpitoad', 'pancham', \n",
    "    'pangoro', 'panpour', 'pansage', 'pansham', 'pansham', 'parasec', 'paras', 'passimian', 'pawmi', 'pawniard', \n",
    "    'pidgeot', 'pidgeotto', 'pidgey', 'pidove', 'pikachu', 'pikipek', 'piloswine', 'pinsir', 'piplup', 'porygon', \n",
    "    'porygon-z', 'porygon2', 'primeape', 'prinplup', 'probopass', 'psyduck', 'purugly', 'purrloin', 'pyroar', 'quagsire', \n",
    "    'quaxly', 'quilladin', 'quilava', 'qwilfish', 'raboot', 'raichu', 'raikou', 'ralts', 'rampardos', 'ranguru', \n",
    "    'rapidash', 'raticate', 'rattata', 'rayquaza', 'regice', 'regidrago', 'regigigas', 'regirock', 'registeel', \n",
    "    'reshiram', 'ribombee', 'rillaboom', 'rhyperior', 'roselia', 'roserade', 'rowlet', 'rubombee', 'sableye', 'salamence', \n",
    "    'samurott', 'sandaconda', 'sandshrew', 'sandslash', 'sceptile', 'scizor', 'scyther', 'seadra', 'seaking', 'sealeo', \n",
    "    'seel', 'seedot', 'seismitoad', 'sentret', 'serperior', 'servine', 'seviper', 'sharpedo', 'shellder', 'shellos', \n",
    "    'shellmet', 'shiftry', 'shinx', 'shroomish', 'shuckle', 'silicobra', 'silicobra', 'silvalli', 'simisage', 'simisear', \n",
    "    'simipour', 'sinistea', 'skarmory', 'skitty', 'skolipede', 'skorupi', 'slaking', 'slakoth', 'slugma', 'sliggoo', \n",
    "    'slowbro', 'slowking', 'slowpoke', 'slurpuff', 'smoochum', 'snagom', 'snorlax', 'snorunt', 'sobble', 'solgaleo', \n",
    "    'solgaleo', 'solrock', 'spearow', 'spewpa', 'spheal', 'spinarak', 'spiro', 'spritzee', 'stakataka', 'stantler', \n",
    "    'staraptor', 'staravia', 'starly', 'starmie', 'staryu', 'steenee', 'steelix', 'steenee', 'stoutland', 'stufful', \n",
    "    'sudowoodo', 'suicune', 'sunflora', 'sunken', 'surskit', 'swablu', 'swampert', 'swanna', 'swellow', 'sylveon', \n",
    "    'toxapex', 'toxicroak', 'trapinch', 'trevenant', 'treecko', 'trubbish', 'tsareena', 'turtonator', 'tyranitar', 'tyrantrum', \n",
    "    'tyrogue', 'tynamos', 'unfezant', 'uxie', 'vanilluxe', 'vanillish', 'vanillite', 'vaporeon', 'venusaur', 'victini', \n",
    "    'victreebel', 'vileplume', 'volcanion', 'volcarona', 'voltorb', 'wailmer', 'wailord', 'walrein', 'wander', \n",
    "    'watchog', 'weavile', 'weedle', 'weepinbell', 'whimsicott', 'whirlipede', 'whiscash', 'whismur', 'wigglytuff', \n",
    "    'wishiwashi', 'woobat', 'wooloo', 'wormadam', 'wurmple', 'wyrdeer', 'xerneas', 'yamask', 'yamper', 'yungoos', \n",
    "    'zangoose', 'zapdos', 'zekrom', 'zigzagoon', 'zubat', 'zweilous'\n",
    "]\n",
    "pokemon_records = []\n",
    "\n",
    "for pokemon in pokemons:\n",
    "    print(f\"Processando informações do Pokémon: {pokemon}...\")\n",
    "    pokemon_info = get_pokemon_info(pokemon)\n",
    "    \n",
    "    if pokemon_info:\n",
    "        name = pokemon_info['name'].capitalize()\n",
    "        height = pokemon_info['height'] / 10.0 \n",
    "        weight = pokemon_info['weight'] / 10.0  \n",
    "        abilities = ', '.join([ability['ability']['name'].capitalize() for ability in pokemon_info['abilities']])\n",
    "        base_experience = pokemon_info['base_experience']\n",
    "        stats = {stat['stat']['name']: stat['base_stat'] for stat in pokemon_info['stats']}\n",
    "        types = ', '.join([ptype['type']['name'].capitalize() for ptype in pokemon_info['types']])\n",
    "\n",
    "        \n",
    "        pokemon_records.append((name, height, weight, abilities, base_experience, stats, types))\n",
    "\n",
    "columns = ['Nome', 'Altura', 'Peso', 'Habilidades', 'Experiencia_Base', 'Status', \"tipos\"]\n",
    "df_pandas = pd.DataFrame(pokemon_records, columns=columns)\n",
    "\n",
    "spark = SparkSession.builder.appName(\"PokemonData\").getOrCreate()\n",
    "\n",
    "schema = StructType([\n",
    "    StructField(\"Nome\", StringType(), True),\n",
    "    StructField(\"Altura\", FloatType(), True),\n",
    "    StructField(\"Peso\", FloatType(), True),\n",
    "    StructField(\"Habilidades\", StringType(), True),\n",
    "    StructField(\"Experiencia_Base\", StringType(), True),\n",
    "    StructField(\"Status\", StringType(), True),\n",
    "    StructField(\"tipos\", StringType(), True)\n",
    "])\n",
    "\n",
    "df_spark = spark.createDataFrame(df_pandas, schema=schema)\n",
    "\n",
    "df_spark.createOrReplaceTempView(\"vw_pokemons\")\n"
   ]
  },
  {
   "cell_type": "code",
   "execution_count": 0,
   "metadata": {
    "application/vnd.databricks.v1+cell": {
     "cellMetadata": {
      "byteLimit": 2048000,
      "rowLimit": 10000
     },
     "inputWidgets": {},
     "nuid": "6da590aa-59b5-4f46-81d8-9b129ed86415",
     "showTitle": false,
     "title": ""
    }
   },
   "outputs": [],
   "source": [
    "df = spark.sql(\"select *, dateadd(hour, -3, current_timestamp()) as dt_referencia_criacao from {df}\", df = df_spark )\n",
    "# df.display()"
   ]
  },
  {
   "cell_type": "code",
   "execution_count": 0,
   "metadata": {
    "application/vnd.databricks.v1+cell": {
     "cellMetadata": {
      "byteLimit": 2048000,
      "rowLimit": 10000
     },
     "inputWidgets": {},
     "nuid": "9bb4c73c-43a9-4ccd-b1db-ebdb41448658",
     "showTitle": false,
     "title": ""
    }
   },
   "outputs": [],
   "source": [
    " (df\n",
    "     .write\n",
    "     .format(\"delta\")\n",
    "     .mode(\"overwrite\")\n",
    "     .option(\"overwriteSchema\", True)\n",
    "     .save(\"/dbfs/tmp/dbstage/tbPokemon\")\n",
    ")"
   ]
  },
  {
   "cell_type": "code",
   "execution_count": 0,
   "metadata": {
    "application/vnd.databricks.v1+cell": {
     "cellMetadata": {
      "byteLimit": 2048000,
      "implicitDf": true,
      "rowLimit": 10000
     },
     "inputWidgets": {},
     "nuid": "7ef21261-5e44-4c63-9a30-f95b08f36dc0",
     "showTitle": false,
     "title": ""
    }
   },
   "outputs": [
    {
     "output_type": "display_data",
     "data": {
      "text/html": [
       "<style scoped>\n",
       "  .table-result-container {\n",
       "    max-height: 300px;\n",
       "    overflow: auto;\n",
       "  }\n",
       "  table, th, td {\n",
       "    border: 1px solid black;\n",
       "    border-collapse: collapse;\n",
       "  }\n",
       "  th, td {\n",
       "    padding: 5px;\n",
       "  }\n",
       "  th {\n",
       "    text-align: left;\n",
       "  }\n",
       "</style><div class='table-result-container'><table class='table-result'><thead style='background-color: white'><tr></tr></thead><tbody></tbody></table></div>"
      ]
     },
     "metadata": {
      "application/vnd.databricks.v1+output": {
       "addedWidgets": {},
       "aggData": [],
       "aggError": "",
       "aggOverflow": false,
       "aggSchema": [],
       "aggSeriesLimitReached": false,
       "aggType": "",
       "arguments": {},
       "columnCustomDisplayInfos": {},
       "data": [],
       "datasetInfos": [],
       "dbfsResultPath": null,
       "isJsonSchema": true,
       "metadata": {},
       "overflow": false,
       "plotOptions": {
        "customPlotOptions": {},
        "displayType": "table",
        "pivotAggregation": null,
        "pivotColumns": null,
        "xColumns": null,
        "yColumns": null
       },
       "removedWidgets": [],
       "schema": [],
       "type": "table"
      }
     },
     "output_type": "display_data"
    }
   ],
   "source": [
    "%sql \n",
    "create table if not exists dbstage.tbPokemon using delta location  \"/dbfs/tmp/dbstage/tbPokemon\""
   ]
  },
  {
   "cell_type": "code",
   "execution_count": 0,
   "metadata": {
    "application/vnd.databricks.v1+cell": {
     "cellMetadata": {
      "byteLimit": 2048000,
      "implicitDf": true,
      "rowLimit": 10000
     },
     "inputWidgets": {},
     "nuid": "2620a00b-3a56-4b9e-966a-1413eca239f1",
     "showTitle": false,
     "title": ""
    }
   },
   "outputs": [
    {
     "output_type": "display_data",
     "data": {
      "text/html": [
       "<style scoped>\n",
       "  .table-result-container {\n",
       "    max-height: 300px;\n",
       "    overflow: auto;\n",
       "  }\n",
       "  table, th, td {\n",
       "    border: 1px solid black;\n",
       "    border-collapse: collapse;\n",
       "  }\n",
       "  th, td {\n",
       "    padding: 5px;\n",
       "  }\n",
       "  th {\n",
       "    text-align: left;\n",
       "  }\n",
       "</style><div class='table-result-container'><table class='table-result'><thead style='background-color: white'><tr><th>Nome</th><th>Altura</th><th>Peso</th><th>Habilidades</th><th>Experiencia_Base</th><th>Status</th><th>tipos</th><th>dt_referencia_criacao</th></tr></thead><tbody><tr><td>Steenee</td><td>0.7</td><td>8.2</td><td>Leaf-guard, Oblivious, Sweet-veil</td><td>102</td><td>{special-attack=40, defense=48, attack=40, hp=52, special-defense=48, speed=62}</td><td>Grass</td><td>2024-10-01T19:16:09.849+0000</td></tr><tr><td>Steelix</td><td>9.2</td><td>400.0</td><td>Rock-head, Sturdy, Sheer-force</td><td>179</td><td>{special-attack=55, defense=200, attack=85, hp=75, special-defense=65, speed=30}</td><td>Steel, Ground</td><td>2024-10-01T19:16:09.849+0000</td></tr><tr><td>Steenee</td><td>0.7</td><td>8.2</td><td>Leaf-guard, Oblivious, Sweet-veil</td><td>102</td><td>{special-attack=40, defense=48, attack=40, hp=52, special-defense=48, speed=62}</td><td>Grass</td><td>2024-10-01T19:16:09.849+0000</td></tr><tr><td>Stoutland</td><td>1.2</td><td>61.0</td><td>Intimidate, Sand-rush, Scrappy</td><td>250</td><td>{special-attack=45, defense=90, attack=110, hp=85, special-defense=90, speed=80}</td><td>Normal</td><td>2024-10-01T19:16:09.849+0000</td></tr><tr><td>Stufful</td><td>0.5</td><td>6.8</td><td>Fluffy, Klutz, Cute-charm</td><td>68</td><td>{special-attack=45, defense=50, attack=75, hp=70, special-defense=50, speed=50}</td><td>Normal, Fighting</td><td>2024-10-01T19:16:09.849+0000</td></tr><tr><td>Sudowoodo</td><td>1.2</td><td>38.0</td><td>Sturdy, Rock-head, Rattled</td><td>144</td><td>{special-attack=30, defense=115, attack=100, hp=70, special-defense=65, speed=30}</td><td>Rock</td><td>2024-10-01T19:16:09.849+0000</td></tr><tr><td>Suicune</td><td>2.0</td><td>187.0</td><td>Pressure, Inner-focus</td><td>290</td><td>{special-attack=90, defense=115, attack=75, hp=100, special-defense=115, speed=85}</td><td>Water</td><td>2024-10-01T19:16:09.849+0000</td></tr><tr><td>Sunflora</td><td>0.8</td><td>8.5</td><td>Chlorophyll, Solar-power, Early-bird</td><td>149</td><td>{special-attack=105, defense=55, attack=75, hp=75, special-defense=85, speed=30}</td><td>Grass</td><td>2024-10-01T19:16:09.849+0000</td></tr><tr><td>Surskit</td><td>0.5</td><td>1.7</td><td>Swift-swim, Rain-dish</td><td>54</td><td>{special-attack=50, defense=32, attack=30, hp=40, special-defense=52, speed=65}</td><td>Bug, Water</td><td>2024-10-01T19:16:09.849+0000</td></tr><tr><td>Swablu</td><td>0.4</td><td>1.2</td><td>Natural-cure, Cloud-nine</td><td>62</td><td>{special-attack=40, defense=60, attack=40, hp=45, special-defense=75, speed=50}</td><td>Normal, Flying</td><td>2024-10-01T19:16:09.849+0000</td></tr><tr><td>Swampert</td><td>1.5</td><td>81.9</td><td>Torrent, Damp</td><td>268</td><td>{special-attack=85, defense=90, attack=110, hp=100, special-defense=90, speed=60}</td><td>Water, Ground</td><td>2024-10-01T19:16:09.849+0000</td></tr><tr><td>Swanna</td><td>1.3</td><td>24.2</td><td>Keen-eye, Big-pecks, Hydration</td><td>166</td><td>{special-attack=87, defense=63, attack=87, hp=75, special-defense=63, speed=98}</td><td>Water, Flying</td><td>2024-10-01T19:16:09.849+0000</td></tr><tr><td>Swellow</td><td>0.7</td><td>19.8</td><td>Guts, Scrappy</td><td>159</td><td>{special-attack=75, defense=60, attack=85, hp=60, special-defense=50, speed=125}</td><td>Normal, Flying</td><td>2024-10-01T19:16:09.849+0000</td></tr><tr><td>Sylveon</td><td>1.0</td><td>23.5</td><td>Cute-charm, Pixilate</td><td>184</td><td>{special-attack=110, defense=65, attack=65, hp=95, special-defense=130, speed=60}</td><td>Fairy</td><td>2024-10-01T19:16:09.849+0000</td></tr><tr><td>Toxapex</td><td>0.7</td><td>14.5</td><td>Merciless, Limber, Regenerator</td><td>173</td><td>{special-attack=53, defense=152, attack=63, hp=50, special-defense=142, speed=35}</td><td>Poison, Water</td><td>2024-10-01T19:16:09.849+0000</td></tr><tr><td>Toxicroak</td><td>1.3</td><td>44.4</td><td>Anticipation, Dry-skin, Poison-touch</td><td>172</td><td>{special-attack=86, defense=65, attack=106, hp=83, special-defense=65, speed=85}</td><td>Poison, Fighting</td><td>2024-10-01T19:16:09.849+0000</td></tr><tr><td>Trapinch</td><td>0.7</td><td>15.0</td><td>Hyper-cutter, Arena-trap, Sheer-force</td><td>58</td><td>{special-attack=45, defense=45, attack=100, hp=45, special-defense=45, speed=10}</td><td>Ground</td><td>2024-10-01T19:16:09.849+0000</td></tr><tr><td>Trevenant</td><td>1.5</td><td>71.0</td><td>Natural-cure, Frisk, Harvest</td><td>166</td><td>{special-attack=65, defense=76, attack=110, hp=85, special-defense=82, speed=56}</td><td>Ghost, Grass</td><td>2024-10-01T19:16:09.849+0000</td></tr><tr><td>Treecko</td><td>0.5</td><td>5.0</td><td>Overgrow, Unburden</td><td>62</td><td>{special-attack=65, defense=35, attack=45, hp=40, special-defense=55, speed=70}</td><td>Grass</td><td>2024-10-01T19:16:09.849+0000</td></tr><tr><td>Trubbish</td><td>0.6</td><td>31.0</td><td>Stench, Sticky-hold, Aftermath</td><td>66</td><td>{special-attack=40, defense=62, attack=50, hp=50, special-defense=62, speed=65}</td><td>Poison</td><td>2024-10-01T19:16:09.849+0000</td></tr><tr><td>Tsareena</td><td>1.2</td><td>21.4</td><td>Leaf-guard, Queenly-majesty, Sweet-veil</td><td>255</td><td>{special-attack=50, defense=98, attack=120, hp=72, special-defense=98, speed=72}</td><td>Grass</td><td>2024-10-01T19:16:09.849+0000</td></tr><tr><td>Turtonator</td><td>2.0</td><td>212.0</td><td>Shell-armor</td><td>170</td><td>{special-attack=91, defense=135, attack=78, hp=60, special-defense=85, speed=36}</td><td>Fire, Dragon</td><td>2024-10-01T19:16:09.849+0000</td></tr><tr><td>Tyranitar</td><td>2.0</td><td>202.0</td><td>Sand-stream, Unnerve</td><td>300</td><td>{special-attack=95, defense=110, attack=134, hp=100, special-defense=100, speed=61}</td><td>Rock, Dark</td><td>2024-10-01T19:16:09.849+0000</td></tr><tr><td>Tyrantrum</td><td>2.5</td><td>270.0</td><td>Strong-jaw, Rock-head</td><td>182</td><td>{special-attack=69, defense=119, attack=121, hp=82, special-defense=59, speed=71}</td><td>Rock, Dragon</td><td>2024-10-01T19:16:09.849+0000</td></tr><tr><td>Tyrogue</td><td>0.7</td><td>21.0</td><td>Guts, Steadfast, Vital-spirit</td><td>42</td><td>{special-attack=35, defense=35, attack=35, hp=35, special-defense=35, speed=35}</td><td>Fighting</td><td>2024-10-01T19:16:09.849+0000</td></tr><tr><td>Unfezant</td><td>1.2</td><td>29.0</td><td>Big-pecks, Super-luck, Rivalry</td><td>244</td><td>{special-attack=65, defense=80, attack=115, hp=80, special-defense=55, speed=93}</td><td>Normal, Flying</td><td>2024-10-01T19:16:09.849+0000</td></tr><tr><td>Uxie</td><td>0.3</td><td>0.3</td><td>Levitate</td><td>290</td><td>{special-attack=75, defense=130, attack=75, hp=75, special-defense=130, speed=95}</td><td>Psychic</td><td>2024-10-01T19:16:09.849+0000</td></tr><tr><td>Vanilluxe</td><td>1.3</td><td>57.5</td><td>Ice-body, Snow-warning, Weak-armor</td><td>268</td><td>{special-attack=110, defense=85, attack=95, hp=71, special-defense=95, speed=79}</td><td>Ice</td><td>2024-10-01T19:16:09.849+0000</td></tr><tr><td>Vanillish</td><td>1.1</td><td>41.0</td><td>Ice-body, Snow-cloak, Weak-armor</td><td>138</td><td>{special-attack=80, defense=65, attack=65, hp=51, special-defense=75, speed=59}</td><td>Ice</td><td>2024-10-01T19:16:09.849+0000</td></tr><tr><td>Vanillite</td><td>0.4</td><td>5.7</td><td>Ice-body, Snow-cloak, Weak-armor</td><td>61</td><td>{special-attack=65, defense=50, attack=50, hp=36, special-defense=60, speed=44}</td><td>Ice</td><td>2024-10-01T19:16:09.849+0000</td></tr><tr><td>Vaporeon</td><td>1.0</td><td>29.0</td><td>Water-absorb, Hydration</td><td>184</td><td>{special-attack=110, defense=60, attack=65, hp=130, special-defense=95, speed=65}</td><td>Water</td><td>2024-10-01T19:16:09.849+0000</td></tr><tr><td>Venusaur</td><td>2.0</td><td>100.0</td><td>Overgrow, Chlorophyll</td><td>263</td><td>{special-attack=100, defense=83, attack=82, hp=80, special-defense=100, speed=80}</td><td>Grass, Poison</td><td>2024-10-01T19:16:09.849+0000</td></tr><tr><td>Victini</td><td>0.4</td><td>4.0</td><td>Victory-star</td><td>300</td><td>{special-attack=100, defense=100, attack=100, hp=100, special-defense=100, speed=100}</td><td>Psychic, Fire</td><td>2024-10-01T19:16:09.849+0000</td></tr><tr><td>Victreebel</td><td>1.7</td><td>15.5</td><td>Chlorophyll, Gluttony</td><td>221</td><td>{special-attack=100, defense=65, attack=105, hp=80, special-defense=70, speed=70}</td><td>Grass, Poison</td><td>2024-10-01T19:16:09.849+0000</td></tr><tr><td>Vileplume</td><td>1.2</td><td>18.6</td><td>Chlorophyll, Effect-spore</td><td>245</td><td>{special-attack=110, defense=85, attack=80, hp=75, special-defense=90, speed=50}</td><td>Grass, Poison</td><td>2024-10-01T19:16:09.849+0000</td></tr><tr><td>Volcanion</td><td>1.7</td><td>195.0</td><td>Water-absorb</td><td>300</td><td>{special-attack=130, defense=120, attack=110, hp=80, special-defense=90, speed=70}</td><td>Fire, Water</td><td>2024-10-01T19:16:09.849+0000</td></tr><tr><td>Volcarona</td><td>1.6</td><td>46.0</td><td>Flame-body, Swarm</td><td>275</td><td>{special-attack=135, defense=65, attack=60, hp=85, special-defense=105, speed=100}</td><td>Bug, Fire</td><td>2024-10-01T19:16:09.849+0000</td></tr><tr><td>Voltorb</td><td>0.5</td><td>10.4</td><td>Soundproof, Static, Aftermath</td><td>66</td><td>{special-attack=55, defense=50, attack=30, hp=40, special-defense=55, speed=100}</td><td>Electric</td><td>2024-10-01T19:16:09.849+0000</td></tr><tr><td>Wailmer</td><td>2.0</td><td>130.0</td><td>Water-veil, Oblivious, Pressure</td><td>80</td><td>{special-attack=70, defense=35, attack=70, hp=130, special-defense=35, speed=60}</td><td>Water</td><td>2024-10-01T19:16:09.849+0000</td></tr><tr><td>Wailord</td><td>14.5</td><td>398.0</td><td>Water-veil, Oblivious, Pressure</td><td>175</td><td>{special-attack=90, defense=45, attack=90, hp=170, special-defense=45, speed=60}</td><td>Water</td><td>2024-10-01T19:16:09.849+0000</td></tr><tr><td>Walrein</td><td>1.4</td><td>150.6</td><td>Thick-fat, Ice-body, Oblivious</td><td>265</td><td>{special-attack=95, defense=90, attack=80, hp=110, special-defense=90, speed=65}</td><td>Ice, Water</td><td>2024-10-01T19:16:09.849+0000</td></tr><tr><td>Watchog</td><td>1.1</td><td>27.0</td><td>Illuminate, Keen-eye, Analytic</td><td>147</td><td>{special-attack=60, defense=69, attack=85, hp=60, special-defense=69, speed=77}</td><td>Normal</td><td>2024-10-01T19:16:09.849+0000</td></tr><tr><td>Weavile</td><td>1.1</td><td>34.0</td><td>Pressure, Pickpocket</td><td>179</td><td>{special-attack=45, defense=65, attack=120, hp=70, special-defense=85, speed=125}</td><td>Dark, Ice</td><td>2024-10-01T19:16:09.849+0000</td></tr><tr><td>Weedle</td><td>0.3</td><td>3.2</td><td>Shield-dust, Run-away</td><td>39</td><td>{special-attack=20, defense=30, attack=35, hp=40, special-defense=20, speed=50}</td><td>Bug, Poison</td><td>2024-10-01T19:16:09.849+0000</td></tr><tr><td>Weepinbell</td><td>1.0</td><td>6.4</td><td>Chlorophyll, Gluttony</td><td>137</td><td>{special-attack=85, defense=50, attack=90, hp=65, special-defense=45, speed=55}</td><td>Grass, Poison</td><td>2024-10-01T19:16:09.849+0000</td></tr><tr><td>Whimsicott</td><td>0.7</td><td>6.6</td><td>Prankster, Infiltrator, Chlorophyll</td><td>168</td><td>{special-attack=77, defense=85, attack=67, hp=60, special-defense=75, speed=116}</td><td>Grass, Fairy</td><td>2024-10-01T19:16:09.849+0000</td></tr><tr><td>Whirlipede</td><td>1.2</td><td>58.5</td><td>Poison-point, Swarm, Speed-boost</td><td>126</td><td>{special-attack=40, defense=99, attack=55, hp=40, special-defense=79, speed=47}</td><td>Bug, Poison</td><td>2024-10-01T19:16:09.849+0000</td></tr><tr><td>Whiscash</td><td>0.9</td><td>23.6</td><td>Oblivious, Anticipation, Hydration</td><td>164</td><td>{special-attack=76, defense=73, attack=78, hp=110, special-defense=71, speed=60}</td><td>Water, Ground</td><td>2024-10-01T19:16:09.849+0000</td></tr><tr><td>Whismur</td><td>0.6</td><td>16.3</td><td>Soundproof, Rattled</td><td>48</td><td>{special-attack=51, defense=23, attack=51, hp=64, special-defense=23, speed=28}</td><td>Normal</td><td>2024-10-01T19:16:09.849+0000</td></tr><tr><td>Wigglytuff</td><td>1.0</td><td>12.0</td><td>Cute-charm, Competitive, Frisk</td><td>218</td><td>{special-attack=85, defense=45, attack=70, hp=140, special-defense=50, speed=45}</td><td>Normal, Fairy</td><td>2024-10-01T19:16:09.849+0000</td></tr><tr><td>Woobat</td><td>0.4</td><td>2.1</td><td>Unaware, Klutz, Simple</td><td>65</td><td>{special-attack=55, defense=43, attack=45, hp=65, special-defense=43, speed=72}</td><td>Psychic, Flying</td><td>2024-10-01T19:16:09.849+0000</td></tr><tr><td>Wooloo</td><td>0.6</td><td>6.0</td><td>Fluffy, Run-away, Bulletproof</td><td>122</td><td>{special-attack=40, defense=55, attack=40, hp=42, special-defense=45, speed=48}</td><td>Normal</td><td>2024-10-01T19:16:09.849+0000</td></tr><tr><td>Wurmple</td><td>0.3</td><td>3.6</td><td>Shield-dust, Run-away</td><td>56</td><td>{special-attack=20, defense=35, attack=45, hp=45, special-defense=30, speed=20}</td><td>Bug</td><td>2024-10-01T19:16:09.849+0000</td></tr><tr><td>Wyrdeer</td><td>1.8</td><td>95.1</td><td>Intimidate, Frisk, Sap-sipper</td><td>263</td><td>{special-attack=105, defense=72, attack=105, hp=103, special-defense=75, speed=65}</td><td>Normal, Psychic</td><td>2024-10-01T19:16:09.849+0000</td></tr><tr><td>Xerneas</td><td>3.0</td><td>215.0</td><td>Fairy-aura</td><td>340</td><td>{special-attack=131, defense=95, attack=131, hp=126, special-defense=98, speed=99}</td><td>Fairy</td><td>2024-10-01T19:16:09.849+0000</td></tr><tr><td>Yamask</td><td>0.5</td><td>1.5</td><td>Mummy</td><td>61</td><td>{special-attack=55, defense=85, attack=30, hp=38, special-defense=65, speed=30}</td><td>Ghost</td><td>2024-10-01T19:16:09.849+0000</td></tr><tr><td>Yamper</td><td>0.3</td><td>13.5</td><td>Ball-fetch, Rattled</td><td>54</td><td>{special-attack=40, defense=50, attack=45, hp=59, special-defense=50, speed=26}</td><td>Electric</td><td>2024-10-01T19:16:09.849+0000</td></tr><tr><td>Yungoos</td><td>0.4</td><td>6.0</td><td>Stakeout, Strong-jaw, Adaptability</td><td>51</td><td>{special-attack=30, defense=30, attack=70, hp=48, special-defense=30, speed=45}</td><td>Normal</td><td>2024-10-01T19:16:09.849+0000</td></tr><tr><td>Zangoose</td><td>1.3</td><td>40.3</td><td>Immunity, Toxic-boost</td><td>160</td><td>{special-attack=60, defense=60, attack=115, hp=73, special-defense=60, speed=90}</td><td>Normal</td><td>2024-10-01T19:16:09.849+0000</td></tr><tr><td>Zapdos</td><td>1.6</td><td>52.6</td><td>Pressure, Static</td><td>290</td><td>{special-attack=125, defense=85, attack=90, hp=90, special-defense=90, speed=100}</td><td>Electric, Flying</td><td>2024-10-01T19:16:09.849+0000</td></tr><tr><td>Zekrom</td><td>2.9</td><td>345.0</td><td>Teravolt</td><td>340</td><td>{special-attack=120, defense=120, attack=150, hp=100, special-defense=100, speed=90}</td><td>Dragon, Electric</td><td>2024-10-01T19:16:09.849+0000</td></tr><tr><td>Zigzagoon</td><td>0.4</td><td>17.5</td><td>Pickup, Gluttony, Quick-feet</td><td>56</td><td>{special-attack=30, defense=41, attack=30, hp=38, special-defense=41, speed=60}</td><td>Normal</td><td>2024-10-01T19:16:09.849+0000</td></tr><tr><td>Zubat</td><td>0.8</td><td>7.5</td><td>Inner-focus, Infiltrator</td><td>49</td><td>{special-attack=30, defense=35, attack=45, hp=40, special-defense=40, speed=55}</td><td>Poison, Flying</td><td>2024-10-01T19:16:09.849+0000</td></tr><tr><td>Zweilous</td><td>1.4</td><td>50.0</td><td>Hustle</td><td>147</td><td>{special-attack=65, defense=70, attack=85, hp=72, special-defense=70, speed=58}</td><td>Dark, Dragon</td><td>2024-10-01T19:16:09.849+0000</td></tr><tr><td>Chinchou</td><td>0.5</td><td>12.0</td><td>Volt-absorb, Illuminate, Water-absorb</td><td>66</td><td>{special-attack=56, defense=38, attack=38, hp=75, special-defense=56, speed=67}</td><td>Water, Electric</td><td>2024-10-01T19:16:09.849+0000</td></tr><tr><td>Chingling</td><td>0.2</td><td>0.6</td><td>Levitate</td><td>57</td><td>{special-attack=65, defense=50, attack=30, hp=45, special-defense=50, speed=45}</td><td>Psychic</td><td>2024-10-01T19:16:09.849+0000</td></tr><tr><td>Cinccino</td><td>0.5</td><td>7.5</td><td>Cute-charm, Technician, Skill-link</td><td>165</td><td>{special-attack=65, defense=60, attack=95, hp=75, special-defense=60, speed=115}</td><td>Normal</td><td>2024-10-01T19:16:09.849+0000</td></tr><tr><td>Cinderace</td><td>1.4</td><td>33.0</td><td>Blaze, Libero</td><td>265</td><td>{special-attack=65, defense=75, attack=116, hp=80, special-defense=75, speed=119}</td><td>Fire</td><td>2024-10-01T19:16:09.849+0000</td></tr><tr><td>Clauncher</td><td>0.5</td><td>8.3</td><td>Mega-launcher</td><td>66</td><td>{special-attack=58, defense=62, attack=53, hp=50, special-defense=63, speed=44}</td><td>Water</td><td>2024-10-01T19:16:09.849+0000</td></tr><tr><td>Clawitzer</td><td>1.3</td><td>35.3</td><td>Mega-launcher</td><td>100</td><td>{special-attack=120, defense=88, attack=73, hp=71, special-defense=89, speed=59}</td><td>Water</td><td>2024-10-01T19:16:09.849+0000</td></tr><tr><td>Claydol</td><td>1.5</td><td>108.0</td><td>Levitate</td><td>175</td><td>{special-attack=70, defense=105, attack=70, hp=60, special-defense=120, speed=75}</td><td>Ground, Psychic</td><td>2024-10-01T19:16:09.849+0000</td></tr><tr><td>Clefable</td><td>1.3</td><td>40.0</td><td>Cute-charm, Magic-guard, Unaware</td><td>242</td><td>{special-attack=95, defense=73, attack=70, hp=95, special-defense=90, speed=60}</td><td>Fairy</td><td>2024-10-01T19:16:09.849+0000</td></tr><tr><td>Clefairy</td><td>0.6</td><td>7.5</td><td>Cute-charm, Magic-guard, Friend-guard</td><td>113</td><td>{special-attack=60, defense=48, attack=45, hp=70, special-defense=65, speed=35}</td><td>Fairy</td><td>2024-10-01T19:16:09.849+0000</td></tr><tr><td>Cleffa</td><td>0.3</td><td>3.0</td><td>Cute-charm, Magic-guard, Friend-guard</td><td>44</td><td>{special-attack=45, defense=28, attack=25, hp=50, special-defense=55, speed=15}</td><td>Fairy</td><td>2024-10-01T19:16:09.849+0000</td></tr><tr><td>Cloyster</td><td>1.5</td><td>132.5</td><td>Shell-armor, Skill-link, Overcoat</td><td>184</td><td>{special-attack=85, defense=180, attack=95, hp=50, special-defense=45, speed=70}</td><td>Water, Ice</td><td>2024-10-01T19:16:09.849+0000</td></tr><tr><td>Cofagrigus</td><td>1.7</td><td>76.5</td><td>Mummy</td><td>169</td><td>{special-attack=95, defense=145, attack=50, hp=58, special-defense=105, speed=30}</td><td>Ghost</td><td>2024-10-01T19:16:09.849+0000</td></tr><tr><td>Combee</td><td>0.3</td><td>5.5</td><td>Honey-gather, Hustle</td><td>49</td><td>{special-attack=30, defense=42, attack=30, hp=30, special-defense=42, speed=70}</td><td>Bug, Flying</td><td>2024-10-01T19:16:09.849+0000</td></tr><tr><td>Comfey</td><td>0.1</td><td>0.3</td><td>Flower-veil, Triage, Natural-cure</td><td>170</td><td>{special-attack=82, defense=90, attack=52, hp=51, special-defense=110, speed=100}</td><td>Fairy</td><td>2024-10-01T19:16:09.849+0000</td></tr><tr><td>Conkeldurr</td><td>1.4</td><td>87.0</td><td>Guts, Sheer-force, Iron-fist</td><td>253</td><td>{special-attack=55, defense=95, attack=140, hp=105, special-defense=65, speed=45}</td><td>Fighting</td><td>2024-10-01T19:16:09.849+0000</td></tr><tr><td>Corphish</td><td>0.6</td><td>11.5</td><td>Hyper-cutter, Shell-armor, Adaptability</td><td>62</td><td>{special-attack=50, defense=65, attack=80, hp=43, special-defense=35, speed=35}</td><td>Water</td><td>2024-10-01T19:16:09.849+0000</td></tr><tr><td>Corsola</td><td>0.6</td><td>5.0</td><td>Hustle, Natural-cure, Regenerator</td><td>144</td><td>{special-attack=65, defense=95, attack=55, hp=65, special-defense=95, speed=35}</td><td>Water, Rock</td><td>2024-10-01T19:16:09.849+0000</td></tr><tr><td>Cottonee</td><td>0.3</td><td>0.6</td><td>Prankster, Infiltrator, Chlorophyll</td><td>56</td><td>{special-attack=37, defense=60, attack=27, hp=40, special-defense=50, speed=66}</td><td>Grass, Fairy</td><td>2024-10-01T19:16:09.849+0000</td></tr><tr><td>Crabominable</td><td>1.7</td><td>180.0</td><td>Hyper-cutter, Iron-fist, Anger-point</td><td>167</td><td>{special-attack=62, defense=77, attack=132, hp=97, special-defense=67, speed=43}</td><td>Fighting, Ice</td><td>2024-10-01T19:16:09.849+0000</td></tr><tr><td>Crabrawler</td><td>0.6</td><td>7.0</td><td>Hyper-cutter, Iron-fist, Anger-point</td><td>68</td><td>{special-attack=42, defense=57, attack=82, hp=47, special-defense=47, speed=63}</td><td>Fighting</td><td>2024-10-01T19:16:09.849+0000</td></tr><tr><td>Cradily</td><td>1.5</td><td>60.4</td><td>Suction-cups, Storm-drain</td><td>173</td><td>{special-attack=81, defense=97, attack=81, hp=86, special-defense=107, speed=43}</td><td>Rock, Grass</td><td>2024-10-01T19:16:09.849+0000</td></tr><tr><td>Croagunk</td><td>0.7</td><td>23.0</td><td>Anticipation, Dry-skin, Poison-touch</td><td>60</td><td>{special-attack=61, defense=40, attack=61, hp=48, special-defense=40, speed=50}</td><td>Poison, Fighting</td><td>2024-10-01T19:16:09.849+0000</td></tr><tr><td>Crobat</td><td>1.8</td><td>75.0</td><td>Inner-focus, Infiltrator</td><td>268</td><td>{special-attack=70, defense=80, attack=90, hp=85, special-defense=80, speed=130}</td><td>Poison, Flying</td><td>2024-10-01T19:16:09.849+0000</td></tr><tr><td>Croconaw</td><td>1.1</td><td>25.0</td><td>Torrent, Sheer-force</td><td>142</td><td>{special-attack=59, defense=80, attack=80, hp=65, special-defense=63, speed=58}</td><td>Water</td><td>2024-10-01T19:16:09.849+0000</td></tr><tr><td>Crustle</td><td>1.4</td><td>200.0</td><td>Sturdy, Shell-armor, Weak-armor</td><td>170</td><td>{special-attack=65, defense=125, attack=105, hp=70, special-defense=75, speed=45}</td><td>Bug, Rock</td><td>2024-10-01T19:16:09.849+0000</td></tr><tr><td>Cubone</td><td>0.4</td><td>6.5</td><td>Rock-head, Lightning-rod, Battle-armor</td><td>64</td><td>{special-attack=40, defense=95, attack=50, hp=50, special-defense=50, speed=35}</td><td>Ground</td><td>2024-10-01T19:16:09.849+0000</td></tr><tr><td>Cutiefly</td><td>0.1</td><td>0.2</td><td>Honey-gather, Shield-dust, Sweet-veil</td><td>61</td><td>{special-attack=55, defense=40, attack=45, hp=40, special-defense=40, speed=84}</td><td>Bug, Fairy</td><td>2024-10-01T19:16:09.849+0000</td></tr><tr><td>Dartrix</td><td>0.7</td><td>16.0</td><td>Overgrow, Long-reach</td><td>147</td><td>{special-attack=70, defense=75, attack=75, hp=78, special-defense=70, speed=52}</td><td>Grass, Flying</td><td>2024-10-01T19:16:09.849+0000</td></tr><tr><td>Dedenne</td><td>0.2</td><td>2.2</td><td>Cheek-pouch, Pickup, Plus</td><td>151</td><td>{special-attack=81, defense=57, attack=58, hp=67, special-defense=67, speed=101}</td><td>Electric, Fairy</td><td>2024-10-01T19:16:09.849+0000</td></tr><tr><td>Delcatty</td><td>1.1</td><td>32.6</td><td>Cute-charm, Normalize, Wonder-skin</td><td>140</td><td>{special-attack=55, defense=65, attack=65, hp=70, special-defense=55, speed=90}</td><td>Normal</td><td>2024-10-01T19:16:09.849+0000</td></tr><tr><td>Delibird</td><td>0.9</td><td>16.0</td><td>Vital-spirit, Hustle, Insomnia</td><td>116</td><td>{special-attack=65, defense=45, attack=55, hp=45, special-defense=45, speed=75}</td><td>Ice, Flying</td><td>2024-10-01T19:16:09.849+0000</td></tr><tr><td>Dewgong</td><td>1.7</td><td>120.0</td><td>Thick-fat, Hydration, Ice-body</td><td>166</td><td>{special-attack=70, defense=80, attack=70, hp=90, special-defense=95, speed=70}</td><td>Water, Ice</td><td>2024-10-01T19:16:09.849+0000</td></tr><tr><td>Dewpider</td><td>0.3</td><td>4.0</td><td>Water-bubble, Water-absorb</td><td>54</td><td>{special-attack=40, defense=52, attack=40, hp=38, special-defense=72, speed=27}</td><td>Water, Bug</td><td>2024-10-01T19:16:09.849+0000</td></tr><tr><td>Diggersby</td><td>1.0</td><td>42.4</td><td>Pickup, Cheek-pouch, Huge-power</td><td>148</td><td>{special-attack=50, defense=77, attack=56, hp=85, special-defense=77, speed=78}</td><td>Normal, Ground</td><td>2024-10-01T19:16:09.849+0000</td></tr><tr><td>Diancie</td><td>0.7</td><td>8.8</td><td>Clear-body</td><td>300</td><td>{special-attack=100, defense=150, attack=100, hp=50, special-defense=150, speed=50}</td><td>Rock, Fairy</td><td>2024-10-01T19:16:09.849+0000</td></tr><tr><td>Diglett</td><td>0.2</td><td>0.8</td><td>Sand-veil, Arena-trap, Sand-force</td><td>53</td><td>{special-attack=35, defense=25, attack=55, hp=10, special-defense=45, speed=95}</td><td>Ground</td><td>2024-10-01T19:16:09.849+0000</td></tr><tr><td>Ditto</td><td>0.3</td><td>4.0</td><td>Limber, Imposter</td><td>101</td><td>{special-attack=48, defense=48, attack=48, hp=48, special-defense=48, speed=48}</td><td>Normal</td><td>2024-10-01T19:16:09.849+0000</td></tr><tr><td>Dodrio</td><td>1.8</td><td>85.2</td><td>Run-away, Early-bird, Tangled-feet</td><td>165</td><td>{special-attack=60, defense=70, attack=110, hp=60, special-defense=60, speed=110}</td><td>Normal, Flying</td><td>2024-10-01T19:16:09.849+0000</td></tr><tr><td>Doduo</td><td>1.4</td><td>39.2</td><td>Run-away, Early-bird, Tangled-feet</td><td>62</td><td>{special-attack=35, defense=45, attack=85, hp=35, special-defense=35, speed=75}</td><td>Normal, Flying</td><td>2024-10-01T19:16:09.849+0000</td></tr><tr><td>Donphan</td><td>1.1</td><td>120.0</td><td>Sturdy, Sand-veil</td><td>175</td><td>{special-attack=60, defense=120, attack=120, hp=90, special-defense=60, speed=50}</td><td>Ground</td><td>2024-10-01T19:16:09.849+0000</td></tr><tr><td>Dottler</td><td>0.4</td><td>19.5</td><td>Swarm, Compound-eyes, Telepathy</td><td>117</td><td>{special-attack=50, defense=80, attack=35, hp=50, special-defense=90, speed=30}</td><td>Bug, Psychic</td><td>2024-10-01T19:16:09.849+0000</td></tr><tr><td>Dracozolt</td><td>1.8</td><td>190.0</td><td>Volt-absorb, Hustle, Sand-rush</td><td>177</td><td>{special-attack=80, defense=90, attack=100, hp=90, special-defense=70, speed=75}</td><td>Electric, Dragon</td><td>2024-10-01T19:16:09.849+0000</td></tr><tr><td>Dragapult</td><td>3.0</td><td>50.0</td><td>Clear-body, Infiltrator, Cursed-body</td><td>300</td><td>{special-attack=100, defense=75, attack=120, hp=88, special-defense=75, speed=142}</td><td>Dragon, Ghost</td><td>2024-10-01T19:16:09.849+0000</td></tr><tr><td>Dragonair</td><td>4.0</td><td>16.5</td><td>Shed-skin, Marvel-scale</td><td>147</td><td>{special-attack=70, defense=65, attack=84, hp=61, special-defense=70, speed=70}</td><td>Dragon</td><td>2024-10-01T19:16:09.849+0000</td></tr><tr><td>Dragonite</td><td>2.2</td><td>210.0</td><td>Inner-focus, Multiscale</td><td>300</td><td>{special-attack=100, defense=95, attack=134, hp=91, special-defense=100, speed=80}</td><td>Dragon, Flying</td><td>2024-10-01T19:16:09.849+0000</td></tr><tr><td>Dratini</td><td>1.8</td><td>3.3</td><td>Shed-skin, Marvel-scale</td><td>60</td><td>{special-attack=50, defense=45, attack=64, hp=41, special-defense=50, speed=50}</td><td>Dragon</td><td>2024-10-01T19:16:09.849+0000</td></tr><tr><td>Drifblim</td><td>1.2</td><td>15.0</td><td>Aftermath, Unburden, Flare-boost</td><td>174</td><td>{special-attack=90, defense=44, attack=80, hp=150, special-defense=54, speed=80}</td><td>Ghost, Flying</td><td>2024-10-01T19:16:09.849+0000</td></tr><tr><td>Drifloon</td><td>0.4</td><td>1.2</td><td>Aftermath, Unburden, Flare-boost</td><td>70</td><td>{special-attack=60, defense=34, attack=50, hp=90, special-defense=44, speed=70}</td><td>Ghost, Flying</td><td>2024-10-01T19:16:09.849+0000</td></tr><tr><td>Drowzee</td><td>1.0</td><td>32.4</td><td>Insomnia, Forewarn, Inner-focus</td><td>66</td><td>{special-attack=43, defense=45, attack=48, hp=60, special-defense=90, speed=42}</td><td>Psychic</td><td>2024-10-01T19:16:09.849+0000</td></tr><tr><td>Ducklett</td><td>0.5</td><td>5.5</td><td>Keen-eye, Big-pecks, Hydration</td><td>61</td><td>{special-attack=44, defense=50, attack=44, hp=62, special-defense=50, speed=55}</td><td>Water, Flying</td><td>2024-10-01T19:16:09.849+0000</td></tr><tr><td>Dugtrio</td><td>0.7</td><td>33.3</td><td>Sand-veil, Arena-trap, Sand-force</td><td>149</td><td>{special-attack=50, defense=50, attack=100, hp=35, special-defense=70, speed=120}</td><td>Ground</td><td>2024-10-01T19:16:09.849+0000</td></tr><tr><td>Dunsparce</td><td>1.5</td><td>14.0</td><td>Serene-grace, Run-away, Rattled</td><td>145</td><td>{special-attack=65, defense=70, attack=70, hp=100, special-defense=65, speed=45}</td><td>Normal</td><td>2024-10-01T19:16:09.849+0000</td></tr><tr><td>Duraludon</td><td>1.8</td><td>40.0</td><td>Light-metal, Heavy-metal, Stalwart</td><td>187</td><td>{special-attack=120, defense=115, attack=95, hp=70, special-defense=50, speed=85}</td><td>Steel, Dragon</td><td>2024-10-01T19:16:09.849+0000</td></tr><tr><td>Dustox</td><td>1.2</td><td>31.6</td><td>Shield-dust, Compound-eyes</td><td>173</td><td>{special-attack=50, defense=70, attack=50, hp=60, special-defense=90, speed=65}</td><td>Bug, Poison</td><td>2024-10-01T19:16:09.849+0000</td></tr><tr><td>Dwebble</td><td>0.3</td><td>14.5</td><td>Sturdy, Shell-armor, Weak-armor</td><td>65</td><td>{special-attack=35, defense=85, attack=65, hp=50, special-defense=35, speed=55}</td><td>Bug, Rock</td><td>2024-10-01T19:16:09.849+0000</td></tr><tr><td>Eelektross</td><td>2.1</td><td>80.5</td><td>Levitate</td><td>232</td><td>{special-attack=105, defense=80, attack=115, hp=85, special-defense=80, speed=50}</td><td>Electric</td><td>2024-10-01T19:16:09.849+0000</td></tr><tr><td>Eevee</td><td>0.3</td><td>6.5</td><td>Run-away, Adaptability, Anticipation</td><td>65</td><td>{special-attack=45, defense=50, attack=55, hp=55, special-defense=65, speed=55}</td><td>Normal</td><td>2024-10-01T19:16:09.849+0000</td></tr><tr><td>Electabuzz</td><td>1.1</td><td>30.0</td><td>Static, Vital-spirit</td><td>172</td><td>{special-attack=95, defense=57, attack=83, hp=65, special-defense=85, speed=105}</td><td>Electric</td><td>2024-10-01T19:16:09.849+0000</td></tr><tr><td>Electivire</td><td>1.8</td><td>138.6</td><td>Motor-drive, Vital-spirit</td><td>270</td><td>{special-attack=95, defense=67, attack=123, hp=75, special-defense=85, speed=95}</td><td>Electric</td><td>2024-10-01T19:16:09.849+0000</td></tr><tr><td>Electrike</td><td>0.6</td><td>15.2</td><td>Static, Lightning-rod, Minus</td><td>59</td><td>{special-attack=65, defense=40, attack=45, hp=40, special-defense=40, speed=65}</td><td>Electric</td><td>2024-10-01T19:16:09.849+0000</td></tr><tr><td>Elgyem</td><td>0.5</td><td>9.0</td><td>Telepathy, Synchronize, Analytic</td><td>67</td><td>{special-attack=85, defense=55, attack=55, hp=55, special-defense=55, speed=30}</td><td>Psychic</td><td>2024-10-01T19:16:09.849+0000</td></tr><tr><td>Emolga</td><td>0.4</td><td>5.0</td><td>Static, Motor-drive</td><td>150</td><td>{special-attack=75, defense=60, attack=75, hp=55, special-defense=60, speed=103}</td><td>Electric, Flying</td><td>2024-10-01T19:16:09.849+0000</td></tr><tr><td>Empoleon</td><td>1.7</td><td>84.5</td><td>Torrent, Competitive</td><td>239</td><td>{special-attack=111, defense=88, attack=86, hp=84, special-defense=101, speed=60}</td><td>Water, Steel</td><td>2024-10-01T19:16:09.849+0000</td></tr><tr><td>Emolga</td><td>0.4</td><td>5.0</td><td>Static, Motor-drive</td><td>150</td><td>{special-attack=75, defense=60, attack=75, hp=55, special-defense=60, speed=103}</td><td>Electric, Flying</td><td>2024-10-01T19:16:09.849+0000</td></tr><tr><td>Entei</td><td>2.1</td><td>198.0</td><td>Pressure, Inner-focus</td><td>290</td><td>{special-attack=90, defense=85, attack=115, hp=115, special-defense=75, speed=100}</td><td>Fire</td><td>2024-10-01T19:16:09.849+0000</td></tr><tr><td>Escavalier</td><td>1.0</td><td>33.0</td><td>Swarm, Shell-armor, Overcoat</td><td>173</td><td>{special-attack=60, defense=105, attack=135, hp=70, special-defense=105, speed=20}</td><td>Bug, Steel</td><td>2024-10-01T19:16:09.849+0000</td></tr><tr><td>Espurr</td><td>0.3</td><td>3.5</td><td>Keen-eye, Infiltrator, Own-tempo</td><td>71</td><td>{special-attack=63, defense=54, attack=48, hp=62, special-defense=60, speed=68}</td><td>Psychic</td><td>2024-10-01T19:16:09.849+0000</td></tr><tr><td>Exeggutor</td><td>2.0</td><td>120.0</td><td>Chlorophyll, Harvest</td><td>186</td><td>{special-attack=125, defense=85, attack=95, hp=95, special-defense=75, speed=55}</td><td>Grass, Psychic</td><td>2024-10-01T19:16:09.849+0000</td></tr><tr><td>Exeggcute</td><td>0.4</td><td>2.5</td><td>Chlorophyll, Harvest</td><td>65</td><td>{special-attack=60, defense=80, attack=40, hp=60, special-defense=45, speed=40}</td><td>Grass, Psychic</td><td>2024-10-01T19:16:09.849+0000</td></tr><tr><td>Exploud</td><td>1.5</td><td>84.0</td><td>Soundproof, Scrappy</td><td>245</td><td>{special-attack=91, defense=63, attack=91, hp=104, special-defense=73, speed=68}</td><td>Normal</td><td>2024-10-01T19:16:09.849+0000</td></tr><tr><td>Fearow</td><td>1.2</td><td>38.0</td><td>Keen-eye, Sniper</td><td>155</td><td>{special-attack=61, defense=65, attack=90, hp=65, special-defense=61, speed=100}</td><td>Normal, Flying</td><td>2024-10-01T19:16:09.849+0000</td></tr><tr><td>Feebas</td><td>0.6</td><td>7.4</td><td>Swift-swim, Oblivious, Adaptability</td><td>40</td><td>{special-attack=10, defense=20, attack=15, hp=20, special-defense=55, speed=80}</td><td>Water</td><td>2024-10-01T19:16:09.849+0000</td></tr><tr><td>Fennekin</td><td>0.4</td><td>9.4</td><td>Blaze, Magician</td><td>61</td><td>{special-attack=62, defense=40, attack=45, hp=40, special-defense=60, speed=60}</td><td>Fire</td><td>2024-10-01T19:16:09.849+0000</td></tr><tr><td>Ferrothorn</td><td>1.0</td><td>110.0</td><td>Iron-barbs, Anticipation</td><td>171</td><td>{special-attack=54, defense=131, attack=94, hp=74, special-defense=116, speed=20}</td><td>Grass, Steel</td><td>2024-10-01T19:16:09.849+0000</td></tr><tr><td>Finneon</td><td>0.4</td><td>7.0</td><td>Swift-swim, Storm-drain, Water-veil</td><td>66</td><td>{special-attack=49, defense=56, attack=49, hp=49, special-defense=61, speed=66}</td><td>Water</td><td>2024-10-01T19:16:09.849+0000</td></tr><tr><td>Flapple</td><td>0.3</td><td>1.0</td><td>Ripen, Gluttony, Hustle</td><td>170</td><td>{special-attack=95, defense=80, attack=110, hp=70, special-defense=60, speed=70}</td><td>Grass, Dragon</td><td>2024-10-01T19:16:09.849+0000</td></tr><tr><td>Flaaffy</td><td>0.8</td><td>13.3</td><td>Static, Plus</td><td>128</td><td>{special-attack=80, defense=55, attack=55, hp=70, special-defense=60, speed=45}</td><td>Electric</td><td>2024-10-01T19:16:09.849+0000</td></tr><tr><td>Flareon</td><td>0.9</td><td>25.0</td><td>Flash-fire, Guts</td><td>184</td><td>{special-attack=95, defense=60, attack=130, hp=65, special-defense=110, speed=65}</td><td>Fire</td><td>2024-10-01T19:16:09.849+0000</td></tr><tr><td>Flapple</td><td>0.3</td><td>1.0</td><td>Ripen, Gluttony, Hustle</td><td>170</td><td>{special-attack=95, defense=80, attack=110, hp=70, special-defense=60, speed=70}</td><td>Grass, Dragon</td><td>2024-10-01T19:16:09.849+0000</td></tr><tr><td>Fletchinder</td><td>0.7</td><td>16.0</td><td>Flame-body, Gale-wings</td><td>134</td><td>{special-attack=56, defense=55, attack=73, hp=62, special-defense=52, speed=84}</td><td>Fire, Flying</td><td>2024-10-01T19:16:09.849+0000</td></tr><tr><td>Fletchling</td><td>0.3</td><td>1.7</td><td>Big-pecks, Gale-wings</td><td>56</td><td>{special-attack=40, defense=43, attack=50, hp=45, special-defense=38, speed=62}</td><td>Normal, Flying</td><td>2024-10-01T19:16:09.849+0000</td></tr><tr><td>Floatzel</td><td>1.1</td><td>33.5</td><td>Swift-swim, Water-veil</td><td>173</td><td>{special-attack=85, defense=55, attack=105, hp=85, special-defense=50, speed=115}</td><td>Water</td><td>2024-10-01T19:16:09.849+0000</td></tr><tr><td>Florges</td><td>1.1</td><td>10.0</td><td>Flower-veil, Symbiosis</td><td>248</td><td>{special-attack=112, defense=68, attack=65, hp=78, special-defense=154, speed=75}</td><td>Fairy</td><td>2024-10-01T19:16:09.849+0000</td></tr><tr><td>Foongus</td><td>0.2</td><td>1.0</td><td>Effect-spore, Regenerator</td><td>59</td><td>{special-attack=55, defense=45, attack=55, hp=69, special-defense=55, speed=15}</td><td>Grass, Poison</td><td>2024-10-01T19:16:09.849+0000</td></tr><tr><td>Forretress</td><td>1.2</td><td>125.8</td><td>Sturdy, Overcoat</td><td>163</td><td>{special-attack=60, defense=140, attack=90, hp=75, special-defense=60, speed=40}</td><td>Bug, Steel</td><td>2024-10-01T19:16:09.849+0000</td></tr><tr><td>Frillish</td><td>1.2</td><td>33.0</td><td>Water-absorb, Cursed-body, Damp</td><td>67</td><td>{special-attack=65, defense=50, attack=40, hp=55, special-defense=85, speed=40}</td><td>Water, Ghost</td><td>2024-10-01T19:16:09.849+0000</td></tr><tr><td>Frogadier</td><td>0.6</td><td>10.9</td><td>Torrent, Protean</td><td>142</td><td>{special-attack=83, defense=52, attack=63, hp=54, special-defense=56, speed=97}</td><td>Water</td><td>2024-10-01T19:16:09.849+0000</td></tr><tr><td>Froakie</td><td>0.3</td><td>7.0</td><td>Torrent, Protean</td><td>63</td><td>{special-attack=62, defense=40, attack=56, hp=41, special-defense=44, speed=71}</td><td>Water</td><td>2024-10-01T19:16:09.849+0000</td></tr><tr><td>Froslass</td><td>1.3</td><td>26.6</td><td>Snow-cloak, Cursed-body</td><td>168</td><td>{special-attack=80, defense=70, attack=80, hp=70, special-defense=70, speed=110}</td><td>Ice, Ghost</td><td>2024-10-01T19:16:09.849+0000</td></tr><tr><td>Furret</td><td>1.8</td><td>32.5</td><td>Run-away, Keen-eye, Frisk</td><td>145</td><td>{special-attack=45, defense=64, attack=76, hp=85, special-defense=55, speed=90}</td><td>Normal</td><td>2024-10-01T19:16:09.849+0000</td></tr><tr><td>Gabite</td><td>1.4</td><td>56.0</td><td>Sand-veil, Rough-skin</td><td>144</td><td>{special-attack=50, defense=65, attack=90, hp=68, special-defense=55, speed=82}</td><td>Dragon, Ground</td><td>2024-10-01T19:16:09.849+0000</td></tr><tr><td>Gallade</td><td>1.6</td><td>52.0</td><td>Steadfast, Sharpness, Justified</td><td>259</td><td>{special-attack=65, defense=65, attack=125, hp=68, special-defense=115, speed=80}</td><td>Psychic, Fighting</td><td>2024-10-01T19:16:09.849+0000</td></tr><tr><td>Gardevoir</td><td>1.6</td><td>48.4</td><td>Synchronize, Trace, Telepathy</td><td>259</td><td>{special-attack=125, defense=65, attack=65, hp=68, special-defense=115, speed=80}</td><td>Psychic, Fairy</td><td>2024-10-01T19:16:09.849+0000</td></tr><tr><td>Gengar</td><td>1.5</td><td>40.5</td><td>Cursed-body</td><td>250</td><td>{special-attack=130, defense=60, attack=65, hp=60, special-defense=75, speed=110}</td><td>Ghost, Poison</td><td>2024-10-01T19:16:09.849+0000</td></tr><tr><td>Gigalith</td><td>1.7</td><td>260.0</td><td>Sturdy, Sand-stream, Sand-force</td><td>258</td><td>{special-attack=60, defense=130, attack=135, hp=85, special-defense=80, speed=25}</td><td>Rock</td><td>2024-10-01T19:16:09.849+0000</td></tr><tr><td>Gimmighoul</td><td>0.3</td><td>5.0</td><td>Rattled, Rattled</td><td>60</td><td>{special-attack=75, defense=70, attack=30, hp=45, special-defense=70, speed=10}</td><td>Ghost</td><td>2024-10-01T19:16:09.849+0000</td></tr><tr><td>Gogoat</td><td>1.7</td><td>91.0</td><td>Sap-sipper, Grass-pelt</td><td>186</td><td>{special-attack=97, defense=62, attack=100, hp=123, special-defense=81, speed=68}</td><td>Grass</td><td>2024-10-01T19:16:09.849+0000</td></tr><tr><td>Golbat</td><td>1.6</td><td>55.0</td><td>Inner-focus, Infiltrator</td><td>159</td><td>{special-attack=65, defense=70, attack=80, hp=75, special-defense=75, speed=90}</td><td>Poison, Flying</td><td>2024-10-01T19:16:09.849+0000</td></tr><tr><td>Goldeen</td><td>0.6</td><td>15.0</td><td>Swift-swim, Water-veil, Lightning-rod</td><td>64</td><td>{special-attack=35, defense=60, attack=67, hp=45, special-defense=50, speed=63}</td><td>Water</td><td>2024-10-01T19:16:09.849+0000</td></tr><tr><td>Golduck</td><td>1.7</td><td>76.6</td><td>Damp, Cloud-nine, Swift-swim</td><td>175</td><td>{special-attack=95, defense=78, attack=82, hp=80, special-defense=80, speed=85}</td><td>Water</td><td>2024-10-01T19:16:09.849+0000</td></tr><tr><td>Golett</td><td>1.0</td><td>92.0</td><td>Iron-fist, Klutz, No-guard</td><td>61</td><td>{special-attack=35, defense=50, attack=74, hp=59, special-defense=50, speed=35}</td><td>Ground, Ghost</td><td>2024-10-01T19:16:09.849+0000</td></tr><tr><td>Golem</td><td>1.4</td><td>300.0</td><td>Rock-head, Sturdy, Sand-veil</td><td>223</td><td>{special-attack=55, defense=130, attack=120, hp=80, special-defense=65, speed=45}</td><td>Rock, Ground</td><td>2024-10-01T19:16:09.849+0000</td></tr><tr><td>Golisopod</td><td>2.0</td><td>108.0</td><td>Emergency-exit</td><td>186</td><td>{special-attack=60, defense=140, attack=125, hp=75, special-defense=90, speed=40}</td><td>Bug, Water</td><td>2024-10-01T19:16:09.849+0000</td></tr><tr><td>Golurk</td><td>2.8</td><td>330.0</td><td>Iron-fist, Klutz, No-guard</td><td>169</td><td>{special-attack=55, defense=80, attack=124, hp=89, special-defense=80, speed=55}</td><td>Ground, Ghost</td><td>2024-10-01T19:16:09.849+0000</td></tr><tr><td>Goodra</td><td>2.0</td><td>150.5</td><td>Sap-sipper, Hydration, Gooey</td><td>300</td><td>{special-attack=110, defense=70, attack=100, hp=90, special-defense=150, speed=80}</td><td>Dragon</td><td>2024-10-01T19:16:09.849+0000</td></tr><tr><td>Goomy</td><td>0.3</td><td>2.8</td><td>Sap-sipper, Hydration, Gooey</td><td>60</td><td>{special-attack=55, defense=35, attack=50, hp=45, special-defense=75, speed=40}</td><td>Dragon</td><td>2024-10-01T19:16:09.849+0000</td></tr><tr><td>Granbull</td><td>1.4</td><td>48.7</td><td>Intimidate, Quick-feet, Rattled</td><td>158</td><td>{special-attack=60, defense=75, attack=120, hp=90, special-defense=60, speed=45}</td><td>Fairy</td><td>2024-10-01T19:16:09.849+0000</td></tr><tr><td>Grimer</td><td>0.9</td><td>30.0</td><td>Stench, Sticky-hold, Poison-touch</td><td>65</td><td>{special-attack=40, defense=50, attack=80, hp=80, special-defense=50, speed=25}</td><td>Poison</td><td>2024-10-01T19:16:09.849+0000</td></tr><tr><td>Grotle</td><td>1.1</td><td>97.0</td><td>Overgrow, Shell-armor</td><td>142</td><td>{special-attack=55, defense=85, attack=89, hp=75, special-defense=65, speed=36}</td><td>Grass</td><td>2024-10-01T19:16:09.849+0000</td></tr><tr><td>Grovyle</td><td>0.9</td><td>21.6</td><td>Overgrow, Unburden</td><td>142</td><td>{special-attack=85, defense=45, attack=65, hp=50, special-defense=65, speed=95}</td><td>Grass</td><td>2024-10-01T19:16:09.849+0000</td></tr><tr><td>Gulpin</td><td>0.4</td><td>10.3</td><td>Liquid-ooze, Sticky-hold, Gluttony</td><td>60</td><td>{special-attack=43, defense=53, attack=43, hp=70, special-defense=53, speed=40}</td><td>Poison</td><td>2024-10-01T19:16:09.849+0000</td></tr><tr><td>Guzzlord</td><td>5.5</td><td>888.0</td><td>Beast-boost</td><td>285</td><td>{special-attack=97, defense=53, attack=101, hp=223, special-defense=53, speed=43}</td><td>Dark, Dragon</td><td>2024-10-01T19:16:09.849+0000</td></tr><tr><td>Helioptile</td><td>0.5</td><td>6.0</td><td>Dry-skin, Sand-veil, Solar-power</td><td>58</td><td>{special-attack=61, defense=33, attack=38, hp=44, special-defense=43, speed=70}</td><td>Electric, Normal</td><td>2024-10-01T19:16:09.849+0000</td></tr><tr><td>Heliolisk</td><td>1.0</td><td>21.0</td><td>Dry-skin, Sand-veil, Solar-power</td><td>168</td><td>{special-attack=109, defense=52, attack=55, hp=62, special-defense=94, speed=109}</td><td>Electric, Normal</td><td>2024-10-01T19:16:09.849+0000</td></tr><tr><td>Herdier</td><td>0.9</td><td>14.7</td><td>Intimidate, Sand-rush, Scrappy</td><td>130</td><td>{special-attack=35, defense=65, attack=80, hp=65, special-defense=65, speed=60}</td><td>Normal</td><td>2024-10-01T19:16:09.849+0000</td></tr><tr><td>Heracross</td><td>1.5</td><td>54.0</td><td>Swarm, Guts, Moxie</td><td>175</td><td>{special-attack=40, defense=75, attack=125, hp=80, special-defense=95, speed=85}</td><td>Bug, Fighting</td><td>2024-10-01T19:16:09.849+0000</td></tr><tr><td>Hippowdon</td><td>2.0</td><td>300.0</td><td>Sand-stream, Sand-force</td><td>184</td><td>{special-attack=68, defense=118, attack=112, hp=108, special-defense=72, speed=47}</td><td>Ground</td><td>2024-10-01T19:16:09.849+0000</td></tr><tr><td>Hitmonchan</td><td>1.4</td><td>50.2</td><td>Keen-eye, Iron-fist, Inner-focus</td><td>159</td><td>{special-attack=35, defense=79, attack=105, hp=50, special-defense=110, speed=76}</td><td>Fighting</td><td>2024-10-01T19:16:09.849+0000</td></tr><tr><td>Hitmonlee</td><td>1.5</td><td>49.8</td><td>Limber, Reckless, Unburden</td><td>159</td><td>{special-attack=35, defense=53, attack=120, hp=50, special-defense=110, speed=87}</td><td>Fighting</td><td>2024-10-01T19:16:09.849+0000</td></tr><tr><td>Hitmontop</td><td>1.4</td><td>48.0</td><td>Intimidate, Technician, Steadfast</td><td>159</td><td>{special-attack=35, defense=95, attack=95, hp=50, special-defense=110, speed=70}</td><td>Fighting</td><td>2024-10-01T19:16:09.849+0000</td></tr><tr><td>Ho-oh</td><td>3.8</td><td>199.0</td><td>Pressure, Regenerator</td><td>340</td><td>{special-attack=110, defense=90, attack=130, hp=106, special-defense=154, speed=90}</td><td>Fire, Flying</td><td>2024-10-01T19:16:09.849+0000</td></tr><tr><td>Honchkrow</td><td>0.9</td><td>27.3</td><td>Insomnia, Super-luck, Moxie</td><td>177</td><td>{special-attack=105, defense=52, attack=125, hp=100, special-defense=52, speed=71}</td><td>Dark, Flying</td><td>2024-10-01T19:16:09.849+0000</td></tr><tr><td>Hoothoot</td><td>0.7</td><td>21.2</td><td>Insomnia, Keen-eye, Tinted-lens</td><td>52</td><td>{special-attack=36, defense=30, attack=30, hp=60, special-defense=56, speed=50}</td><td>Normal, Flying</td><td>2024-10-01T19:16:09.849+0000</td></tr><tr><td>Hoppip</td><td>0.4</td><td>0.5</td><td>Chlorophyll, Leaf-guard, Infiltrator</td><td>50</td><td>{special-attack=35, defense=40, attack=35, hp=35, special-defense=55, speed=50}</td><td>Grass, Flying</td><td>2024-10-01T19:16:09.849+0000</td></tr><tr><td>Oddish</td><td>0.5</td><td>5.4</td><td>Chlorophyll, Run-away</td><td>64</td><td>{special-attack=75, defense=55, attack=50, hp=45, special-defense=65, speed=30}</td><td>Grass, Poison</td><td>2024-10-01T19:16:09.849+0000</td></tr><tr><td>Omanyte</td><td>0.4</td><td>7.5</td><td>Swift-swim, Shell-armor, Weak-armor</td><td>71</td><td>{special-attack=90, defense=100, attack=40, hp=35, special-defense=55, speed=35}</td><td>Rock, Water</td><td>2024-10-01T19:16:09.849+0000</td></tr><tr><td>Omastar</td><td>1.0</td><td>35.0</td><td>Swift-swim, Shell-armor, Weak-armor</td><td>173</td><td>{special-attack=115, defense=125, attack=60, hp=70, special-defense=70, speed=55}</td><td>Rock, Water</td><td>2024-10-01T19:16:09.849+0000</td></tr><tr><td>Onix</td><td>8.8</td><td>210.0</td><td>Rock-head, Sturdy, Weak-armor</td><td>77</td><td>{special-attack=30, defense=160, attack=45, hp=35, special-defense=45, speed=70}</td><td>Rock, Ground</td><td>2024-10-01T19:16:09.849+0000</td></tr><tr><td>Oranguru</td><td>1.5</td><td>76.0</td><td>Inner-focus, Telepathy, Symbiosis</td><td>172</td><td>{special-attack=90, defense=80, attack=60, hp=90, special-defense=110, speed=60}</td><td>Normal, Psychic</td><td>2024-10-01T19:16:09.849+0000</td></tr><tr><td>Orbeetle</td><td>0.4</td><td>40.8</td><td>Swarm, Frisk, Telepathy</td><td>253</td><td>{special-attack=80, defense=110, attack=45, hp=60, special-defense=120, speed=90}</td><td>Bug, Psychic</td><td>2024-10-01T19:16:09.849+0000</td></tr><tr><td>Pachirisu</td><td>0.4</td><td>3.9</td><td>Run-away, Pickup, Volt-absorb</td><td>142</td><td>{special-attack=45, defense=70, attack=45, hp=60, special-defense=90, speed=95}</td><td>Electric</td><td>2024-10-01T19:16:09.849+0000</td></tr><tr><td>Palkia</td><td>4.2</td><td>336.0</td><td>Pressure, Telepathy</td><td>340</td><td>{special-attack=150, defense=100, attack=120, hp=90, special-defense=120, speed=100}</td><td>Water, Dragon</td><td>2024-10-01T19:16:09.849+0000</td></tr><tr><td>Palpitoad</td><td>0.8</td><td>17.0</td><td>Swift-swim, Hydration, Water-absorb</td><td>134</td><td>{special-attack=65, defense=55, attack=65, hp=75, special-defense=55, speed=69}</td><td>Water, Ground</td><td>2024-10-01T19:16:09.849+0000</td></tr><tr><td>Pancham</td><td>0.6</td><td>8.0</td><td>Iron-fist, Mold-breaker, Scrappy</td><td>70</td><td>{special-attack=46, defense=62, attack=82, hp=67, special-defense=48, speed=43}</td><td>Fighting</td><td>2024-10-01T19:16:09.849+0000</td></tr><tr><td>Pangoro</td><td>2.1</td><td>136.0</td><td>Iron-fist, Mold-breaker, Scrappy</td><td>173</td><td>{special-attack=69, defense=78, attack=124, hp=95, special-defense=71, speed=58}</td><td>Fighting, Dark</td><td>2024-10-01T19:16:09.849+0000</td></tr><tr><td>Panpour</td><td>0.6</td><td>13.5</td><td>Gluttony, Torrent</td><td>63</td><td>{special-attack=53, defense=48, attack=53, hp=50, special-defense=48, speed=64}</td><td>Water</td><td>2024-10-01T19:16:09.849+0000</td></tr><tr><td>Pansage</td><td>0.6</td><td>10.5</td><td>Gluttony, Overgrow</td><td>63</td><td>{special-attack=53, defense=48, attack=53, hp=50, special-defense=48, speed=64}</td><td>Grass</td><td>2024-10-01T19:16:09.849+0000</td></tr><tr><td>Paras</td><td>0.3</td><td>5.4</td><td>Effect-spore, Dry-skin, Damp</td><td>57</td><td>{special-attack=45, defense=55, attack=70, hp=35, special-defense=55, speed=25}</td><td>Bug, Grass</td><td>2024-10-01T19:16:09.849+0000</td></tr><tr><td>Passimian</td><td>2.0</td><td>82.8</td><td>Receiver, Defiant</td><td>172</td><td>{special-attack=40, defense=90, attack=120, hp=100, special-defense=60, speed=80}</td><td>Fighting</td><td>2024-10-01T19:16:09.849+0000</td></tr><tr><td>Pawmi</td><td>0.3</td><td>2.5</td><td>Static, Natural-cure, Iron-fist</td><td>48</td><td>{special-attack=40, defense=20, attack=50, hp=45, special-defense=25, speed=60}</td><td>Electric</td><td>2024-10-01T19:16:09.849+0000</td></tr><tr><td>Pawniard</td><td>0.5</td><td>10.2</td><td>Defiant, Inner-focus, Pressure</td><td>68</td><td>{special-attack=40, defense=70, attack=85, hp=45, special-defense=40, speed=60}</td><td>Dark, Steel</td><td>2024-10-01T19:16:09.849+0000</td></tr><tr><td>Pidgeot</td><td>1.5</td><td>39.5</td><td>Keen-eye, Tangled-feet, Big-pecks</td><td>216</td><td>{special-attack=70, defense=75, attack=80, hp=83, special-defense=70, speed=101}</td><td>Normal, Flying</td><td>2024-10-01T19:16:09.849+0000</td></tr><tr><td>Pidgeotto</td><td>1.1</td><td>30.0</td><td>Keen-eye, Tangled-feet, Big-pecks</td><td>122</td><td>{special-attack=50, defense=55, attack=60, hp=63, special-defense=50, speed=71}</td><td>Normal, Flying</td><td>2024-10-01T19:16:09.849+0000</td></tr><tr><td>Pidgey</td><td>0.3</td><td>1.8</td><td>Keen-eye, Tangled-feet, Big-pecks</td><td>50</td><td>{special-attack=35, defense=40, attack=45, hp=40, special-defense=35, speed=56}</td><td>Normal, Flying</td><td>2024-10-01T19:16:09.849+0000</td></tr><tr><td>Pidove</td><td>0.3</td><td>2.1</td><td>Big-pecks, Super-luck, Rivalry</td><td>53</td><td>{special-attack=36, defense=50, attack=55, hp=50, special-defense=30, speed=43}</td><td>Normal, Flying</td><td>2024-10-01T19:16:09.849+0000</td></tr><tr><td>Pikachu</td><td>0.4</td><td>6.0</td><td>Static, Lightning-rod</td><td>112</td><td>{special-attack=50, defense=40, attack=55, hp=35, special-defense=50, speed=90}</td><td>Electric</td><td>2024-10-01T19:16:09.849+0000</td></tr><tr><td>Pikipek</td><td>0.3</td><td>1.2</td><td>Keen-eye, Skill-link, Pickup</td><td>53</td><td>{special-attack=30, defense=30, attack=75, hp=35, special-defense=30, speed=65}</td><td>Normal, Flying</td><td>2024-10-01T19:16:09.849+0000</td></tr><tr><td>Piloswine</td><td>1.1</td><td>55.8</td><td>Oblivious, Snow-cloak, Thick-fat</td><td>158</td><td>{special-attack=60, defense=80, attack=100, hp=100, special-defense=60, speed=50}</td><td>Ice, Ground</td><td>2024-10-01T19:16:09.849+0000</td></tr><tr><td>Pinsir</td><td>1.5</td><td>55.0</td><td>Hyper-cutter, Mold-breaker, Moxie</td><td>175</td><td>{special-attack=55, defense=100, attack=125, hp=65, special-defense=70, speed=85}</td><td>Bug</td><td>2024-10-01T19:16:09.849+0000</td></tr><tr><td>Piplup</td><td>0.4</td><td>5.2</td><td>Torrent, Competitive</td><td>63</td><td>{special-attack=61, defense=53, attack=51, hp=53, special-defense=56, speed=40}</td><td>Water</td><td>2024-10-01T19:16:09.849+0000</td></tr><tr><td>Porygon</td><td>0.8</td><td>36.5</td><td>Trace, Download, Analytic</td><td>79</td><td>{special-attack=85, defense=70, attack=60, hp=65, special-defense=75, speed=40}</td><td>Normal</td><td>2024-10-01T19:16:09.849+0000</td></tr><tr><td>Porygon-z</td><td>0.9</td><td>34.0</td><td>Adaptability, Download, Analytic</td><td>268</td><td>{special-attack=135, defense=70, attack=80, hp=85, special-defense=75, speed=90}</td><td>Normal</td><td>2024-10-01T19:16:09.849+0000</td></tr><tr><td>Porygon2</td><td>0.6</td><td>32.5</td><td>Trace, Download, Analytic</td><td>180</td><td>{special-attack=105, defense=90, attack=80, hp=85, special-defense=95, speed=60}</td><td>Normal</td><td>2024-10-01T19:16:09.849+0000</td></tr><tr><td>Primeape</td><td>1.0</td><td>32.0</td><td>Vital-spirit, Anger-point, Defiant</td><td>159</td><td>{special-attack=60, defense=60, attack=105, hp=65, special-defense=70, speed=95}</td><td>Fighting</td><td>2024-10-01T19:16:09.849+0000</td></tr><tr><td>Prinplup</td><td>0.8</td><td>23.0</td><td>Torrent, Competitive</td><td>142</td><td>{special-attack=81, defense=68, attack=66, hp=64, special-defense=76, speed=50}</td><td>Water</td><td>2024-10-01T19:16:09.849+0000</td></tr><tr><td>Probopass</td><td>1.4</td><td>340.0</td><td>Sturdy, Magnet-pull, Sand-force</td><td>184</td><td>{special-attack=75, defense=145, attack=55, hp=60, special-defense=150, speed=40}</td><td>Rock, Steel</td><td>2024-10-01T19:16:09.849+0000</td></tr><tr><td>Psyduck</td><td>0.8</td><td>19.6</td><td>Damp, Cloud-nine, Swift-swim</td><td>64</td><td>{special-attack=65, defense=48, attack=52, hp=50, special-defense=50, speed=55}</td><td>Water</td><td>2024-10-01T19:16:09.849+0000</td></tr><tr><td>Purugly</td><td>1.0</td><td>43.8</td><td>Thick-fat, Own-tempo, Defiant</td><td>158</td><td>{special-attack=64, defense=64, attack=82, hp=71, special-defense=59, speed=112}</td><td>Normal</td><td>2024-10-01T19:16:09.849+0000</td></tr><tr><td>Purrloin</td><td>0.4</td><td>10.1</td><td>Limber, Unburden, Prankster</td><td>56</td><td>{special-attack=50, defense=37, attack=50, hp=41, special-defense=37, speed=66}</td><td>Dark</td><td>2024-10-01T19:16:09.849+0000</td></tr><tr><td>Pyroar</td><td>1.5</td><td>81.5</td><td>Rivalry, Unnerve, Moxie</td><td>177</td><td>{special-attack=109, defense=72, attack=68, hp=86, special-defense=66, speed=106}</td><td>Fire, Normal</td><td>2024-10-01T19:16:09.849+0000</td></tr><tr><td>Quagsire</td><td>1.4</td><td>75.0</td><td>Damp, Water-absorb, Unaware</td><td>151</td><td>{special-attack=65, defense=85, attack=85, hp=95, special-defense=65, speed=35}</td><td>Water, Ground</td><td>2024-10-01T19:16:09.849+0000</td></tr><tr><td>Quaxly</td><td>0.5</td><td>6.1</td><td>Torrent, Moxie</td><td>62</td><td>{special-attack=50, defense=45, attack=65, hp=55, special-defense=45, speed=50}</td><td>Water</td><td>2024-10-01T19:16:09.849+0000</td></tr><tr><td>Quilladin</td><td>0.7</td><td>29.0</td><td>Overgrow, Bulletproof</td><td>142</td><td>{special-attack=56, defense=95, attack=78, hp=61, special-defense=58, speed=57}</td><td>Grass</td><td>2024-10-01T19:16:09.849+0000</td></tr><tr><td>Quilava</td><td>0.9</td><td>19.0</td><td>Blaze, Flash-fire</td><td>142</td><td>{special-attack=80, defense=58, attack=64, hp=58, special-defense=65, speed=80}</td><td>Fire</td><td>2024-10-01T19:16:09.849+0000</td></tr><tr><td>Qwilfish</td><td>0.5</td><td>3.9</td><td>Poison-point, Swift-swim, Intimidate</td><td>88</td><td>{special-attack=55, defense=85, attack=95, hp=65, special-defense=55, speed=85}</td><td>Water, Poison</td><td>2024-10-01T19:16:09.849+0000</td></tr><tr><td>Raboot</td><td>0.6</td><td>9.0</td><td>Blaze, Libero</td><td>147</td><td>{special-attack=55, defense=60, attack=86, hp=65, special-defense=60, speed=94}</td><td>Fire</td><td>2024-10-01T19:16:09.849+0000</td></tr><tr><td>Raichu</td><td>0.8</td><td>30.0</td><td>Static, Lightning-rod</td><td>243</td><td>{special-attack=90, defense=55, attack=90, hp=60, special-defense=80, speed=110}</td><td>Electric</td><td>2024-10-01T19:16:09.849+0000</td></tr><tr><td>Raikou</td><td>1.9</td><td>178.0</td><td>Pressure, Inner-focus</td><td>290</td><td>{special-attack=115, defense=75, attack=85, hp=90, special-defense=100, speed=115}</td><td>Electric</td><td>2024-10-01T19:16:09.849+0000</td></tr><tr><td>Ralts</td><td>0.4</td><td>6.6</td><td>Synchronize, Trace, Telepathy</td><td>40</td><td>{special-attack=45, defense=25, attack=25, hp=28, special-defense=35, speed=40}</td><td>Psychic, Fairy</td><td>2024-10-01T19:16:09.849+0000</td></tr><tr><td>Rampardos</td><td>1.6</td><td>102.5</td><td>Mold-breaker, Sheer-force</td><td>173</td><td>{special-attack=65, defense=60, attack=165, hp=97, special-defense=50, speed=58}</td><td>Rock</td><td>2024-10-01T19:16:09.849+0000</td></tr><tr><td>Rapidash</td><td>1.7</td><td>95.0</td><td>Run-away, Flash-fire, Flame-body</td><td>175</td><td>{special-attack=80, defense=70, attack=100, hp=65, special-defense=80, speed=105}</td><td>Fire</td><td>2024-10-01T19:16:09.849+0000</td></tr><tr><td>Raticate</td><td>0.7</td><td>18.5</td><td>Run-away, Guts, Hustle</td><td>145</td><td>{special-attack=50, defense=60, attack=81, hp=55, special-defense=70, speed=97}</td><td>Normal</td><td>2024-10-01T19:16:09.849+0000</td></tr><tr><td>Rattata</td><td>0.3</td><td>3.5</td><td>Run-away, Guts, Hustle</td><td>51</td><td>{special-attack=25, defense=35, attack=56, hp=30, special-defense=35, speed=72}</td><td>Normal</td><td>2024-10-01T19:16:09.849+0000</td></tr><tr><td>Rayquaza</td><td>7.0</td><td>206.5</td><td>Air-lock</td><td>340</td><td>{special-attack=150, defense=90, attack=150, hp=105, special-defense=90, speed=95}</td><td>Dragon, Flying</td><td>2024-10-01T19:16:09.849+0000</td></tr><tr><td>Regice</td><td>1.8</td><td>175.0</td><td>Clear-body, Ice-body</td><td>290</td><td>{special-attack=100, defense=100, attack=50, hp=80, special-defense=200, speed=50}</td><td>Ice</td><td>2024-10-01T19:16:09.849+0000</td></tr><tr><td>Regidrago</td><td>2.1</td><td>200.0</td><td>Dragons-maw</td><td>290</td><td>{special-attack=100, defense=50, attack=100, hp=200, special-defense=50, speed=80}</td><td>Dragon</td><td>2024-10-01T19:16:09.849+0000</td></tr><tr><td>Regigigas</td><td>3.7</td><td>420.0</td><td>Slow-start</td><td>335</td><td>{special-attack=80, defense=110, attack=160, hp=110, special-defense=110, speed=100}</td><td>Normal</td><td>2024-10-01T19:16:09.849+0000</td></tr><tr><td>Regirock</td><td>1.7</td><td>230.0</td><td>Clear-body, Sturdy</td><td>290</td><td>{special-attack=50, defense=200, attack=100, hp=80, special-defense=100, speed=50}</td><td>Rock</td><td>2024-10-01T19:16:09.849+0000</td></tr><tr><td>Registeel</td><td>1.9</td><td>205.0</td><td>Clear-body, Light-metal</td><td>290</td><td>{special-attack=75, defense=150, attack=75, hp=80, special-defense=150, speed=50}</td><td>Steel</td><td>2024-10-01T19:16:09.849+0000</td></tr><tr><td>Reshiram</td><td>3.2</td><td>330.0</td><td>Turboblaze</td><td>340</td><td>{special-attack=150, defense=100, attack=120, hp=100, special-defense=120, speed=90}</td><td>Dragon, Fire</td><td>2024-10-01T19:16:09.849+0000</td></tr><tr><td>Ribombee</td><td>0.2</td><td>0.5</td><td>Honey-gather, Shield-dust, Sweet-veil</td><td>162</td><td>{special-attack=95, defense=60, attack=55, hp=60, special-defense=70, speed=124}</td><td>Bug, Fairy</td><td>2024-10-01T19:16:09.849+0000</td></tr><tr><td>Rillaboom</td><td>2.1</td><td>90.0</td><td>Overgrow, Grassy-surge</td><td>265</td><td>{special-attack=60, defense=90, attack=125, hp=100, special-defense=70, speed=85}</td><td>Grass</td><td>2024-10-01T19:16:09.849+0000</td></tr><tr><td>Rhyperior</td><td>2.4</td><td>282.8</td><td>Lightning-rod, Solid-rock, Reckless</td><td>268</td><td>{special-attack=55, defense=130, attack=140, hp=115, special-defense=55, speed=40}</td><td>Ground, Rock</td><td>2024-10-01T19:16:09.849+0000</td></tr><tr><td>Roselia</td><td>0.3</td><td>2.0</td><td>Natural-cure, Poison-point, Leaf-guard</td><td>140</td><td>{special-attack=100, defense=45, attack=60, hp=50, special-defense=80, speed=65}</td><td>Grass, Poison</td><td>2024-10-01T19:16:09.849+0000</td></tr><tr><td>Roserade</td><td>0.9</td><td>14.5</td><td>Natural-cure, Poison-point, Technician</td><td>258</td><td>{special-attack=125, defense=65, attack=70, hp=60, special-defense=105, speed=90}</td><td>Grass, Poison</td><td>2024-10-01T19:16:09.849+0000</td></tr><tr><td>Rowlet</td><td>0.3</td><td>1.5</td><td>Overgrow, Long-reach</td><td>64</td><td>{special-attack=50, defense=55, attack=55, hp=68, special-defense=50, speed=42}</td><td>Grass, Flying</td><td>2024-10-01T19:16:09.849+0000</td></tr><tr><td>Abomasnow</td><td>2.2</td><td>135.5</td><td>Snow-warning, Soundproof</td><td>173</td><td>{special-attack=92, defense=75, attack=92, hp=90, special-defense=85, speed=60}</td><td>Grass, Ice</td><td>2024-10-01T19:16:09.849+0000</td></tr><tr><td>Abra</td><td>0.9</td><td>19.5</td><td>Synchronize, Inner-focus, Magic-guard</td><td>62</td><td>{special-attack=105, defense=15, attack=20, hp=25, special-defense=55, speed=90}</td><td>Psychic</td><td>2024-10-01T19:16:09.849+0000</td></tr><tr><td>Absol</td><td>1.2</td><td>47.0</td><td>Pressure, Super-luck, Justified</td><td>163</td><td>{special-attack=75, defense=60, attack=130, hp=65, special-defense=60, speed=75}</td><td>Dark</td><td>2024-10-01T19:16:09.849+0000</td></tr><tr><td>Accelgor</td><td>0.8</td><td>25.3</td><td>Hydration, Sticky-hold, Unburden</td><td>173</td><td>{special-attack=100, defense=40, attack=70, hp=80, special-defense=60, speed=145}</td><td>Bug</td><td>2024-10-01T19:16:09.849+0000</td></tr><tr><td>Aerodactyl</td><td>1.8</td><td>59.0</td><td>Rock-head, Pressure, Unnerve</td><td>180</td><td>{special-attack=60, defense=65, attack=105, hp=80, special-defense=75, speed=130}</td><td>Rock, Flying</td><td>2024-10-01T19:16:09.849+0000</td></tr><tr><td>Aggron</td><td>2.1</td><td>360.0</td><td>Sturdy, Rock-head, Heavy-metal</td><td>265</td><td>{special-attack=60, defense=180, attack=110, hp=70, special-defense=60, speed=50}</td><td>Steel, Rock</td><td>2024-10-01T19:16:09.849+0000</td></tr><tr><td>Aipom</td><td>0.8</td><td>11.5</td><td>Run-away, Pickup, Skill-link</td><td>72</td><td>{special-attack=40, defense=55, attack=70, hp=55, special-defense=55, speed=85}</td><td>Normal</td><td>2024-10-01T19:16:09.849+0000</td></tr><tr><td>Alakazam</td><td>1.5</td><td>48.0</td><td>Synchronize, Inner-focus, Magic-guard</td><td>250</td><td>{special-attack=135, defense=45, attack=50, hp=55, special-defense=95, speed=120}</td><td>Psychic</td><td>2024-10-01T19:16:09.849+0000</td></tr><tr><td>Alomomola</td><td>1.2</td><td>31.6</td><td>Healer, Hydration, Regenerator</td><td>165</td><td>{special-attack=40, defense=80, attack=75, hp=165, special-defense=45, speed=65}</td><td>Water</td><td>2024-10-01T19:16:09.849+0000</td></tr><tr><td>Altaria</td><td>1.1</td><td>20.6</td><td>Natural-cure, Cloud-nine</td><td>172</td><td>{special-attack=70, defense=90, attack=70, hp=75, special-defense=105, speed=80}</td><td>Dragon, Flying</td><td>2024-10-01T19:16:09.849+0000</td></tr><tr><td>Ambipom</td><td>1.2</td><td>20.3</td><td>Technician, Pickup, Skill-link</td><td>169</td><td>{special-attack=60, defense=66, attack=100, hp=75, special-defense=66, speed=115}</td><td>Normal</td><td>2024-10-01T19:16:09.849+0000</td></tr><tr><td>Amoonguss</td><td>0.6</td><td>10.5</td><td>Effect-spore, Regenerator</td><td>162</td><td>{special-attack=85, defense=70, attack=85, hp=114, special-defense=80, speed=30}</td><td>Grass, Poison</td><td>2024-10-01T19:16:09.849+0000</td></tr><tr><td>Ampharos</td><td>1.4</td><td>61.5</td><td>Static, Plus</td><td>230</td><td>{special-attack=115, defense=85, attack=75, hp=90, special-defense=90, speed=55}</td><td>Electric</td><td>2024-10-01T19:16:09.849+0000</td></tr><tr><td>Anorith</td><td>0.7</td><td>12.5</td><td>Battle-armor, Swift-swim</td><td>71</td><td>{special-attack=40, defense=50, attack=95, hp=45, special-defense=50, speed=75}</td><td>Rock, Bug</td><td>2024-10-01T19:16:09.849+0000</td></tr><tr><td>Arbok</td><td>3.5</td><td>65.0</td><td>Intimidate, Shed-skin, Unnerve</td><td>157</td><td>{special-attack=65, defense=69, attack=95, hp=60, special-defense=79, speed=80}</td><td>Poison</td><td>2024-10-01T19:16:09.849+0000</td></tr><tr><td>Arcanine</td><td>1.9</td><td>155.0</td><td>Intimidate, Flash-fire, Justified</td><td>194</td><td>{special-attack=100, defense=80, attack=110, hp=90, special-defense=80, speed=95}</td><td>Fire</td><td>2024-10-01T19:16:09.849+0000</td></tr><tr><td>Arceus</td><td>3.2</td><td>320.0</td><td>Multitype</td><td>324</td><td>{special-attack=120, defense=120, attack=120, hp=120, special-defense=120, speed=120}</td><td>Normal</td><td>2024-10-01T19:16:09.849+0000</td></tr><tr><td>Armaldo</td><td>1.5</td><td>68.2</td><td>Battle-armor, Swift-swim</td><td>173</td><td>{special-attack=70, defense=100, attack=125, hp=75, special-defense=80, speed=45}</td><td>Rock, Bug</td><td>2024-10-01T19:16:09.849+0000</td></tr><tr><td>Aromatisse</td><td>0.8</td><td>15.5</td><td>Healer, Aroma-veil</td><td>162</td><td>{special-attack=99, defense=72, attack=72, hp=101, special-defense=89, speed=29}</td><td>Fairy</td><td>2024-10-01T19:16:09.849+0000</td></tr><tr><td>Aron</td><td>0.4</td><td>60.0</td><td>Sturdy, Rock-head, Heavy-metal</td><td>66</td><td>{special-attack=40, defense=100, attack=70, hp=50, special-defense=40, speed=30}</td><td>Steel, Rock</td><td>2024-10-01T19:16:09.849+0000</td></tr><tr><td>Articuno</td><td>1.7</td><td>55.4</td><td>Pressure, Snow-cloak</td><td>290</td><td>{special-attack=95, defense=100, attack=85, hp=90, special-defense=125, speed=85}</td><td>Ice, Flying</td><td>2024-10-01T19:16:09.849+0000</td></tr><tr><td>Audino</td><td>1.1</td><td>31.0</td><td>Healer, Regenerator, Klutz</td><td>390</td><td>{special-attack=60, defense=86, attack=60, hp=103, special-defense=86, speed=50}</td><td>Normal</td><td>2024-10-01T19:16:09.849+0000</td></tr><tr><td>Bagon</td><td>0.6</td><td>42.1</td><td>Rock-head, Sheer-force</td><td>60</td><td>{special-attack=40, defense=60, attack=75, hp=45, special-defense=30, speed=50}</td><td>Dragon</td><td>2024-10-01T19:16:09.849+0000</td></tr><tr><td>Baltoy</td><td>0.5</td><td>21.5</td><td>Levitate</td><td>60</td><td>{special-attack=40, defense=55, attack=40, hp=40, special-defense=70, speed=55}</td><td>Ground, Psychic</td><td>2024-10-01T19:16:09.849+0000</td></tr><tr><td>Banette</td><td>1.1</td><td>12.5</td><td>Insomnia, Frisk, Cursed-body</td><td>159</td><td>{special-attack=83, defense=65, attack=115, hp=64, special-defense=63, speed=65}</td><td>Ghost</td><td>2024-10-01T19:16:09.849+0000</td></tr><tr><td>Barboach</td><td>0.4</td><td>1.9</td><td>Oblivious, Anticipation, Hydration</td><td>58</td><td>{special-attack=46, defense=43, attack=48, hp=50, special-defense=41, speed=60}</td><td>Water, Ground</td><td>2024-10-01T19:16:09.849+0000</td></tr><tr><td>Barraskewda</td><td>1.3</td><td>30.0</td><td>Swift-swim, Propeller-tail</td><td>172</td><td>{special-attack=60, defense=60, attack=123, hp=61, special-defense=50, speed=136}</td><td>Water</td><td>2024-10-01T19:16:09.849+0000</td></tr><tr><td>Beldum</td><td>0.6</td><td>95.2</td><td>Clear-body, Light-metal</td><td>60</td><td>{special-attack=35, defense=80, attack=55, hp=40, special-defense=60, speed=30}</td><td>Steel, Psychic</td><td>2024-10-01T19:16:09.849+0000</td></tr><tr><td>Bellossom</td><td>0.4</td><td>5.8</td><td>Chlorophyll, Healer</td><td>245</td><td>{special-attack=90, defense=95, attack=80, hp=75, special-defense=100, speed=50}</td><td>Grass</td><td>2024-10-01T19:16:09.849+0000</td></tr><tr><td>Bellsprout</td><td>0.7</td><td>4.0</td><td>Chlorophyll, Gluttony</td><td>60</td><td>{special-attack=70, defense=35, attack=75, hp=50, special-defense=30, speed=40}</td><td>Grass, Poison</td><td>2024-10-01T19:16:09.849+0000</td></tr><tr><td>Bergmite</td><td>1.0</td><td>99.5</td><td>Own-tempo, Ice-body, Sturdy</td><td>61</td><td>{special-attack=32, defense=85, attack=69, hp=55, special-defense=35, speed=28}</td><td>Ice</td><td>2024-10-01T19:16:09.849+0000</td></tr><tr><td>Bidoof</td><td>0.5</td><td>20.0</td><td>Simple, Unaware, Moody</td><td>50</td><td>{special-attack=35, defense=40, attack=45, hp=59, special-defense=40, speed=31}</td><td>Normal</td><td>2024-10-01T19:16:09.849+0000</td></tr><tr><td>Bisharp</td><td>1.6</td><td>70.0</td><td>Defiant, Inner-focus, Pressure</td><td>172</td><td>{special-attack=60, defense=100, attack=125, hp=65, special-defense=70, speed=70}</td><td>Dark, Steel</td><td>2024-10-01T19:16:09.849+0000</td></tr><tr><td>Blacephalon</td><td>1.8</td><td>13.0</td><td>Beast-boost</td><td>285</td><td>{special-attack=151, defense=53, attack=127, hp=53, special-defense=79, speed=107}</td><td>Fire, Ghost</td><td>2024-10-01T19:16:09.849+0000</td></tr><tr><td>Blastoise</td><td>1.6</td><td>85.5</td><td>Torrent, Rain-dish</td><td>265</td><td>{special-attack=85, defense=100, attack=83, hp=79, special-defense=105, speed=78}</td><td>Water</td><td>2024-10-01T19:16:09.849+0000</td></tr><tr><td>Blaziken</td><td>1.9</td><td>52.0</td><td>Blaze, Speed-boost</td><td>265</td><td>{special-attack=110, defense=70, attack=120, hp=80, special-defense=70, speed=80}</td><td>Fire, Fighting</td><td>2024-10-01T19:16:09.849+0000</td></tr><tr><td>Blipbug</td><td>0.4</td><td>8.0</td><td>Swarm, Compound-eyes, Telepathy</td><td>36</td><td>{special-attack=25, defense=20, attack=20, hp=25, special-defense=45, speed=45}</td><td>Bug</td><td>2024-10-01T19:16:09.849+0000</td></tr><tr><td>Boltund</td><td>1.0</td><td>34.0</td><td>Strong-jaw, Competitive</td><td>172</td><td>{special-attack=90, defense=60, attack=90, hp=69, special-defense=60, speed=121}</td><td>Electric</td><td>2024-10-01T19:16:09.849+0000</td></tr><tr><td>Bounsweet</td><td>0.3</td><td>3.2</td><td>Leaf-guard, Oblivious, Sweet-veil</td><td>42</td><td>{special-attack=30, defense=38, attack=30, hp=42, special-defense=38, speed=32}</td><td>Grass</td><td>2024-10-01T19:16:09.849+0000</td></tr><tr><td>Braixen</td><td>1.0</td><td>14.5</td><td>Blaze, Magician</td><td>143</td><td>{special-attack=90, defense=58, attack=59, hp=59, special-defense=70, speed=73}</td><td>Fire</td><td>2024-10-01T19:16:09.849+0000</td></tr><tr><td>Brionne</td><td>0.6</td><td>17.5</td><td>Torrent, Liquid-voice</td><td>147</td><td>{special-attack=91, defense=69, attack=69, hp=60, special-defense=81, speed=50}</td><td>Water</td><td>2024-10-01T19:16:09.849+0000</td></tr><tr><td>Butterfree</td><td>1.1</td><td>32.0</td><td>Compound-eyes, Tinted-lens</td><td>198</td><td>{special-attack=90, defense=50, attack=45, hp=60, special-defense=80, speed=70}</td><td>Bug, Flying</td><td>2024-10-01T19:16:09.849+0000</td></tr><tr><td>Buzzwole</td><td>2.4</td><td>333.6</td><td>Beast-boost</td><td>285</td><td>{special-attack=53, defense=139, attack=139, hp=107, special-defense=53, speed=79}</td><td>Bug, Fighting</td><td>2024-10-01T19:16:09.849+0000</td></tr><tr><td>Cacturne</td><td>1.3</td><td>77.4</td><td>Sand-veil, Water-absorb</td><td>166</td><td>{special-attack=115, defense=60, attack=115, hp=70, special-defense=60, speed=55}</td><td>Grass, Dark</td><td>2024-10-01T19:16:09.849+0000</td></tr><tr><td>Calyrex</td><td>1.1</td><td>7.7</td><td>Unnerve</td><td>250</td><td>{special-attack=80, defense=80, attack=80, hp=100, special-defense=80, speed=80}</td><td>Psychic, Grass</td><td>2024-10-01T19:16:09.849+0000</td></tr><tr><td>Carbink</td><td>0.3</td><td>5.7</td><td>Clear-body, Sturdy</td><td>100</td><td>{special-attack=50, defense=150, attack=50, hp=50, special-defense=150, speed=50}</td><td>Rock, Fairy</td><td>2024-10-01T19:16:09.849+0000</td></tr><tr><td>Carnivine</td><td>1.4</td><td>27.0</td><td>Levitate</td><td>159</td><td>{special-attack=90, defense=72, attack=100, hp=74, special-defense=72, speed=46}</td><td>Grass</td><td>2024-10-01T19:16:09.849+0000</td></tr><tr><td>Carracosta</td><td>1.2</td><td>81.0</td><td>Solid-rock, Sturdy, Swift-swim</td><td>173</td><td>{special-attack=83, defense=133, attack=108, hp=74, special-defense=65, speed=32}</td><td>Water, Rock</td><td>2024-10-01T19:16:09.849+0000</td></tr><tr><td>Castform</td><td>0.3</td><td>0.8</td><td>Forecast</td><td>147</td><td>{special-attack=70, defense=70, attack=70, hp=70, special-defense=70, speed=70}</td><td>Normal</td><td>2024-10-01T19:16:09.849+0000</td></tr><tr><td>Caterpie</td><td>0.3</td><td>2.9</td><td>Shield-dust, Run-away</td><td>39</td><td>{special-attack=20, defense=35, attack=30, hp=45, special-defense=20, speed=45}</td><td>Bug</td><td>2024-10-01T19:16:09.849+0000</td></tr><tr><td>Celebi</td><td>0.6</td><td>5.0</td><td>Natural-cure</td><td>300</td><td>{special-attack=100, defense=100, attack=100, hp=100, special-defense=100, speed=100}</td><td>Psychic, Grass</td><td>2024-10-01T19:16:09.849+0000</td></tr><tr><td>Chandelure</td><td>1.0</td><td>34.3</td><td>Flash-fire, Flame-body, Infiltrator</td><td>260</td><td>{special-attack=145, defense=90, attack=55, hp=60, special-defense=90, speed=80}</td><td>Ghost, Fire</td><td>2024-10-01T19:16:09.849+0000</td></tr><tr><td>Chansey</td><td>1.1</td><td>34.6</td><td>Natural-cure, Serene-grace, Healer</td><td>395</td><td>{special-attack=35, defense=5, attack=5, hp=250, special-defense=105, speed=50}</td><td>Normal</td><td>2024-10-01T19:16:09.849+0000</td></tr><tr><td>Charizard</td><td>1.7</td><td>90.5</td><td>Blaze, Solar-power</td><td>267</td><td>{special-attack=109, defense=78, attack=84, hp=78, special-defense=85, speed=100}</td><td>Fire, Flying</td><td>2024-10-01T19:16:09.849+0000</td></tr><tr><td>Charmeleon</td><td>1.1</td><td>19.0</td><td>Blaze, Solar-power</td><td>142</td><td>{special-attack=80, defense=58, attack=64, hp=58, special-defense=65, speed=80}</td><td>Fire</td><td>2024-10-01T19:16:09.849+0000</td></tr><tr><td>Charmander</td><td>0.6</td><td>8.5</td><td>Blaze, Solar-power</td><td>62</td><td>{special-attack=60, defense=43, attack=52, hp=39, special-defense=50, speed=65}</td><td>Fire</td><td>2024-10-01T19:16:09.849+0000</td></tr><tr><td>Chatot</td><td>0.5</td><td>1.9</td><td>Keen-eye, Tangled-feet, Big-pecks</td><td>144</td><td>{special-attack=92, defense=45, attack=65, hp=76, special-defense=42, speed=91}</td><td>Normal, Flying</td><td>2024-10-01T19:16:09.849+0000</td></tr><tr><td>Cherrim</td><td>0.5</td><td>9.3</td><td>Flower-gift</td><td>158</td><td>{special-attack=87, defense=70, attack=60, hp=70, special-defense=78, speed=85}</td><td>Grass</td><td>2024-10-01T19:16:09.849+0000</td></tr><tr><td>Cherubi</td><td>0.4</td><td>3.3</td><td>Chlorophyll</td><td>55</td><td>{special-attack=62, defense=45, attack=35, hp=45, special-defense=53, speed=35}</td><td>Grass</td><td>2024-10-01T19:16:09.849+0000</td></tr><tr><td>Chespin</td><td>0.4</td><td>9.0</td><td>Overgrow, Bulletproof</td><td>63</td><td>{special-attack=48, defense=65, attack=61, hp=56, special-defense=45, speed=38}</td><td>Grass</td><td>2024-10-01T19:16:09.849+0000</td></tr><tr><td>Chikorita</td><td>0.9</td><td>6.4</td><td>Overgrow, Leaf-guard</td><td>64</td><td>{special-attack=49, defense=65, attack=49, hp=45, special-defense=65, speed=45}</td><td>Grass</td><td>2024-10-01T19:16:09.849+0000</td></tr><tr><td>Chimchar</td><td>0.5</td><td>6.2</td><td>Blaze, Iron-fist</td><td>62</td><td>{special-attack=58, defense=44, attack=58, hp=44, special-defense=44, speed=61}</td><td>Fire</td><td>2024-10-01T19:16:09.849+0000</td></tr><tr><td>Houndoom</td><td>1.4</td><td>35.0</td><td>Early-bird, Flash-fire, Unnerve</td><td>175</td><td>{special-attack=110, defense=50, attack=90, hp=75, special-defense=80, speed=95}</td><td>Dark, Fire</td><td>2024-10-01T19:16:09.849+0000</td></tr><tr><td>Houndour</td><td>0.6</td><td>10.8</td><td>Early-bird, Flash-fire, Unnerve</td><td>66</td><td>{special-attack=80, defense=30, attack=60, hp=45, special-defense=50, speed=65}</td><td>Dark, Fire</td><td>2024-10-01T19:16:09.849+0000</td></tr><tr><td>Huntail</td><td>1.7</td><td>27.0</td><td>Swift-swim, Water-veil</td><td>170</td><td>{special-attack=94, defense=105, attack=104, hp=55, special-defense=75, speed=52}</td><td>Water</td><td>2024-10-01T19:16:09.849+0000</td></tr><tr><td>Hydreigon</td><td>1.8</td><td>160.0</td><td>Levitate</td><td>300</td><td>{special-attack=125, defense=90, attack=105, hp=92, special-defense=90, speed=98}</td><td>Dark, Dragon</td><td>2024-10-01T19:16:09.849+0000</td></tr><tr><td>Hypno</td><td>1.6</td><td>75.6</td><td>Insomnia, Forewarn, Inner-focus</td><td>169</td><td>{special-attack=73, defense=70, attack=73, hp=85, special-defense=115, speed=67}</td><td>Psychic</td><td>2024-10-01T19:16:09.849+0000</td></tr><tr><td>Igglybuff</td><td>0.3</td><td>1.0</td><td>Cute-charm, Competitive, Friend-guard</td><td>42</td><td>{special-attack=40, defense=15, attack=30, hp=90, special-defense=20, speed=15}</td><td>Normal, Fairy</td><td>2024-10-01T19:16:09.849+0000</td></tr><tr><td>Incineroar</td><td>1.8</td><td>83.0</td><td>Blaze, Intimidate</td><td>265</td><td>{special-attack=80, defense=90, attack=115, hp=95, special-defense=90, speed=60}</td><td>Fire, Dark</td><td>2024-10-01T19:16:09.849+0000</td></tr><tr><td>Inteleon</td><td>1.9</td><td>45.2</td><td>Torrent, Sniper</td><td>265</td><td>{special-attack=125, defense=65, attack=85, hp=70, special-defense=65, speed=120}</td><td>Water</td><td>2024-10-01T19:16:09.849+0000</td></tr><tr><td>Jangmo-o</td><td>0.6</td><td>29.7</td><td>Bulletproof, Soundproof, Overcoat</td><td>60</td><td>{special-attack=45, defense=65, attack=55, hp=45, special-defense=45, speed=45}</td><td>Dragon</td><td>2024-10-01T19:16:09.849+0000</td></tr><tr><td>Jigglypuff</td><td>0.5</td><td>5.5</td><td>Cute-charm, Competitive, Friend-guard</td><td>95</td><td>{special-attack=45, defense=20, attack=45, hp=115, special-defense=25, speed=20}</td><td>Normal, Fairy</td><td>2024-10-01T19:16:09.849+0000</td></tr><tr><td>Jolteon</td><td>0.8</td><td>24.5</td><td>Volt-absorb, Quick-feet</td><td>184</td><td>{special-attack=110, defense=60, attack=65, hp=65, special-defense=95, speed=130}</td><td>Electric</td><td>2024-10-01T19:16:09.849+0000</td></tr><tr><td>Jynx</td><td>1.4</td><td>40.6</td><td>Oblivious, Forewarn, Dry-skin</td><td>159</td><td>{special-attack=115, defense=35, attack=50, hp=65, special-defense=95, speed=95}</td><td>Ice, Psychic</td><td>2024-10-01T19:16:09.849+0000</td></tr><tr><td>Kabuto</td><td>0.5</td><td>11.5</td><td>Swift-swim, Battle-armor, Weak-armor</td><td>71</td><td>{special-attack=55, defense=90, attack=80, hp=30, special-defense=45, speed=55}</td><td>Rock, Water</td><td>2024-10-01T19:16:09.849+0000</td></tr><tr><td>Kabutops</td><td>1.3</td><td>40.5</td><td>Swift-swim, Battle-armor, Weak-armor</td><td>173</td><td>{special-attack=65, defense=105, attack=115, hp=60, special-defense=70, speed=80}</td><td>Rock, Water</td><td>2024-10-01T19:16:09.849+0000</td></tr><tr><td>Kadabra</td><td>1.3</td><td>56.5</td><td>Synchronize, Inner-focus, Magic-guard</td><td>140</td><td>{special-attack=120, defense=30, attack=35, hp=40, special-defense=70, speed=105}</td><td>Psychic</td><td>2024-10-01T19:16:09.849+0000</td></tr><tr><td>Kakuna</td><td>0.6</td><td>10.0</td><td>Shed-skin</td><td>72</td><td>{special-attack=25, defense=50, attack=25, hp=45, special-defense=25, speed=35}</td><td>Bug, Poison</td><td>2024-10-01T19:16:09.849+0000</td></tr><tr><td>Kecleon</td><td>1.0</td><td>22.0</td><td>Color-change, Protean</td><td>154</td><td>{special-attack=60, defense=70, attack=90, hp=60, special-defense=120, speed=40}</td><td>Normal</td><td>2024-10-01T19:16:09.849+0000</td></tr><tr><td>Kingdra</td><td>1.8</td><td>152.0</td><td>Swift-swim, Sniper, Damp</td><td>270</td><td>{special-attack=95, defense=95, attack=95, hp=75, special-defense=95, speed=85}</td><td>Water, Dragon</td><td>2024-10-01T19:16:09.849+0000</td></tr><tr><td>Kingler</td><td>1.3</td><td>60.0</td><td>Hyper-cutter, Shell-armor, Sheer-force</td><td>166</td><td>{special-attack=50, defense=115, attack=130, hp=55, special-defense=50, speed=75}</td><td>Water</td><td>2024-10-01T19:16:09.849+0000</td></tr><tr><td>Kirlia</td><td>0.8</td><td>20.2</td><td>Synchronize, Trace, Telepathy</td><td>97</td><td>{special-attack=65, defense=35, attack=35, hp=38, special-defense=55, speed=50}</td><td>Psychic, Fairy</td><td>2024-10-01T19:16:09.849+0000</td></tr><tr><td>Klang</td><td>0.6</td><td>51.0</td><td>Plus, Minus, Clear-body</td><td>154</td><td>{special-attack=70, defense=95, attack=80, hp=60, special-defense=85, speed=50}</td><td>Steel</td><td>2024-10-01T19:16:09.849+0000</td></tr><tr><td>Klink</td><td>0.3</td><td>21.0</td><td>Plus, Minus, Clear-body</td><td>60</td><td>{special-attack=45, defense=70, attack=55, hp=40, special-defense=60, speed=30}</td><td>Steel</td><td>2024-10-01T19:16:09.849+0000</td></tr><tr><td>Klinklang</td><td>0.6</td><td>81.0</td><td>Plus, Minus, Clear-body</td><td>260</td><td>{special-attack=70, defense=115, attack=100, hp=60, special-defense=85, speed=90}</td><td>Steel</td><td>2024-10-01T19:16:09.849+0000</td></tr><tr><td>Koffing</td><td>0.6</td><td>1.0</td><td>Levitate, Neutralizing-gas, Stench</td><td>68</td><td>{special-attack=60, defense=95, attack=65, hp=40, special-defense=45, speed=35}</td><td>Poison</td><td>2024-10-01T19:16:09.849+0000</td></tr><tr><td>Komala</td><td>0.4</td><td>19.9</td><td>Comatose</td><td>168</td><td>{special-attack=75, defense=65, attack=115, hp=65, special-defense=95, speed=65}</td><td>Normal</td><td>2024-10-01T19:16:09.849+0000</td></tr><tr><td>Kommo-o</td><td>1.6</td><td>78.2</td><td>Bulletproof, Soundproof, Overcoat</td><td>300</td><td>{special-attack=100, defense=125, attack=110, hp=75, special-defense=105, speed=85}</td><td>Dragon, Fighting</td><td>2024-10-01T19:16:09.849+0000</td></tr><tr><td>Krabby</td><td>0.4</td><td>6.5</td><td>Hyper-cutter, Shell-armor, Sheer-force</td><td>65</td><td>{special-attack=25, defense=90, attack=105, hp=30, special-defense=25, speed=50}</td><td>Water</td><td>2024-10-01T19:16:09.849+0000</td></tr><tr><td>Kricketot</td><td>0.3</td><td>2.2</td><td>Shed-skin, Run-away</td><td>39</td><td>{special-attack=25, defense=41, attack=25, hp=37, special-defense=41, speed=25}</td><td>Bug</td><td>2024-10-01T19:16:09.849+0000</td></tr><tr><td>Kricketune</td><td>1.0</td><td>25.5</td><td>Swarm, Technician</td><td>134</td><td>{special-attack=55, defense=51, attack=85, hp=77, special-defense=51, speed=65}</td><td>Bug</td><td>2024-10-01T19:16:09.849+0000</td></tr><tr><td>Krookodile</td><td>1.5</td><td>96.3</td><td>Intimidate, Moxie, Anger-point</td><td>260</td><td>{special-attack=65, defense=80, attack=117, hp=95, special-defense=70, speed=92}</td><td>Ground, Dark</td><td>2024-10-01T19:16:09.849+0000</td></tr><tr><td>Kyogre</td><td>4.5</td><td>352.0</td><td>Drizzle</td><td>335</td><td>{special-attack=150, defense=90, attack=100, hp=100, special-defense=140, speed=90}</td><td>Water</td><td>2024-10-01T19:16:09.849+0000</td></tr><tr><td>Kyurem</td><td>3.0</td><td>325.0</td><td>Pressure</td><td>330</td><td>{special-attack=130, defense=90, attack=130, hp=125, special-defense=90, speed=95}</td><td>Dragon, Ice</td><td>2024-10-01T19:16:09.849+0000</td></tr><tr><td>Lanturn</td><td>1.2</td><td>22.5</td><td>Volt-absorb, Illuminate, Water-absorb</td><td>161</td><td>{special-attack=76, defense=58, attack=58, hp=125, special-defense=76, speed=67}</td><td>Water, Electric</td><td>2024-10-01T19:16:09.849+0000</td></tr><tr><td>Lapras</td><td>2.5</td><td>220.0</td><td>Water-absorb, Shell-armor, Hydration</td><td>187</td><td>{special-attack=85, defense=80, attack=85, hp=130, special-defense=95, speed=60}</td><td>Water, Ice</td><td>2024-10-01T19:16:09.849+0000</td></tr><tr><td>Larvesta</td><td>1.1</td><td>28.8</td><td>Flame-body, Swarm</td><td>72</td><td>{special-attack=50, defense=55, attack=85, hp=55, special-defense=55, speed=60}</td><td>Bug, Fire</td><td>2024-10-01T19:16:09.849+0000</td></tr><tr><td>Larvitar</td><td>0.6</td><td>72.0</td><td>Guts, Sand-veil</td><td>60</td><td>{special-attack=45, defense=50, attack=64, hp=50, special-defense=50, speed=41}</td><td>Rock, Ground</td><td>2024-10-01T19:16:09.849+0000</td></tr><tr><td>Latias</td><td>1.4</td><td>40.0</td><td>Levitate</td><td>300</td><td>{special-attack=110, defense=90, attack=80, hp=80, special-defense=130, speed=110}</td><td>Dragon, Psychic</td><td>2024-10-01T19:16:09.849+0000</td></tr><tr><td>Latios</td><td>2.0</td><td>60.0</td><td>Levitate</td><td>300</td><td>{special-attack=130, defense=80, attack=90, hp=80, special-defense=110, speed=110}</td><td>Dragon, Psychic</td><td>2024-10-01T19:16:09.849+0000</td></tr><tr><td>Leafeon</td><td>1.0</td><td>25.5</td><td>Leaf-guard, Chlorophyll</td><td>184</td><td>{special-attack=60, defense=130, attack=110, hp=65, special-defense=65, speed=95}</td><td>Grass</td><td>2024-10-01T19:16:09.849+0000</td></tr><tr><td>Leavanny</td><td>1.2</td><td>20.5</td><td>Swarm, Chlorophyll, Overcoat</td><td>225</td><td>{special-attack=70, defense=80, attack=103, hp=75, special-defense=80, speed=92}</td><td>Bug, Grass</td><td>2024-10-01T19:16:09.849+0000</td></tr><tr><td>Ledian</td><td>1.4</td><td>35.6</td><td>Swarm, Early-bird, Iron-fist</td><td>137</td><td>{special-attack=55, defense=50, attack=35, hp=55, special-defense=110, speed=85}</td><td>Bug, Flying</td><td>2024-10-01T19:16:09.849+0000</td></tr><tr><td>Ledyba</td><td>1.0</td><td>10.8</td><td>Swarm, Early-bird, Rattled</td><td>53</td><td>{special-attack=40, defense=30, attack=20, hp=40, special-defense=80, speed=55}</td><td>Bug, Flying</td><td>2024-10-01T19:16:09.849+0000</td></tr><tr><td>Lickilicky</td><td>1.7</td><td>140.0</td><td>Own-tempo, Oblivious, Cloud-nine</td><td>180</td><td>{special-attack=80, defense=95, attack=85, hp=110, special-defense=95, speed=50}</td><td>Normal</td><td>2024-10-01T19:16:09.849+0000</td></tr><tr><td>Lickitung</td><td>1.2</td><td>65.5</td><td>Own-tempo, Oblivious, Cloud-nine</td><td>77</td><td>{special-attack=60, defense=75, attack=55, hp=90, special-defense=75, speed=30}</td><td>Normal</td><td>2024-10-01T19:16:09.849+0000</td></tr><tr><td>Liepard</td><td>1.1</td><td>37.5</td><td>Limber, Unburden, Prankster</td><td>156</td><td>{special-attack=88, defense=50, attack=88, hp=64, special-defense=50, speed=106}</td><td>Dark</td><td>2024-10-01T19:16:09.849+0000</td></tr><tr><td>Lileep</td><td>1.0</td><td>23.8</td><td>Suction-cups, Storm-drain</td><td>71</td><td>{special-attack=61, defense=77, attack=41, hp=66, special-defense=87, speed=23}</td><td>Rock, Grass</td><td>2024-10-01T19:16:09.849+0000</td></tr><tr><td>Lilligant</td><td>1.1</td><td>16.3</td><td>Chlorophyll, Own-tempo, Leaf-guard</td><td>168</td><td>{special-attack=110, defense=75, attack=60, hp=70, special-defense=75, speed=90}</td><td>Grass</td><td>2024-10-01T19:16:09.849+0000</td></tr><tr><td>Linoone</td><td>0.5</td><td>32.5</td><td>Pickup, Gluttony, Quick-feet</td><td>147</td><td>{special-attack=50, defense=61, attack=70, hp=78, special-defense=61, speed=100}</td><td>Normal</td><td>2024-10-01T19:16:09.849+0000</td></tr><tr><td>Litwick</td><td>0.3</td><td>3.1</td><td>Flash-fire, Flame-body, Infiltrator</td><td>55</td><td>{special-attack=65, defense=55, attack=30, hp=50, special-defense=55, speed=20}</td><td>Ghost, Fire</td><td>2024-10-01T19:16:09.849+0000</td></tr><tr><td>Litten</td><td>0.4</td><td>4.3</td><td>Blaze, Intimidate</td><td>64</td><td>{special-attack=60, defense=40, attack=65, hp=45, special-defense=40, speed=70}</td><td>Fire</td><td>2024-10-01T19:16:09.849+0000</td></tr><tr><td>Lopunny</td><td>1.2</td><td>33.3</td><td>Cute-charm, Klutz, Limber</td><td>168</td><td>{special-attack=54, defense=84, attack=76, hp=65, special-defense=96, speed=105}</td><td>Normal</td><td>2024-10-01T19:16:09.849+0000</td></tr><tr><td>Lotad</td><td>0.5</td><td>2.6</td><td>Swift-swim, Rain-dish, Own-tempo</td><td>44</td><td>{special-attack=40, defense=30, attack=30, hp=40, special-defense=50, speed=30}</td><td>Water, Grass</td><td>2024-10-01T19:16:09.849+0000</td></tr><tr><td>Loudred</td><td>1.0</td><td>40.5</td><td>Soundproof, Scrappy</td><td>126</td><td>{special-attack=71, defense=43, attack=71, hp=84, special-defense=43, speed=48}</td><td>Normal</td><td>2024-10-01T19:16:09.849+0000</td></tr><tr><td>Lucario</td><td>1.2</td><td>54.0</td><td>Steadfast, Inner-focus, Justified</td><td>184</td><td>{special-attack=115, defense=70, attack=110, hp=70, special-defense=70, speed=90}</td><td>Fighting, Steel</td><td>2024-10-01T19:16:09.849+0000</td></tr><tr><td>Ludicolo</td><td>1.5</td><td>55.0</td><td>Swift-swim, Rain-dish, Own-tempo</td><td>240</td><td>{special-attack=90, defense=70, attack=70, hp=80, special-defense=100, speed=70}</td><td>Water, Grass</td><td>2024-10-01T19:16:09.849+0000</td></tr><tr><td>Lumineon</td><td>1.2</td><td>24.0</td><td>Swift-swim, Storm-drain, Water-veil</td><td>161</td><td>{special-attack=69, defense=76, attack=69, hp=69, special-defense=86, speed=91}</td><td>Water</td><td>2024-10-01T19:16:09.849+0000</td></tr><tr><td>Lunala</td><td>4.0</td><td>120.0</td><td>Shadow-shield</td><td>340</td><td>{special-attack=137, defense=89, attack=113, hp=137, special-defense=107, speed=97}</td><td>Psychic, Ghost</td><td>2024-10-01T19:16:09.849+0000</td></tr><tr><td>Lunatone</td><td>1.0</td><td>168.0</td><td>Levitate</td><td>161</td><td>{special-attack=95, defense=65, attack=55, hp=90, special-defense=85, speed=70}</td><td>Rock, Psychic</td><td>2024-10-01T19:16:09.849+0000</td></tr><tr><td>Luxio</td><td>0.9</td><td>30.5</td><td>Rivalry, Intimidate, Guts</td><td>127</td><td>{special-attack=60, defense=49, attack=85, hp=60, special-defense=49, speed=60}</td><td>Electric</td><td>2024-10-01T19:16:09.849+0000</td></tr><tr><td>Luxray</td><td>1.4</td><td>42.0</td><td>Rivalry, Intimidate, Guts</td><td>262</td><td>{special-attack=95, defense=79, attack=120, hp=80, special-defense=79, speed=70}</td><td>Electric</td><td>2024-10-01T19:16:09.849+0000</td></tr><tr><td>Magby</td><td>0.7</td><td>21.4</td><td>Flame-body, Vital-spirit</td><td>73</td><td>{special-attack=70, defense=37, attack=75, hp=45, special-defense=55, speed=83}</td><td>Fire</td><td>2024-10-01T19:16:09.849+0000</td></tr><tr><td>Magcargo</td><td>0.8</td><td>55.0</td><td>Magma-armor, Flame-body, Weak-armor</td><td>151</td><td>{special-attack=90, defense=120, attack=50, hp=60, special-defense=80, speed=30}</td><td>Fire, Rock</td><td>2024-10-01T19:16:09.849+0000</td></tr><tr><td>Magikarp</td><td>0.9</td><td>10.0</td><td>Swift-swim, Rattled</td><td>40</td><td>{special-attack=15, defense=55, attack=10, hp=20, special-defense=20, speed=80}</td><td>Water</td><td>2024-10-01T19:16:09.849+0000</td></tr><tr><td>Magmar</td><td>1.3</td><td>44.5</td><td>Flame-body, Vital-spirit</td><td>173</td><td>{special-attack=100, defense=57, attack=95, hp=65, special-defense=85, speed=93}</td><td>Fire</td><td>2024-10-01T19:16:09.849+0000</td></tr><tr><td>Magmortar</td><td>1.6</td><td>68.0</td><td>Flame-body, Vital-spirit</td><td>270</td><td>{special-attack=125, defense=67, attack=95, hp=75, special-defense=95, speed=83}</td><td>Fire</td><td>2024-10-01T19:16:09.849+0000</td></tr><tr><td>Magnemite</td><td>0.3</td><td>6.0</td><td>Magnet-pull, Sturdy, Analytic</td><td>65</td><td>{special-attack=95, defense=70, attack=35, hp=25, special-defense=55, speed=45}</td><td>Electric, Steel</td><td>2024-10-01T19:16:09.849+0000</td></tr><tr><td>Mamoswine</td><td>2.5</td><td>291.0</td><td>Oblivious, Snow-cloak, Thick-fat</td><td>265</td><td>{special-attack=70, defense=80, attack=130, hp=110, special-defense=60, speed=80}</td><td>Ice, Ground</td><td>2024-10-01T19:16:09.849+0000</td></tr><tr><td>Manaphy</td><td>0.3</td><td>1.4</td><td>Hydration</td><td>270</td><td>{special-attack=100, defense=100, attack=100, hp=100, special-defense=100, speed=100}</td><td>Water</td><td>2024-10-01T19:16:09.849+0000</td></tr><tr><td>Mandibuzz</td><td>1.2</td><td>39.5</td><td>Big-pecks, Overcoat, Weak-armor</td><td>179</td><td>{special-attack=55, defense=105, attack=65, hp=110, special-defense=95, speed=80}</td><td>Dark, Flying</td><td>2024-10-01T19:16:09.849+0000</td></tr><tr><td>Manectric</td><td>1.5</td><td>40.2</td><td>Static, Lightning-rod, Minus</td><td>166</td><td>{special-attack=105, defense=60, attack=75, hp=70, special-defense=60, speed=105}</td><td>Electric</td><td>2024-10-01T19:16:09.849+0000</td></tr><tr><td>Maractus</td><td>1.0</td><td>28.0</td><td>Water-absorb, Chlorophyll, Storm-drain</td><td>161</td><td>{special-attack=106, defense=67, attack=86, hp=75, special-defense=67, speed=60}</td><td>Grass</td><td>2024-10-01T19:16:09.849+0000</td></tr><tr><td>Mareep</td><td>0.6</td><td>7.8</td><td>Static, Plus</td><td>56</td><td>{special-attack=65, defense=40, attack=40, hp=55, special-defense=45, speed=35}</td><td>Electric</td><td>2024-10-01T19:16:09.849+0000</td></tr><tr><td>Marill</td><td>0.4</td><td>8.5</td><td>Thick-fat, Huge-power, Sap-sipper</td><td>88</td><td>{special-attack=20, defense=50, attack=20, hp=70, special-defense=50, speed=40}</td><td>Water, Fairy</td><td>2024-10-01T19:16:09.849+0000</td></tr><tr><td>Marshtomp</td><td>0.7</td><td>28.0</td><td>Torrent, Damp</td><td>142</td><td>{special-attack=60, defense=70, attack=85, hp=70, special-defense=70, speed=50}</td><td>Water, Ground</td><td>2024-10-01T19:16:09.849+0000</td></tr><tr><td>Masquerain</td><td>0.8</td><td>3.6</td><td>Intimidate, Unnerve</td><td>159</td><td>{special-attack=100, defense=62, attack=60, hp=70, special-defense=82, speed=80}</td><td>Bug, Flying</td><td>2024-10-01T19:16:09.849+0000</td></tr><tr><td>Mawile</td><td>0.6</td><td>11.5</td><td>Hyper-cutter, Intimidate, Sheer-force</td><td>133</td><td>{special-attack=55, defense=85, attack=85, hp=50, special-defense=55, speed=50}</td><td>Steel, Fairy</td><td>2024-10-01T19:16:09.849+0000</td></tr><tr><td>Medicham</td><td>1.3</td><td>31.5</td><td>Pure-power, Telepathy</td><td>144</td><td>{special-attack=60, defense=75, attack=60, hp=60, special-defense=75, speed=80}</td><td>Fighting, Psychic</td><td>2024-10-01T19:16:09.849+0000</td></tr><tr><td>Meditite</td><td>0.6</td><td>11.2</td><td>Pure-power, Telepathy</td><td>56</td><td>{special-attack=40, defense=55, attack=40, hp=30, special-defense=55, speed=60}</td><td>Fighting, Psychic</td><td>2024-10-01T19:16:09.849+0000</td></tr><tr><td>Melmetal</td><td>2.5</td><td>800.0</td><td>Iron-fist</td><td>300</td><td>{special-attack=80, defense=143, attack=143, hp=135, special-defense=65, speed=34}</td><td>Steel</td><td>2024-10-01T19:16:09.849+0000</td></tr><tr><td>Meltan</td><td>0.2</td><td>8.0</td><td>Magnet-pull</td><td>150</td><td>{special-attack=55, defense=65, attack=65, hp=46, special-defense=35, speed=34}</td><td>Steel</td><td>2024-10-01T19:16:09.849+0000</td></tr><tr><td>Mesprit</td><td>0.3</td><td>0.3</td><td>Levitate</td><td>290</td><td>{special-attack=105, defense=105, attack=105, hp=80, special-defense=105, speed=80}</td><td>Psychic</td><td>2024-10-01T19:16:09.849+0000</td></tr><tr><td>Metagross</td><td>1.6</td><td>550.0</td><td>Clear-body, Light-metal</td><td>300</td><td>{special-attack=95, defense=130, attack=135, hp=80, special-defense=90, speed=70}</td><td>Steel, Psychic</td><td>2024-10-01T19:16:09.849+0000</td></tr><tr><td>Metang</td><td>1.2</td><td>202.5</td><td>Clear-body, Light-metal</td><td>147</td><td>{special-attack=55, defense=100, attack=75, hp=60, special-defense=80, speed=50}</td><td>Steel, Psychic</td><td>2024-10-01T19:16:09.849+0000</td></tr><tr><td>Metapod</td><td>0.7</td><td>9.9</td><td>Shed-skin</td><td>72</td><td>{special-attack=25, defense=55, attack=20, hp=50, special-defense=25, speed=30}</td><td>Bug</td><td>2024-10-01T19:16:09.849+0000</td></tr><tr><td>Mew</td><td>0.4</td><td>4.0</td><td>Synchronize</td><td>300</td><td>{special-attack=100, defense=100, attack=100, hp=100, special-defense=100, speed=100}</td><td>Psychic</td><td>2024-10-01T19:16:09.849+0000</td></tr><tr><td>Mewtwo</td><td>2.0</td><td>122.0</td><td>Pressure, Unnerve</td><td>340</td><td>{special-attack=154, defense=90, attack=110, hp=106, special-defense=90, speed=130}</td><td>Psychic</td><td>2024-10-01T19:16:09.849+0000</td></tr><tr><td>Minccino</td><td>0.4</td><td>5.8</td><td>Cute-charm, Technician, Skill-link</td><td>60</td><td>{special-attack=40, defense=40, attack=50, hp=55, special-defense=40, speed=75}</td><td>Normal</td><td>2024-10-01T19:16:09.849+0000</td></tr><tr><td>Minun</td><td>0.4</td><td>4.2</td><td>Minus, Volt-absorb</td><td>142</td><td>{special-attack=75, defense=50, attack=40, hp=60, special-defense=85, speed=95}</td><td>Electric</td><td>2024-10-01T19:16:09.849+0000</td></tr><tr><td>Mismagius</td><td>0.9</td><td>4.4</td><td>Levitate</td><td>173</td><td>{special-attack=105, defense=60, attack=60, hp=60, special-defense=105, speed=105}</td><td>Ghost</td><td>2024-10-01T19:16:09.849+0000</td></tr><tr><td>Mienshao</td><td>1.4</td><td>35.5</td><td>Inner-focus, Regenerator, Reckless</td><td>179</td><td>{special-attack=95, defense=60, attack=125, hp=65, special-defense=60, speed=105}</td><td>Fighting</td><td>2024-10-01T19:16:09.849+0000</td></tr><tr><td>Mightyena</td><td>1.0</td><td>37.0</td><td>Intimidate, Quick-feet, Moxie</td><td>147</td><td>{special-attack=60, defense=70, attack=90, hp=70, special-defense=60, speed=70}</td><td>Dark</td><td>2024-10-01T19:16:09.849+0000</td></tr><tr><td>Milcery</td><td>0.2</td><td>0.3</td><td>Sweet-veil, Aroma-veil</td><td>54</td><td>{special-attack=50, defense=40, attack=40, hp=45, special-defense=61, speed=34}</td><td>Fairy</td><td>2024-10-01T19:16:09.849+0000</td></tr><tr><td>Milotic</td><td>6.2</td><td>162.0</td><td>Marvel-scale, Competitive, Cute-charm</td><td>189</td><td>{special-attack=100, defense=79, attack=60, hp=95, special-defense=125, speed=81}</td><td>Water</td><td>2024-10-01T19:16:09.849+0000</td></tr><tr><td>Minccino</td><td>0.4</td><td>5.8</td><td>Cute-charm, Technician, Skill-link</td><td>60</td><td>{special-attack=40, defense=40, attack=50, hp=55, special-defense=40, speed=75}</td><td>Normal</td><td>2024-10-01T19:16:09.849+0000</td></tr><tr><td>Minun</td><td>0.4</td><td>4.2</td><td>Minus, Volt-absorb</td><td>142</td><td>{special-attack=75, defense=50, attack=40, hp=60, special-defense=85, speed=95}</td><td>Electric</td><td>2024-10-01T19:16:09.849+0000</td></tr><tr><td>Mismagius</td><td>0.9</td><td>4.4</td><td>Levitate</td><td>173</td><td>{special-attack=105, defense=60, attack=60, hp=60, special-defense=105, speed=105}</td><td>Ghost</td><td>2024-10-01T19:16:09.849+0000</td></tr><tr><td>Mienshao</td><td>1.4</td><td>35.5</td><td>Inner-focus, Regenerator, Reckless</td><td>179</td><td>{special-attack=95, defense=60, attack=125, hp=65, special-defense=60, speed=105}</td><td>Fighting</td><td>2024-10-01T19:16:09.849+0000</td></tr><tr><td>Mightyena</td><td>1.0</td><td>37.0</td><td>Intimidate, Quick-feet, Moxie</td><td>147</td><td>{special-attack=60, defense=70, attack=90, hp=70, special-defense=60, speed=70}</td><td>Dark</td><td>2024-10-01T19:16:09.849+0000</td></tr><tr><td>Milcery</td><td>0.2</td><td>0.3</td><td>Sweet-veil, Aroma-veil</td><td>54</td><td>{special-attack=50, defense=40, attack=40, hp=45, special-defense=61, speed=34}</td><td>Fairy</td><td>2024-10-01T19:16:09.849+0000</td></tr><tr><td>Milotic</td><td>6.2</td><td>162.0</td><td>Marvel-scale, Competitive, Cute-charm</td><td>189</td><td>{special-attack=100, defense=79, attack=60, hp=95, special-defense=125, speed=81}</td><td>Water</td><td>2024-10-01T19:16:09.849+0000</td></tr><tr><td>Moltres</td><td>2.0</td><td>60.0</td><td>Pressure, Flame-body</td><td>290</td><td>{special-attack=125, defense=90, attack=100, hp=90, special-defense=85, speed=90}</td><td>Fire, Flying</td><td>2024-10-01T19:16:09.849+0000</td></tr><tr><td>Monferno</td><td>0.9</td><td>22.0</td><td>Blaze, Iron-fist</td><td>142</td><td>{special-attack=78, defense=52, attack=78, hp=64, special-defense=52, speed=81}</td><td>Fire, Fighting</td><td>2024-10-01T19:16:09.849+0000</td></tr><tr><td>Morelull</td><td>0.2</td><td>1.5</td><td>Illuminate, Effect-spore, Rain-dish</td><td>57</td><td>{special-attack=65, defense=55, attack=35, hp=40, special-defense=75, speed=15}</td><td>Grass, Fairy</td><td>2024-10-01T19:16:09.849+0000</td></tr><tr><td>Mudbray</td><td>1.0</td><td>110.0</td><td>Own-tempo, Stamina, Inner-focus</td><td>77</td><td>{special-attack=45, defense=70, attack=100, hp=70, special-defense=55, speed=45}</td><td>Ground</td><td>2024-10-01T19:16:09.849+0000</td></tr><tr><td>Mudkip</td><td>0.4</td><td>7.6</td><td>Torrent, Damp</td><td>62</td><td>{special-attack=50, defense=50, attack=70, hp=50, special-defense=50, speed=40}</td><td>Water</td><td>2024-10-01T19:16:09.849+0000</td></tr><tr><td>Muk</td><td>1.2</td><td>30.0</td><td>Stench, Sticky-hold, Poison-touch</td><td>175</td><td>{special-attack=65, defense=75, attack=105, hp=105, special-defense=100, speed=50}</td><td>Poison</td><td>2024-10-01T19:16:09.849+0000</td></tr><tr><td>Munna</td><td>0.6</td><td>23.3</td><td>Forewarn, Synchronize, Telepathy</td><td>58</td><td>{special-attack=67, defense=45, attack=25, hp=76, special-defense=55, speed=24}</td><td>Psychic</td><td>2024-10-01T19:16:09.849+0000</td></tr><tr><td>Murkrow</td><td>0.5</td><td>2.1</td><td>Insomnia, Super-luck, Prankster</td><td>81</td><td>{special-attack=85, defense=42, attack=85, hp=60, special-defense=42, speed=91}</td><td>Dark, Flying</td><td>2024-10-01T19:16:09.849+0000</td></tr><tr><td>Musharna</td><td>1.1</td><td>60.5</td><td>Forewarn, Synchronize, Telepathy</td><td>170</td><td>{special-attack=107, defense=85, attack=55, hp=116, special-defense=95, speed=29}</td><td>Psychic</td><td>2024-10-01T19:16:09.849+0000</td></tr><tr><td>Naganadel</td><td>3.6</td><td>150.0</td><td>Beast-boost</td><td>270</td><td>{special-attack=127, defense=73, attack=73, hp=73, special-defense=73, speed=121}</td><td>Poison, Dragon</td><td>2024-10-01T19:16:09.849+0000</td></tr><tr><td>Natu</td><td>0.2</td><td>2.0</td><td>Synchronize, Early-bird, Magic-bounce</td><td>64</td><td>{special-attack=70, defense=45, attack=50, hp=40, special-defense=45, speed=70}</td><td>Psychic, Flying</td><td>2024-10-01T19:16:09.849+0000</td></tr><tr><td>Necrozma</td><td>2.4</td><td>230.0</td><td>Prism-armor</td><td>300</td><td>{special-attack=127, defense=101, attack=107, hp=97, special-defense=89, speed=79}</td><td>Psychic</td><td>2024-10-01T19:16:09.849+0000</td></tr><tr><td>Nidorina</td><td>0.8</td><td>20.0</td><td>Poison-point, Rivalry, Hustle</td><td>128</td><td>{special-attack=55, defense=67, attack=62, hp=70, special-defense=55, speed=56}</td><td>Poison</td><td>2024-10-01T19:16:09.849+0000</td></tr><tr><td>Nidorino</td><td>0.9</td><td>19.5</td><td>Poison-point, Rivalry, Hustle</td><td>128</td><td>{special-attack=55, defense=57, attack=72, hp=61, special-defense=55, speed=65}</td><td>Poison</td><td>2024-10-01T19:16:09.849+0000</td></tr><tr><td>Nidoqueen</td><td>1.3</td><td>60.0</td><td>Poison-point, Rivalry, Sheer-force</td><td>253</td><td>{special-attack=75, defense=87, attack=92, hp=90, special-defense=85, speed=76}</td><td>Poison, Ground</td><td>2024-10-01T19:16:09.849+0000</td></tr><tr><td>Nidoking</td><td>1.4</td><td>62.0</td><td>Poison-point, Rivalry, Sheer-force</td><td>253</td><td>{special-attack=85, defense=77, attack=102, hp=81, special-defense=75, speed=85}</td><td>Poison, Ground</td><td>2024-10-01T19:16:09.849+0000</td></tr><tr><td>Ninetales</td><td>1.1</td><td>19.9</td><td>Flash-fire, Drought</td><td>177</td><td>{special-attack=81, defense=75, attack=76, hp=73, special-defense=100, speed=100}</td><td>Fire</td><td>2024-10-01T19:16:09.849+0000</td></tr><tr><td>Noctowl</td><td>1.6</td><td>40.8</td><td>Insomnia, Keen-eye, Tinted-lens</td><td>158</td><td>{special-attack=86, defense=50, attack=50, hp=100, special-defense=96, speed=70}</td><td>Normal, Flying</td><td>2024-10-01T19:16:09.849+0000</td></tr><tr><td>Noibat</td><td>0.5</td><td>8.0</td><td>Frisk, Infiltrator, Telepathy</td><td>49</td><td>{special-attack=45, defense=35, attack=30, hp=40, special-defense=40, speed=55}</td><td>Flying, Dragon</td><td>2024-10-01T19:16:09.849+0000</td></tr><tr><td>Noivern</td><td>1.5</td><td>85.0</td><td>Frisk, Infiltrator, Telepathy</td><td>187</td><td>{special-attack=97, defense=80, attack=70, hp=85, special-defense=80, speed=123}</td><td>Flying, Dragon</td><td>2024-10-01T19:16:09.849+0000</td></tr><tr><td>Numel</td><td>0.7</td><td>24.0</td><td>Oblivious, Simple, Own-tempo</td><td>61</td><td>{special-attack=65, defense=40, attack=60, hp=60, special-defense=45, speed=35}</td><td>Fire, Ground</td><td>2024-10-01T19:16:09.849+0000</td></tr><tr><td>Nuzleaf</td><td>1.0</td><td>28.0</td><td>Chlorophyll, Early-bird, Pickpocket</td><td>119</td><td>{special-attack=60, defense=40, attack=70, hp=70, special-defense=40, speed=60}</td><td>Grass, Dark</td><td>2024-10-01T19:16:09.849+0000</td></tr><tr><td>Obstagoon</td><td>1.6</td><td>46.0</td><td>Reckless, Guts, Defiant</td><td>260</td><td>{special-attack=60, defense=101, attack=90, hp=93, special-defense=81, speed=95}</td><td>Dark, Normal</td><td>2024-10-01T19:16:09.849+0000</td></tr><tr><td>Octillery</td><td>0.9</td><td>28.5</td><td>Suction-cups, Sniper, Moody</td><td>168</td><td>{special-attack=105, defense=75, attack=105, hp=75, special-defense=75, speed=45}</td><td>Water</td><td>2024-10-01T19:16:09.849+0000</td></tr><tr><td>Sableye</td><td>0.5</td><td>11.0</td><td>Keen-eye, Stall, Prankster</td><td>133</td><td>{special-attack=65, defense=75, attack=75, hp=50, special-defense=65, speed=50}</td><td>Dark, Ghost</td><td>2024-10-01T19:16:09.849+0000</td></tr><tr><td>Salamence</td><td>1.5</td><td>102.6</td><td>Intimidate, Moxie</td><td>300</td><td>{special-attack=110, defense=80, attack=135, hp=95, special-defense=80, speed=100}</td><td>Dragon, Flying</td><td>2024-10-01T19:16:09.849+0000</td></tr><tr><td>Samurott</td><td>1.5</td><td>94.6</td><td>Torrent, Shell-armor</td><td>238</td><td>{special-attack=108, defense=85, attack=100, hp=95, special-defense=70, speed=70}</td><td>Water</td><td>2024-10-01T19:16:09.849+0000</td></tr><tr><td>Sandaconda</td><td>3.8</td><td>65.5</td><td>Sand-spit, Shed-skin, Sand-veil</td><td>179</td><td>{special-attack=65, defense=125, attack=107, hp=72, special-defense=70, speed=71}</td><td>Ground</td><td>2024-10-01T19:16:09.849+0000</td></tr><tr><td>Sandshrew</td><td>0.6</td><td>12.0</td><td>Sand-veil, Sand-rush</td><td>60</td><td>{special-attack=20, defense=85, attack=75, hp=50, special-defense=30, speed=40}</td><td>Ground</td><td>2024-10-01T19:16:09.849+0000</td></tr><tr><td>Sandslash</td><td>1.0</td><td>29.5</td><td>Sand-veil, Sand-rush</td><td>158</td><td>{special-attack=45, defense=110, attack=100, hp=75, special-defense=55, speed=65}</td><td>Ground</td><td>2024-10-01T19:16:09.849+0000</td></tr><tr><td>Sceptile</td><td>1.7</td><td>52.2</td><td>Overgrow, Unburden</td><td>265</td><td>{special-attack=105, defense=65, attack=85, hp=70, special-defense=85, speed=120}</td><td>Grass</td><td>2024-10-01T19:16:09.849+0000</td></tr><tr><td>Scizor</td><td>1.8</td><td>118.0</td><td>Swarm, Technician, Light-metal</td><td>175</td><td>{special-attack=55, defense=100, attack=130, hp=70, special-defense=80, speed=65}</td><td>Bug, Steel</td><td>2024-10-01T19:16:09.849+0000</td></tr><tr><td>Scyther</td><td>1.5</td><td>56.0</td><td>Swarm, Technician, Steadfast</td><td>100</td><td>{special-attack=55, defense=80, attack=110, hp=70, special-defense=80, speed=105}</td><td>Bug, Flying</td><td>2024-10-01T19:16:09.849+0000</td></tr><tr><td>Seadra</td><td>1.2</td><td>25.0</td><td>Poison-point, Sniper, Damp</td><td>154</td><td>{special-attack=95, defense=95, attack=65, hp=55, special-defense=45, speed=85}</td><td>Water</td><td>2024-10-01T19:16:09.849+0000</td></tr><tr><td>Seaking</td><td>1.3</td><td>39.0</td><td>Swift-swim, Water-veil, Lightning-rod</td><td>158</td><td>{special-attack=65, defense=65, attack=92, hp=80, special-defense=80, speed=68}</td><td>Water</td><td>2024-10-01T19:16:09.849+0000</td></tr><tr><td>Sealeo</td><td>1.1</td><td>87.6</td><td>Thick-fat, Ice-body, Oblivious</td><td>144</td><td>{special-attack=75, defense=70, attack=60, hp=90, special-defense=70, speed=45}</td><td>Ice, Water</td><td>2024-10-01T19:16:09.849+0000</td></tr><tr><td>Seel</td><td>1.1</td><td>90.0</td><td>Thick-fat, Hydration, Ice-body</td><td>65</td><td>{special-attack=45, defense=55, attack=45, hp=65, special-defense=70, speed=45}</td><td>Water</td><td>2024-10-01T19:16:09.849+0000</td></tr><tr><td>Seedot</td><td>0.5</td><td>4.0</td><td>Chlorophyll, Early-bird, Pickpocket</td><td>44</td><td>{special-attack=30, defense=50, attack=40, hp=40, special-defense=30, speed=30}</td><td>Grass</td><td>2024-10-01T19:16:09.849+0000</td></tr><tr><td>Seismitoad</td><td>1.5</td><td>62.0</td><td>Swift-swim, Poison-touch, Water-absorb</td><td>255</td><td>{special-attack=85, defense=75, attack=95, hp=105, special-defense=75, speed=74}</td><td>Water, Ground</td><td>2024-10-01T19:16:09.849+0000</td></tr><tr><td>Sentret</td><td>0.8</td><td>6.0</td><td>Run-away, Keen-eye, Frisk</td><td>43</td><td>{special-attack=35, defense=34, attack=46, hp=35, special-defense=45, speed=20}</td><td>Normal</td><td>2024-10-01T19:16:09.849+0000</td></tr><tr><td>Serperior</td><td>3.3</td><td>63.0</td><td>Overgrow, Contrary</td><td>238</td><td>{special-attack=75, defense=95, attack=75, hp=75, special-defense=95, speed=113}</td><td>Grass</td><td>2024-10-01T19:16:09.849+0000</td></tr><tr><td>Servine</td><td>0.8</td><td>16.0</td><td>Overgrow, Contrary</td><td>145</td><td>{special-attack=60, defense=75, attack=60, hp=60, special-defense=75, speed=83}</td><td>Grass</td><td>2024-10-01T19:16:09.849+0000</td></tr><tr><td>Seviper</td><td>2.7</td><td>52.5</td><td>Shed-skin, Infiltrator</td><td>160</td><td>{special-attack=100, defense=60, attack=100, hp=73, special-defense=60, speed=65}</td><td>Poison</td><td>2024-10-01T19:16:09.849+0000</td></tr><tr><td>Sharpedo</td><td>1.8</td><td>88.8</td><td>Rough-skin, Speed-boost</td><td>161</td><td>{special-attack=95, defense=40, attack=120, hp=70, special-defense=40, speed=95}</td><td>Water, Dark</td><td>2024-10-01T19:16:09.849+0000</td></tr><tr><td>Shellder</td><td>0.3</td><td>4.0</td><td>Shell-armor, Skill-link, Overcoat</td><td>61</td><td>{special-attack=45, defense=100, attack=65, hp=30, special-defense=25, speed=40}</td><td>Water</td><td>2024-10-01T19:16:09.849+0000</td></tr><tr><td>Shellos</td><td>0.3</td><td>6.3</td><td>Sticky-hold, Storm-drain, Sand-force</td><td>65</td><td>{special-attack=57, defense=48, attack=48, hp=76, special-defense=62, speed=34}</td><td>Water</td><td>2024-10-01T19:16:09.849+0000</td></tr><tr><td>Shiftry</td><td>1.3</td><td>59.6</td><td>Chlorophyll, Wind-rider, Pickpocket</td><td>240</td><td>{special-attack=90, defense=60, attack=100, hp=90, special-defense=60, speed=80}</td><td>Grass, Dark</td><td>2024-10-01T19:16:09.849+0000</td></tr><tr><td>Shinx</td><td>0.5</td><td>9.5</td><td>Rivalry, Intimidate, Guts</td><td>53</td><td>{special-attack=40, defense=34, attack=65, hp=45, special-defense=34, speed=45}</td><td>Electric</td><td>2024-10-01T19:16:09.849+0000</td></tr><tr><td>Shroomish</td><td>0.4</td><td>4.5</td><td>Effect-spore, Poison-heal, Quick-feet</td><td>59</td><td>{special-attack=40, defense=60, attack=40, hp=60, special-defense=60, speed=35}</td><td>Grass</td><td>2024-10-01T19:16:09.849+0000</td></tr><tr><td>Shuckle</td><td>0.6</td><td>20.5</td><td>Sturdy, Gluttony, Contrary</td><td>177</td><td>{special-attack=10, defense=230, attack=10, hp=20, special-defense=230, speed=5}</td><td>Bug, Rock</td><td>2024-10-01T19:16:09.849+0000</td></tr><tr><td>Silicobra</td><td>2.2</td><td>7.6</td><td>Sand-spit, Shed-skin, Sand-veil</td><td>63</td><td>{special-attack=35, defense=75, attack=57, hp=52, special-defense=50, speed=46}</td><td>Ground</td><td>2024-10-01T19:16:09.849+0000</td></tr><tr><td>Silicobra</td><td>2.2</td><td>7.6</td><td>Sand-spit, Shed-skin, Sand-veil</td><td>63</td><td>{special-attack=35, defense=75, attack=57, hp=52, special-defense=50, speed=46}</td><td>Ground</td><td>2024-10-01T19:16:09.849+0000</td></tr><tr><td>Simisage</td><td>1.1</td><td>30.5</td><td>Gluttony, Overgrow</td><td>174</td><td>{special-attack=98, defense=63, attack=98, hp=75, special-defense=63, speed=101}</td><td>Grass</td><td>2024-10-01T19:16:09.849+0000</td></tr><tr><td>Simisear</td><td>1.0</td><td>28.0</td><td>Gluttony, Blaze</td><td>174</td><td>{special-attack=98, defense=63, attack=98, hp=75, special-defense=63, speed=101}</td><td>Fire</td><td>2024-10-01T19:16:09.849+0000</td></tr><tr><td>Simipour</td><td>1.0</td><td>29.0</td><td>Gluttony, Torrent</td><td>174</td><td>{special-attack=98, defense=63, attack=98, hp=75, special-defense=63, speed=101}</td><td>Water</td><td>2024-10-01T19:16:09.849+0000</td></tr><tr><td>Sinistea</td><td>0.1</td><td>0.2</td><td>Weak-armor, Cursed-body</td><td>62</td><td>{special-attack=74, defense=45, attack=45, hp=40, special-defense=54, speed=50}</td><td>Ghost</td><td>2024-10-01T19:16:09.849+0000</td></tr><tr><td>Skarmory</td><td>1.7</td><td>50.5</td><td>Keen-eye, Sturdy, Weak-armor</td><td>163</td><td>{special-attack=40, defense=140, attack=80, hp=65, special-defense=70, speed=70}</td><td>Steel, Flying</td><td>2024-10-01T19:16:09.849+0000</td></tr><tr><td>Skitty</td><td>0.6</td><td>11.0</td><td>Cute-charm, Normalize, Wonder-skin</td><td>52</td><td>{special-attack=35, defense=45, attack=45, hp=50, special-defense=35, speed=50}</td><td>Normal</td><td>2024-10-01T19:16:09.849+0000</td></tr><tr><td>Skorupi</td><td>0.8</td><td>12.0</td><td>Battle-armor, Sniper, Keen-eye</td><td>66</td><td>{special-attack=30, defense=90, attack=50, hp=40, special-defense=55, speed=65}</td><td>Poison, Bug</td><td>2024-10-01T19:16:09.849+0000</td></tr><tr><td>Slaking</td><td>2.0</td><td>130.5</td><td>Truant</td><td>252</td><td>{special-attack=95, defense=100, attack=160, hp=150, special-defense=65, speed=100}</td><td>Normal</td><td>2024-10-01T19:16:09.849+0000</td></tr><tr><td>Slakoth</td><td>0.8</td><td>24.0</td><td>Truant</td><td>56</td><td>{special-attack=35, defense=60, attack=60, hp=60, special-defense=35, speed=30}</td><td>Normal</td><td>2024-10-01T19:16:09.849+0000</td></tr><tr><td>Slugma</td><td>0.7</td><td>35.0</td><td>Magma-armor, Flame-body, Weak-armor</td><td>50</td><td>{special-attack=70, defense=40, attack=40, hp=40, special-defense=40, speed=20}</td><td>Fire</td><td>2024-10-01T19:16:09.849+0000</td></tr><tr><td>Sliggoo</td><td>0.8</td><td>17.5</td><td>Sap-sipper, Hydration, Gooey</td><td>158</td><td>{special-attack=83, defense=53, attack=75, hp=68, special-defense=113, speed=60}</td><td>Dragon</td><td>2024-10-01T19:16:09.849+0000</td></tr><tr><td>Slowbro</td><td>1.6</td><td>78.5</td><td>Oblivious, Own-tempo, Regenerator</td><td>172</td><td>{special-attack=100, defense=110, attack=75, hp=95, special-defense=80, speed=30}</td><td>Water, Psychic</td><td>2024-10-01T19:16:09.849+0000</td></tr><tr><td>Slowking</td><td>2.0</td><td>79.5</td><td>Oblivious, Own-tempo, Regenerator</td><td>172</td><td>{special-attack=100, defense=80, attack=75, hp=95, special-defense=110, speed=30}</td><td>Water, Psychic</td><td>2024-10-01T19:16:09.849+0000</td></tr><tr><td>Slowpoke</td><td>1.2</td><td>36.0</td><td>Oblivious, Own-tempo, Regenerator</td><td>63</td><td>{special-attack=40, defense=65, attack=65, hp=90, special-defense=40, speed=15}</td><td>Water, Psychic</td><td>2024-10-01T19:16:09.849+0000</td></tr><tr><td>Slurpuff</td><td>0.8</td><td>5.0</td><td>Sweet-veil, Unburden</td><td>168</td><td>{special-attack=85, defense=86, attack=80, hp=82, special-defense=75, speed=72}</td><td>Fairy</td><td>2024-10-01T19:16:09.849+0000</td></tr><tr><td>Smoochum</td><td>0.4</td><td>6.0</td><td>Oblivious, Forewarn, Hydration</td><td>61</td><td>{special-attack=85, defense=15, attack=30, hp=45, special-defense=65, speed=65}</td><td>Ice, Psychic</td><td>2024-10-01T19:16:09.849+0000</td></tr><tr><td>Snorlax</td><td>2.1</td><td>460.0</td><td>Immunity, Thick-fat, Gluttony</td><td>189</td><td>{special-attack=65, defense=65, attack=110, hp=160, special-defense=110, speed=30}</td><td>Normal</td><td>2024-10-01T19:16:09.849+0000</td></tr><tr><td>Snorunt</td><td>0.7</td><td>16.8</td><td>Inner-focus, Ice-body, Moody</td><td>60</td><td>{special-attack=50, defense=50, attack=50, hp=50, special-defense=50, speed=50}</td><td>Ice</td><td>2024-10-01T19:16:09.849+0000</td></tr><tr><td>Sobble</td><td>0.3</td><td>4.0</td><td>Torrent, Sniper</td><td>62</td><td>{special-attack=70, defense=40, attack=40, hp=50, special-defense=40, speed=70}</td><td>Water</td><td>2024-10-01T19:16:09.849+0000</td></tr><tr><td>Solgaleo</td><td>3.4</td><td>230.0</td><td>Full-metal-body</td><td>340</td><td>{special-attack=113, defense=107, attack=137, hp=137, special-defense=89, speed=97}</td><td>Psychic, Steel</td><td>2024-10-01T19:16:09.849+0000</td></tr><tr><td>Solgaleo</td><td>3.4</td><td>230.0</td><td>Full-metal-body</td><td>340</td><td>{special-attack=113, defense=107, attack=137, hp=137, special-defense=89, speed=97}</td><td>Psychic, Steel</td><td>2024-10-01T19:16:09.849+0000</td></tr><tr><td>Solrock</td><td>1.2</td><td>154.0</td><td>Levitate</td><td>161</td><td>{special-attack=55, defense=85, attack=95, hp=90, special-defense=65, speed=70}</td><td>Rock, Psychic</td><td>2024-10-01T19:16:09.849+0000</td></tr><tr><td>Spearow</td><td>0.3</td><td>2.0</td><td>Keen-eye, Sniper</td><td>52</td><td>{special-attack=31, defense=30, attack=60, hp=40, special-defense=31, speed=70}</td><td>Normal, Flying</td><td>2024-10-01T19:16:09.849+0000</td></tr><tr><td>Spewpa</td><td>0.3</td><td>8.4</td><td>Shed-skin, Friend-guard</td><td>75</td><td>{special-attack=27, defense=60, attack=22, hp=45, special-defense=30, speed=29}</td><td>Bug</td><td>2024-10-01T19:16:09.849+0000</td></tr><tr><td>Spheal</td><td>0.8</td><td>39.5</td><td>Thick-fat, Ice-body, Oblivious</td><td>58</td><td>{special-attack=55, defense=50, attack=40, hp=70, special-defense=50, speed=25}</td><td>Ice, Water</td><td>2024-10-01T19:16:09.849+0000</td></tr><tr><td>Spinarak</td><td>0.5</td><td>8.5</td><td>Swarm, Insomnia, Sniper</td><td>50</td><td>{special-attack=40, defense=40, attack=60, hp=40, special-defense=40, speed=30}</td><td>Bug, Poison</td><td>2024-10-01T19:16:09.849+0000</td></tr><tr><td>Spritzee</td><td>0.2</td><td>0.5</td><td>Healer, Aroma-veil</td><td>68</td><td>{special-attack=63, defense=60, attack=52, hp=78, special-defense=65, speed=23}</td><td>Fairy</td><td>2024-10-01T19:16:09.849+0000</td></tr><tr><td>Stakataka</td><td>5.5</td><td>820.0</td><td>Beast-boost</td><td>285</td><td>{special-attack=53, defense=211, attack=131, hp=61, special-defense=101, speed=13}</td><td>Rock, Steel</td><td>2024-10-01T19:16:09.849+0000</td></tr><tr><td>Stantler</td><td>1.4</td><td>71.2</td><td>Intimidate, Frisk, Sap-sipper</td><td>163</td><td>{special-attack=85, defense=62, attack=95, hp=73, special-defense=65, speed=85}</td><td>Normal</td><td>2024-10-01T19:16:09.849+0000</td></tr><tr><td>Staraptor</td><td>1.2</td><td>24.9</td><td>Intimidate, Reckless</td><td>218</td><td>{special-attack=50, defense=70, attack=120, hp=85, special-defense=60, speed=100}</td><td>Normal, Flying</td><td>2024-10-01T19:16:09.849+0000</td></tr><tr><td>Staravia</td><td>0.6</td><td>15.5</td><td>Intimidate, Reckless</td><td>119</td><td>{special-attack=40, defense=50, attack=75, hp=55, special-defense=40, speed=80}</td><td>Normal, Flying</td><td>2024-10-01T19:16:09.849+0000</td></tr><tr><td>Starly</td><td>0.3</td><td>2.0</td><td>Keen-eye, Reckless</td><td>49</td><td>{special-attack=30, defense=30, attack=55, hp=40, special-defense=30, speed=60}</td><td>Normal, Flying</td><td>2024-10-01T19:16:09.849+0000</td></tr><tr><td>Starmie</td><td>1.1</td><td>80.0</td><td>Illuminate, Natural-cure, Analytic</td><td>182</td><td>{special-attack=100, defense=85, attack=75, hp=60, special-defense=85, speed=115}</td><td>Water, Psychic</td><td>2024-10-01T19:16:09.849+0000</td></tr><tr><td>Staryu</td><td>0.8</td><td>34.5</td><td>Illuminate, Natural-cure, Analytic</td><td>68</td><td>{special-attack=70, defense=55, attack=45, hp=30, special-defense=55, speed=85}</td><td>Water</td><td>2024-10-01T19:16:09.849+0000</td></tr></tbody></table></div>"
      ]
     },
     "metadata": {
      "application/vnd.databricks.v1+output": {
       "addedWidgets": {},
       "aggData": [],
       "aggError": "",
       "aggOverflow": false,
       "aggSchema": [],
       "aggSeriesLimitReached": false,
       "aggType": "",
       "arguments": {},
       "columnCustomDisplayInfos": {},
       "data": [
        [
         "Steenee",
         0.7,
         8.2,
         "Leaf-guard, Oblivious, Sweet-veil",
         "102",
         "{special-attack=40, defense=48, attack=40, hp=52, special-defense=48, speed=62}",
         "Grass",
         "2024-10-01T19:16:09.849+0000"
        ],
        [
         "Steelix",
         9.2,
         400.0,
         "Rock-head, Sturdy, Sheer-force",
         "179",
         "{special-attack=55, defense=200, attack=85, hp=75, special-defense=65, speed=30}",
         "Steel, Ground",
         "2024-10-01T19:16:09.849+0000"
        ],
        [
         "Steenee",
         0.7,
         8.2,
         "Leaf-guard, Oblivious, Sweet-veil",
         "102",
         "{special-attack=40, defense=48, attack=40, hp=52, special-defense=48, speed=62}",
         "Grass",
         "2024-10-01T19:16:09.849+0000"
        ],
        [
         "Stoutland",
         1.2,
         61.0,
         "Intimidate, Sand-rush, Scrappy",
         "250",
         "{special-attack=45, defense=90, attack=110, hp=85, special-defense=90, speed=80}",
         "Normal",
         "2024-10-01T19:16:09.849+0000"
        ],
        [
         "Stufful",
         0.5,
         6.8,
         "Fluffy, Klutz, Cute-charm",
         "68",
         "{special-attack=45, defense=50, attack=75, hp=70, special-defense=50, speed=50}",
         "Normal, Fighting",
         "2024-10-01T19:16:09.849+0000"
        ],
        [
         "Sudowoodo",
         1.2,
         38.0,
         "Sturdy, Rock-head, Rattled",
         "144",
         "{special-attack=30, defense=115, attack=100, hp=70, special-defense=65, speed=30}",
         "Rock",
         "2024-10-01T19:16:09.849+0000"
        ],
        [
         "Suicune",
         2.0,
         187.0,
         "Pressure, Inner-focus",
         "290",
         "{special-attack=90, defense=115, attack=75, hp=100, special-defense=115, speed=85}",
         "Water",
         "2024-10-01T19:16:09.849+0000"
        ],
        [
         "Sunflora",
         0.8,
         8.5,
         "Chlorophyll, Solar-power, Early-bird",
         "149",
         "{special-attack=105, defense=55, attack=75, hp=75, special-defense=85, speed=30}",
         "Grass",
         "2024-10-01T19:16:09.849+0000"
        ],
        [
         "Surskit",
         0.5,
         1.7,
         "Swift-swim, Rain-dish",
         "54",
         "{special-attack=50, defense=32, attack=30, hp=40, special-defense=52, speed=65}",
         "Bug, Water",
         "2024-10-01T19:16:09.849+0000"
        ],
        [
         "Swablu",
         0.4,
         1.2,
         "Natural-cure, Cloud-nine",
         "62",
         "{special-attack=40, defense=60, attack=40, hp=45, special-defense=75, speed=50}",
         "Normal, Flying",
         "2024-10-01T19:16:09.849+0000"
        ],
        [
         "Swampert",
         1.5,
         81.9,
         "Torrent, Damp",
         "268",
         "{special-attack=85, defense=90, attack=110, hp=100, special-defense=90, speed=60}",
         "Water, Ground",
         "2024-10-01T19:16:09.849+0000"
        ],
        [
         "Swanna",
         1.3,
         24.2,
         "Keen-eye, Big-pecks, Hydration",
         "166",
         "{special-attack=87, defense=63, attack=87, hp=75, special-defense=63, speed=98}",
         "Water, Flying",
         "2024-10-01T19:16:09.849+0000"
        ],
        [
         "Swellow",
         0.7,
         19.8,
         "Guts, Scrappy",
         "159",
         "{special-attack=75, defense=60, attack=85, hp=60, special-defense=50, speed=125}",
         "Normal, Flying",
         "2024-10-01T19:16:09.849+0000"
        ],
        [
         "Sylveon",
         1.0,
         23.5,
         "Cute-charm, Pixilate",
         "184",
         "{special-attack=110, defense=65, attack=65, hp=95, special-defense=130, speed=60}",
         "Fairy",
         "2024-10-01T19:16:09.849+0000"
        ],
        [
         "Toxapex",
         0.7,
         14.5,
         "Merciless, Limber, Regenerator",
         "173",
         "{special-attack=53, defense=152, attack=63, hp=50, special-defense=142, speed=35}",
         "Poison, Water",
         "2024-10-01T19:16:09.849+0000"
        ],
        [
         "Toxicroak",
         1.3,
         44.4,
         "Anticipation, Dry-skin, Poison-touch",
         "172",
         "{special-attack=86, defense=65, attack=106, hp=83, special-defense=65, speed=85}",
         "Poison, Fighting",
         "2024-10-01T19:16:09.849+0000"
        ],
        [
         "Trapinch",
         0.7,
         15.0,
         "Hyper-cutter, Arena-trap, Sheer-force",
         "58",
         "{special-attack=45, defense=45, attack=100, hp=45, special-defense=45, speed=10}",
         "Ground",
         "2024-10-01T19:16:09.849+0000"
        ],
        [
         "Trevenant",
         1.5,
         71.0,
         "Natural-cure, Frisk, Harvest",
         "166",
         "{special-attack=65, defense=76, attack=110, hp=85, special-defense=82, speed=56}",
         "Ghost, Grass",
         "2024-10-01T19:16:09.849+0000"
        ],
        [
         "Treecko",
         0.5,
         5.0,
         "Overgrow, Unburden",
         "62",
         "{special-attack=65, defense=35, attack=45, hp=40, special-defense=55, speed=70}",
         "Grass",
         "2024-10-01T19:16:09.849+0000"
        ],
        [
         "Trubbish",
         0.6,
         31.0,
         "Stench, Sticky-hold, Aftermath",
         "66",
         "{special-attack=40, defense=62, attack=50, hp=50, special-defense=62, speed=65}",
         "Poison",
         "2024-10-01T19:16:09.849+0000"
        ],
        [
         "Tsareena",
         1.2,
         21.4,
         "Leaf-guard, Queenly-majesty, Sweet-veil",
         "255",
         "{special-attack=50, defense=98, attack=120, hp=72, special-defense=98, speed=72}",
         "Grass",
         "2024-10-01T19:16:09.849+0000"
        ],
        [
         "Turtonator",
         2.0,
         212.0,
         "Shell-armor",
         "170",
         "{special-attack=91, defense=135, attack=78, hp=60, special-defense=85, speed=36}",
         "Fire, Dragon",
         "2024-10-01T19:16:09.849+0000"
        ],
        [
         "Tyranitar",
         2.0,
         202.0,
         "Sand-stream, Unnerve",
         "300",
         "{special-attack=95, defense=110, attack=134, hp=100, special-defense=100, speed=61}",
         "Rock, Dark",
         "2024-10-01T19:16:09.849+0000"
        ],
        [
         "Tyrantrum",
         2.5,
         270.0,
         "Strong-jaw, Rock-head",
         "182",
         "{special-attack=69, defense=119, attack=121, hp=82, special-defense=59, speed=71}",
         "Rock, Dragon",
         "2024-10-01T19:16:09.849+0000"
        ],
        [
         "Tyrogue",
         0.7,
         21.0,
         "Guts, Steadfast, Vital-spirit",
         "42",
         "{special-attack=35, defense=35, attack=35, hp=35, special-defense=35, speed=35}",
         "Fighting",
         "2024-10-01T19:16:09.849+0000"
        ],
        [
         "Unfezant",
         1.2,
         29.0,
         "Big-pecks, Super-luck, Rivalry",
         "244",
         "{special-attack=65, defense=80, attack=115, hp=80, special-defense=55, speed=93}",
         "Normal, Flying",
         "2024-10-01T19:16:09.849+0000"
        ],
        [
         "Uxie",
         0.3,
         0.3,
         "Levitate",
         "290",
         "{special-attack=75, defense=130, attack=75, hp=75, special-defense=130, speed=95}",
         "Psychic",
         "2024-10-01T19:16:09.849+0000"
        ],
        [
         "Vanilluxe",
         1.3,
         57.5,
         "Ice-body, Snow-warning, Weak-armor",
         "268",
         "{special-attack=110, defense=85, attack=95, hp=71, special-defense=95, speed=79}",
         "Ice",
         "2024-10-01T19:16:09.849+0000"
        ],
        [
         "Vanillish",
         1.1,
         41.0,
         "Ice-body, Snow-cloak, Weak-armor",
         "138",
         "{special-attack=80, defense=65, attack=65, hp=51, special-defense=75, speed=59}",
         "Ice",
         "2024-10-01T19:16:09.849+0000"
        ],
        [
         "Vanillite",
         0.4,
         5.7,
         "Ice-body, Snow-cloak, Weak-armor",
         "61",
         "{special-attack=65, defense=50, attack=50, hp=36, special-defense=60, speed=44}",
         "Ice",
         "2024-10-01T19:16:09.849+0000"
        ],
        [
         "Vaporeon",
         1.0,
         29.0,
         "Water-absorb, Hydration",
         "184",
         "{special-attack=110, defense=60, attack=65, hp=130, special-defense=95, speed=65}",
         "Water",
         "2024-10-01T19:16:09.849+0000"
        ],
        [
         "Venusaur",
         2.0,
         100.0,
         "Overgrow, Chlorophyll",
         "263",
         "{special-attack=100, defense=83, attack=82, hp=80, special-defense=100, speed=80}",
         "Grass, Poison",
         "2024-10-01T19:16:09.849+0000"
        ],
        [
         "Victini",
         0.4,
         4.0,
         "Victory-star",
         "300",
         "{special-attack=100, defense=100, attack=100, hp=100, special-defense=100, speed=100}",
         "Psychic, Fire",
         "2024-10-01T19:16:09.849+0000"
        ],
        [
         "Victreebel",
         1.7,
         15.5,
         "Chlorophyll, Gluttony",
         "221",
         "{special-attack=100, defense=65, attack=105, hp=80, special-defense=70, speed=70}",
         "Grass, Poison",
         "2024-10-01T19:16:09.849+0000"
        ],
        [
         "Vileplume",
         1.2,
         18.6,
         "Chlorophyll, Effect-spore",
         "245",
         "{special-attack=110, defense=85, attack=80, hp=75, special-defense=90, speed=50}",
         "Grass, Poison",
         "2024-10-01T19:16:09.849+0000"
        ],
        [
         "Volcanion",
         1.7,
         195.0,
         "Water-absorb",
         "300",
         "{special-attack=130, defense=120, attack=110, hp=80, special-defense=90, speed=70}",
         "Fire, Water",
         "2024-10-01T19:16:09.849+0000"
        ],
        [
         "Volcarona",
         1.6,
         46.0,
         "Flame-body, Swarm",
         "275",
         "{special-attack=135, defense=65, attack=60, hp=85, special-defense=105, speed=100}",
         "Bug, Fire",
         "2024-10-01T19:16:09.849+0000"
        ],
        [
         "Voltorb",
         0.5,
         10.4,
         "Soundproof, Static, Aftermath",
         "66",
         "{special-attack=55, defense=50, attack=30, hp=40, special-defense=55, speed=100}",
         "Electric",
         "2024-10-01T19:16:09.849+0000"
        ],
        [
         "Wailmer",
         2.0,
         130.0,
         "Water-veil, Oblivious, Pressure",
         "80",
         "{special-attack=70, defense=35, attack=70, hp=130, special-defense=35, speed=60}",
         "Water",
         "2024-10-01T19:16:09.849+0000"
        ],
        [
         "Wailord",
         14.5,
         398.0,
         "Water-veil, Oblivious, Pressure",
         "175",
         "{special-attack=90, defense=45, attack=90, hp=170, special-defense=45, speed=60}",
         "Water",
         "2024-10-01T19:16:09.849+0000"
        ],
        [
         "Walrein",
         1.4,
         150.6,
         "Thick-fat, Ice-body, Oblivious",
         "265",
         "{special-attack=95, defense=90, attack=80, hp=110, special-defense=90, speed=65}",
         "Ice, Water",
         "2024-10-01T19:16:09.849+0000"
        ],
        [
         "Watchog",
         1.1,
         27.0,
         "Illuminate, Keen-eye, Analytic",
         "147",
         "{special-attack=60, defense=69, attack=85, hp=60, special-defense=69, speed=77}",
         "Normal",
         "2024-10-01T19:16:09.849+0000"
        ],
        [
         "Weavile",
         1.1,
         34.0,
         "Pressure, Pickpocket",
         "179",
         "{special-attack=45, defense=65, attack=120, hp=70, special-defense=85, speed=125}",
         "Dark, Ice",
         "2024-10-01T19:16:09.849+0000"
        ],
        [
         "Weedle",
         0.3,
         3.2,
         "Shield-dust, Run-away",
         "39",
         "{special-attack=20, defense=30, attack=35, hp=40, special-defense=20, speed=50}",
         "Bug, Poison",
         "2024-10-01T19:16:09.849+0000"
        ],
        [
         "Weepinbell",
         1.0,
         6.4,
         "Chlorophyll, Gluttony",
         "137",
         "{special-attack=85, defense=50, attack=90, hp=65, special-defense=45, speed=55}",
         "Grass, Poison",
         "2024-10-01T19:16:09.849+0000"
        ],
        [
         "Whimsicott",
         0.7,
         6.6,
         "Prankster, Infiltrator, Chlorophyll",
         "168",
         "{special-attack=77, defense=85, attack=67, hp=60, special-defense=75, speed=116}",
         "Grass, Fairy",
         "2024-10-01T19:16:09.849+0000"
        ],
        [
         "Whirlipede",
         1.2,
         58.5,
         "Poison-point, Swarm, Speed-boost",
         "126",
         "{special-attack=40, defense=99, attack=55, hp=40, special-defense=79, speed=47}",
         "Bug, Poison",
         "2024-10-01T19:16:09.849+0000"
        ],
        [
         "Whiscash",
         0.9,
         23.6,
         "Oblivious, Anticipation, Hydration",
         "164",
         "{special-attack=76, defense=73, attack=78, hp=110, special-defense=71, speed=60}",
         "Water, Ground",
         "2024-10-01T19:16:09.849+0000"
        ],
        [
         "Whismur",
         0.6,
         16.3,
         "Soundproof, Rattled",
         "48",
         "{special-attack=51, defense=23, attack=51, hp=64, special-defense=23, speed=28}",
         "Normal",
         "2024-10-01T19:16:09.849+0000"
        ],
        [
         "Wigglytuff",
         1.0,
         12.0,
         "Cute-charm, Competitive, Frisk",
         "218",
         "{special-attack=85, defense=45, attack=70, hp=140, special-defense=50, speed=45}",
         "Normal, Fairy",
         "2024-10-01T19:16:09.849+0000"
        ],
        [
         "Woobat",
         0.4,
         2.1,
         "Unaware, Klutz, Simple",
         "65",
         "{special-attack=55, defense=43, attack=45, hp=65, special-defense=43, speed=72}",
         "Psychic, Flying",
         "2024-10-01T19:16:09.849+0000"
        ],
        [
         "Wooloo",
         0.6,
         6.0,
         "Fluffy, Run-away, Bulletproof",
         "122",
         "{special-attack=40, defense=55, attack=40, hp=42, special-defense=45, speed=48}",
         "Normal",
         "2024-10-01T19:16:09.849+0000"
        ],
        [
         "Wurmple",
         0.3,
         3.6,
         "Shield-dust, Run-away",
         "56",
         "{special-attack=20, defense=35, attack=45, hp=45, special-defense=30, speed=20}",
         "Bug",
         "2024-10-01T19:16:09.849+0000"
        ],
        [
         "Wyrdeer",
         1.8,
         95.1,
         "Intimidate, Frisk, Sap-sipper",
         "263",
         "{special-attack=105, defense=72, attack=105, hp=103, special-defense=75, speed=65}",
         "Normal, Psychic",
         "2024-10-01T19:16:09.849+0000"
        ],
        [
         "Xerneas",
         3.0,
         215.0,
         "Fairy-aura",
         "340",
         "{special-attack=131, defense=95, attack=131, hp=126, special-defense=98, speed=99}",
         "Fairy",
         "2024-10-01T19:16:09.849+0000"
        ],
        [
         "Yamask",
         0.5,
         1.5,
         "Mummy",
         "61",
         "{special-attack=55, defense=85, attack=30, hp=38, special-defense=65, speed=30}",
         "Ghost",
         "2024-10-01T19:16:09.849+0000"
        ],
        [
         "Yamper",
         0.3,
         13.5,
         "Ball-fetch, Rattled",
         "54",
         "{special-attack=40, defense=50, attack=45, hp=59, special-defense=50, speed=26}",
         "Electric",
         "2024-10-01T19:16:09.849+0000"
        ],
        [
         "Yungoos",
         0.4,
         6.0,
         "Stakeout, Strong-jaw, Adaptability",
         "51",
         "{special-attack=30, defense=30, attack=70, hp=48, special-defense=30, speed=45}",
         "Normal",
         "2024-10-01T19:16:09.849+0000"
        ],
        [
         "Zangoose",
         1.3,
         40.3,
         "Immunity, Toxic-boost",
         "160",
         "{special-attack=60, defense=60, attack=115, hp=73, special-defense=60, speed=90}",
         "Normal",
         "2024-10-01T19:16:09.849+0000"
        ],
        [
         "Zapdos",
         1.6,
         52.6,
         "Pressure, Static",
         "290",
         "{special-attack=125, defense=85, attack=90, hp=90, special-defense=90, speed=100}",
         "Electric, Flying",
         "2024-10-01T19:16:09.849+0000"
        ],
        [
         "Zekrom",
         2.9,
         345.0,
         "Teravolt",
         "340",
         "{special-attack=120, defense=120, attack=150, hp=100, special-defense=100, speed=90}",
         "Dragon, Electric",
         "2024-10-01T19:16:09.849+0000"
        ],
        [
         "Zigzagoon",
         0.4,
         17.5,
         "Pickup, Gluttony, Quick-feet",
         "56",
         "{special-attack=30, defense=41, attack=30, hp=38, special-defense=41, speed=60}",
         "Normal",
         "2024-10-01T19:16:09.849+0000"
        ],
        [
         "Zubat",
         0.8,
         7.5,
         "Inner-focus, Infiltrator",
         "49",
         "{special-attack=30, defense=35, attack=45, hp=40, special-defense=40, speed=55}",
         "Poison, Flying",
         "2024-10-01T19:16:09.849+0000"
        ],
        [
         "Zweilous",
         1.4,
         50.0,
         "Hustle",
         "147",
         "{special-attack=65, defense=70, attack=85, hp=72, special-defense=70, speed=58}",
         "Dark, Dragon",
         "2024-10-01T19:16:09.849+0000"
        ],
        [
         "Chinchou",
         0.5,
         12.0,
         "Volt-absorb, Illuminate, Water-absorb",
         "66",
         "{special-attack=56, defense=38, attack=38, hp=75, special-defense=56, speed=67}",
         "Water, Electric",
         "2024-10-01T19:16:09.849+0000"
        ],
        [
         "Chingling",
         0.2,
         0.6,
         "Levitate",
         "57",
         "{special-attack=65, defense=50, attack=30, hp=45, special-defense=50, speed=45}",
         "Psychic",
         "2024-10-01T19:16:09.849+0000"
        ],
        [
         "Cinccino",
         0.5,
         7.5,
         "Cute-charm, Technician, Skill-link",
         "165",
         "{special-attack=65, defense=60, attack=95, hp=75, special-defense=60, speed=115}",
         "Normal",
         "2024-10-01T19:16:09.849+0000"
        ],
        [
         "Cinderace",
         1.4,
         33.0,
         "Blaze, Libero",
         "265",
         "{special-attack=65, defense=75, attack=116, hp=80, special-defense=75, speed=119}",
         "Fire",
         "2024-10-01T19:16:09.849+0000"
        ],
        [
         "Clauncher",
         0.5,
         8.3,
         "Mega-launcher",
         "66",
         "{special-attack=58, defense=62, attack=53, hp=50, special-defense=63, speed=44}",
         "Water",
         "2024-10-01T19:16:09.849+0000"
        ],
        [
         "Clawitzer",
         1.3,
         35.3,
         "Mega-launcher",
         "100",
         "{special-attack=120, defense=88, attack=73, hp=71, special-defense=89, speed=59}",
         "Water",
         "2024-10-01T19:16:09.849+0000"
        ],
        [
         "Claydol",
         1.5,
         108.0,
         "Levitate",
         "175",
         "{special-attack=70, defense=105, attack=70, hp=60, special-defense=120, speed=75}",
         "Ground, Psychic",
         "2024-10-01T19:16:09.849+0000"
        ],
        [
         "Clefable",
         1.3,
         40.0,
         "Cute-charm, Magic-guard, Unaware",
         "242",
         "{special-attack=95, defense=73, attack=70, hp=95, special-defense=90, speed=60}",
         "Fairy",
         "2024-10-01T19:16:09.849+0000"
        ],
        [
         "Clefairy",
         0.6,
         7.5,
         "Cute-charm, Magic-guard, Friend-guard",
         "113",
         "{special-attack=60, defense=48, attack=45, hp=70, special-defense=65, speed=35}",
         "Fairy",
         "2024-10-01T19:16:09.849+0000"
        ],
        [
         "Cleffa",
         0.3,
         3.0,
         "Cute-charm, Magic-guard, Friend-guard",
         "44",
         "{special-attack=45, defense=28, attack=25, hp=50, special-defense=55, speed=15}",
         "Fairy",
         "2024-10-01T19:16:09.849+0000"
        ],
        [
         "Cloyster",
         1.5,
         132.5,
         "Shell-armor, Skill-link, Overcoat",
         "184",
         "{special-attack=85, defense=180, attack=95, hp=50, special-defense=45, speed=70}",
         "Water, Ice",
         "2024-10-01T19:16:09.849+0000"
        ],
        [
         "Cofagrigus",
         1.7,
         76.5,
         "Mummy",
         "169",
         "{special-attack=95, defense=145, attack=50, hp=58, special-defense=105, speed=30}",
         "Ghost",
         "2024-10-01T19:16:09.849+0000"
        ],
        [
         "Combee",
         0.3,
         5.5,
         "Honey-gather, Hustle",
         "49",
         "{special-attack=30, defense=42, attack=30, hp=30, special-defense=42, speed=70}",
         "Bug, Flying",
         "2024-10-01T19:16:09.849+0000"
        ],
        [
         "Comfey",
         0.1,
         0.3,
         "Flower-veil, Triage, Natural-cure",
         "170",
         "{special-attack=82, defense=90, attack=52, hp=51, special-defense=110, speed=100}",
         "Fairy",
         "2024-10-01T19:16:09.849+0000"
        ],
        [
         "Conkeldurr",
         1.4,
         87.0,
         "Guts, Sheer-force, Iron-fist",
         "253",
         "{special-attack=55, defense=95, attack=140, hp=105, special-defense=65, speed=45}",
         "Fighting",
         "2024-10-01T19:16:09.849+0000"
        ],
        [
         "Corphish",
         0.6,
         11.5,
         "Hyper-cutter, Shell-armor, Adaptability",
         "62",
         "{special-attack=50, defense=65, attack=80, hp=43, special-defense=35, speed=35}",
         "Water",
         "2024-10-01T19:16:09.849+0000"
        ],
        [
         "Corsola",
         0.6,
         5.0,
         "Hustle, Natural-cure, Regenerator",
         "144",
         "{special-attack=65, defense=95, attack=55, hp=65, special-defense=95, speed=35}",
         "Water, Rock",
         "2024-10-01T19:16:09.849+0000"
        ],
        [
         "Cottonee",
         0.3,
         0.6,
         "Prankster, Infiltrator, Chlorophyll",
         "56",
         "{special-attack=37, defense=60, attack=27, hp=40, special-defense=50, speed=66}",
         "Grass, Fairy",
         "2024-10-01T19:16:09.849+0000"
        ],
        [
         "Crabominable",
         1.7,
         180.0,
         "Hyper-cutter, Iron-fist, Anger-point",
         "167",
         "{special-attack=62, defense=77, attack=132, hp=97, special-defense=67, speed=43}",
         "Fighting, Ice",
         "2024-10-01T19:16:09.849+0000"
        ],
        [
         "Crabrawler",
         0.6,
         7.0,
         "Hyper-cutter, Iron-fist, Anger-point",
         "68",
         "{special-attack=42, defense=57, attack=82, hp=47, special-defense=47, speed=63}",
         "Fighting",
         "2024-10-01T19:16:09.849+0000"
        ],
        [
         "Cradily",
         1.5,
         60.4,
         "Suction-cups, Storm-drain",
         "173",
         "{special-attack=81, defense=97, attack=81, hp=86, special-defense=107, speed=43}",
         "Rock, Grass",
         "2024-10-01T19:16:09.849+0000"
        ],
        [
         "Croagunk",
         0.7,
         23.0,
         "Anticipation, Dry-skin, Poison-touch",
         "60",
         "{special-attack=61, defense=40, attack=61, hp=48, special-defense=40, speed=50}",
         "Poison, Fighting",
         "2024-10-01T19:16:09.849+0000"
        ],
        [
         "Crobat",
         1.8,
         75.0,
         "Inner-focus, Infiltrator",
         "268",
         "{special-attack=70, defense=80, attack=90, hp=85, special-defense=80, speed=130}",
         "Poison, Flying",
         "2024-10-01T19:16:09.849+0000"
        ],
        [
         "Croconaw",
         1.1,
         25.0,
         "Torrent, Sheer-force",
         "142",
         "{special-attack=59, defense=80, attack=80, hp=65, special-defense=63, speed=58}",
         "Water",
         "2024-10-01T19:16:09.849+0000"
        ],
        [
         "Crustle",
         1.4,
         200.0,
         "Sturdy, Shell-armor, Weak-armor",
         "170",
         "{special-attack=65, defense=125, attack=105, hp=70, special-defense=75, speed=45}",
         "Bug, Rock",
         "2024-10-01T19:16:09.849+0000"
        ],
        [
         "Cubone",
         0.4,
         6.5,
         "Rock-head, Lightning-rod, Battle-armor",
         "64",
         "{special-attack=40, defense=95, attack=50, hp=50, special-defense=50, speed=35}",
         "Ground",
         "2024-10-01T19:16:09.849+0000"
        ],
        [
         "Cutiefly",
         0.1,
         0.2,
         "Honey-gather, Shield-dust, Sweet-veil",
         "61",
         "{special-attack=55, defense=40, attack=45, hp=40, special-defense=40, speed=84}",
         "Bug, Fairy",
         "2024-10-01T19:16:09.849+0000"
        ],
        [
         "Dartrix",
         0.7,
         16.0,
         "Overgrow, Long-reach",
         "147",
         "{special-attack=70, defense=75, attack=75, hp=78, special-defense=70, speed=52}",
         "Grass, Flying",
         "2024-10-01T19:16:09.849+0000"
        ],
        [
         "Dedenne",
         0.2,
         2.2,
         "Cheek-pouch, Pickup, Plus",
         "151",
         "{special-attack=81, defense=57, attack=58, hp=67, special-defense=67, speed=101}",
         "Electric, Fairy",
         "2024-10-01T19:16:09.849+0000"
        ],
        [
         "Delcatty",
         1.1,
         32.6,
         "Cute-charm, Normalize, Wonder-skin",
         "140",
         "{special-attack=55, defense=65, attack=65, hp=70, special-defense=55, speed=90}",
         "Normal",
         "2024-10-01T19:16:09.849+0000"
        ],
        [
         "Delibird",
         0.9,
         16.0,
         "Vital-spirit, Hustle, Insomnia",
         "116",
         "{special-attack=65, defense=45, attack=55, hp=45, special-defense=45, speed=75}",
         "Ice, Flying",
         "2024-10-01T19:16:09.849+0000"
        ],
        [
         "Dewgong",
         1.7,
         120.0,
         "Thick-fat, Hydration, Ice-body",
         "166",
         "{special-attack=70, defense=80, attack=70, hp=90, special-defense=95, speed=70}",
         "Water, Ice",
         "2024-10-01T19:16:09.849+0000"
        ],
        [
         "Dewpider",
         0.3,
         4.0,
         "Water-bubble, Water-absorb",
         "54",
         "{special-attack=40, defense=52, attack=40, hp=38, special-defense=72, speed=27}",
         "Water, Bug",
         "2024-10-01T19:16:09.849+0000"
        ],
        [
         "Diggersby",
         1.0,
         42.4,
         "Pickup, Cheek-pouch, Huge-power",
         "148",
         "{special-attack=50, defense=77, attack=56, hp=85, special-defense=77, speed=78}",
         "Normal, Ground",
         "2024-10-01T19:16:09.849+0000"
        ],
        [
         "Diancie",
         0.7,
         8.8,
         "Clear-body",
         "300",
         "{special-attack=100, defense=150, attack=100, hp=50, special-defense=150, speed=50}",
         "Rock, Fairy",
         "2024-10-01T19:16:09.849+0000"
        ],
        [
         "Diglett",
         0.2,
         0.8,
         "Sand-veil, Arena-trap, Sand-force",
         "53",
         "{special-attack=35, defense=25, attack=55, hp=10, special-defense=45, speed=95}",
         "Ground",
         "2024-10-01T19:16:09.849+0000"
        ],
        [
         "Ditto",
         0.3,
         4.0,
         "Limber, Imposter",
         "101",
         "{special-attack=48, defense=48, attack=48, hp=48, special-defense=48, speed=48}",
         "Normal",
         "2024-10-01T19:16:09.849+0000"
        ],
        [
         "Dodrio",
         1.8,
         85.2,
         "Run-away, Early-bird, Tangled-feet",
         "165",
         "{special-attack=60, defense=70, attack=110, hp=60, special-defense=60, speed=110}",
         "Normal, Flying",
         "2024-10-01T19:16:09.849+0000"
        ],
        [
         "Doduo",
         1.4,
         39.2,
         "Run-away, Early-bird, Tangled-feet",
         "62",
         "{special-attack=35, defense=45, attack=85, hp=35, special-defense=35, speed=75}",
         "Normal, Flying",
         "2024-10-01T19:16:09.849+0000"
        ],
        [
         "Donphan",
         1.1,
         120.0,
         "Sturdy, Sand-veil",
         "175",
         "{special-attack=60, defense=120, attack=120, hp=90, special-defense=60, speed=50}",
         "Ground",
         "2024-10-01T19:16:09.849+0000"
        ],
        [
         "Dottler",
         0.4,
         19.5,
         "Swarm, Compound-eyes, Telepathy",
         "117",
         "{special-attack=50, defense=80, attack=35, hp=50, special-defense=90, speed=30}",
         "Bug, Psychic",
         "2024-10-01T19:16:09.849+0000"
        ],
        [
         "Dracozolt",
         1.8,
         190.0,
         "Volt-absorb, Hustle, Sand-rush",
         "177",
         "{special-attack=80, defense=90, attack=100, hp=90, special-defense=70, speed=75}",
         "Electric, Dragon",
         "2024-10-01T19:16:09.849+0000"
        ],
        [
         "Dragapult",
         3.0,
         50.0,
         "Clear-body, Infiltrator, Cursed-body",
         "300",
         "{special-attack=100, defense=75, attack=120, hp=88, special-defense=75, speed=142}",
         "Dragon, Ghost",
         "2024-10-01T19:16:09.849+0000"
        ],
        [
         "Dragonair",
         4.0,
         16.5,
         "Shed-skin, Marvel-scale",
         "147",
         "{special-attack=70, defense=65, attack=84, hp=61, special-defense=70, speed=70}",
         "Dragon",
         "2024-10-01T19:16:09.849+0000"
        ],
        [
         "Dragonite",
         2.2,
         210.0,
         "Inner-focus, Multiscale",
         "300",
         "{special-attack=100, defense=95, attack=134, hp=91, special-defense=100, speed=80}",
         "Dragon, Flying",
         "2024-10-01T19:16:09.849+0000"
        ],
        [
         "Dratini",
         1.8,
         3.3,
         "Shed-skin, Marvel-scale",
         "60",
         "{special-attack=50, defense=45, attack=64, hp=41, special-defense=50, speed=50}",
         "Dragon",
         "2024-10-01T19:16:09.849+0000"
        ],
        [
         "Drifblim",
         1.2,
         15.0,
         "Aftermath, Unburden, Flare-boost",
         "174",
         "{special-attack=90, defense=44, attack=80, hp=150, special-defense=54, speed=80}",
         "Ghost, Flying",
         "2024-10-01T19:16:09.849+0000"
        ],
        [
         "Drifloon",
         0.4,
         1.2,
         "Aftermath, Unburden, Flare-boost",
         "70",
         "{special-attack=60, defense=34, attack=50, hp=90, special-defense=44, speed=70}",
         "Ghost, Flying",
         "2024-10-01T19:16:09.849+0000"
        ],
        [
         "Drowzee",
         1.0,
         32.4,
         "Insomnia, Forewarn, Inner-focus",
         "66",
         "{special-attack=43, defense=45, attack=48, hp=60, special-defense=90, speed=42}",
         "Psychic",
         "2024-10-01T19:16:09.849+0000"
        ],
        [
         "Ducklett",
         0.5,
         5.5,
         "Keen-eye, Big-pecks, Hydration",
         "61",
         "{special-attack=44, defense=50, attack=44, hp=62, special-defense=50, speed=55}",
         "Water, Flying",
         "2024-10-01T19:16:09.849+0000"
        ],
        [
         "Dugtrio",
         0.7,
         33.3,
         "Sand-veil, Arena-trap, Sand-force",
         "149",
         "{special-attack=50, defense=50, attack=100, hp=35, special-defense=70, speed=120}",
         "Ground",
         "2024-10-01T19:16:09.849+0000"
        ],
        [
         "Dunsparce",
         1.5,
         14.0,
         "Serene-grace, Run-away, Rattled",
         "145",
         "{special-attack=65, defense=70, attack=70, hp=100, special-defense=65, speed=45}",
         "Normal",
         "2024-10-01T19:16:09.849+0000"
        ],
        [
         "Duraludon",
         1.8,
         40.0,
         "Light-metal, Heavy-metal, Stalwart",
         "187",
         "{special-attack=120, defense=115, attack=95, hp=70, special-defense=50, speed=85}",
         "Steel, Dragon",
         "2024-10-01T19:16:09.849+0000"
        ],
        [
         "Dustox",
         1.2,
         31.6,
         "Shield-dust, Compound-eyes",
         "173",
         "{special-attack=50, defense=70, attack=50, hp=60, special-defense=90, speed=65}",
         "Bug, Poison",
         "2024-10-01T19:16:09.849+0000"
        ],
        [
         "Dwebble",
         0.3,
         14.5,
         "Sturdy, Shell-armor, Weak-armor",
         "65",
         "{special-attack=35, defense=85, attack=65, hp=50, special-defense=35, speed=55}",
         "Bug, Rock",
         "2024-10-01T19:16:09.849+0000"
        ],
        [
         "Eelektross",
         2.1,
         80.5,
         "Levitate",
         "232",
         "{special-attack=105, defense=80, attack=115, hp=85, special-defense=80, speed=50}",
         "Electric",
         "2024-10-01T19:16:09.849+0000"
        ],
        [
         "Eevee",
         0.3,
         6.5,
         "Run-away, Adaptability, Anticipation",
         "65",
         "{special-attack=45, defense=50, attack=55, hp=55, special-defense=65, speed=55}",
         "Normal",
         "2024-10-01T19:16:09.849+0000"
        ],
        [
         "Electabuzz",
         1.1,
         30.0,
         "Static, Vital-spirit",
         "172",
         "{special-attack=95, defense=57, attack=83, hp=65, special-defense=85, speed=105}",
         "Electric",
         "2024-10-01T19:16:09.849+0000"
        ],
        [
         "Electivire",
         1.8,
         138.6,
         "Motor-drive, Vital-spirit",
         "270",
         "{special-attack=95, defense=67, attack=123, hp=75, special-defense=85, speed=95}",
         "Electric",
         "2024-10-01T19:16:09.849+0000"
        ],
        [
         "Electrike",
         0.6,
         15.2,
         "Static, Lightning-rod, Minus",
         "59",
         "{special-attack=65, defense=40, attack=45, hp=40, special-defense=40, speed=65}",
         "Electric",
         "2024-10-01T19:16:09.849+0000"
        ],
        [
         "Elgyem",
         0.5,
         9.0,
         "Telepathy, Synchronize, Analytic",
         "67",
         "{special-attack=85, defense=55, attack=55, hp=55, special-defense=55, speed=30}",
         "Psychic",
         "2024-10-01T19:16:09.849+0000"
        ],
        [
         "Emolga",
         0.4,
         5.0,
         "Static, Motor-drive",
         "150",
         "{special-attack=75, defense=60, attack=75, hp=55, special-defense=60, speed=103}",
         "Electric, Flying",
         "2024-10-01T19:16:09.849+0000"
        ],
        [
         "Empoleon",
         1.7,
         84.5,
         "Torrent, Competitive",
         "239",
         "{special-attack=111, defense=88, attack=86, hp=84, special-defense=101, speed=60}",
         "Water, Steel",
         "2024-10-01T19:16:09.849+0000"
        ],
        [
         "Emolga",
         0.4,
         5.0,
         "Static, Motor-drive",
         "150",
         "{special-attack=75, defense=60, attack=75, hp=55, special-defense=60, speed=103}",
         "Electric, Flying",
         "2024-10-01T19:16:09.849+0000"
        ],
        [
         "Entei",
         2.1,
         198.0,
         "Pressure, Inner-focus",
         "290",
         "{special-attack=90, defense=85, attack=115, hp=115, special-defense=75, speed=100}",
         "Fire",
         "2024-10-01T19:16:09.849+0000"
        ],
        [
         "Escavalier",
         1.0,
         33.0,
         "Swarm, Shell-armor, Overcoat",
         "173",
         "{special-attack=60, defense=105, attack=135, hp=70, special-defense=105, speed=20}",
         "Bug, Steel",
         "2024-10-01T19:16:09.849+0000"
        ],
        [
         "Espurr",
         0.3,
         3.5,
         "Keen-eye, Infiltrator, Own-tempo",
         "71",
         "{special-attack=63, defense=54, attack=48, hp=62, special-defense=60, speed=68}",
         "Psychic",
         "2024-10-01T19:16:09.849+0000"
        ],
        [
         "Exeggutor",
         2.0,
         120.0,
         "Chlorophyll, Harvest",
         "186",
         "{special-attack=125, defense=85, attack=95, hp=95, special-defense=75, speed=55}",
         "Grass, Psychic",
         "2024-10-01T19:16:09.849+0000"
        ],
        [
         "Exeggcute",
         0.4,
         2.5,
         "Chlorophyll, Harvest",
         "65",
         "{special-attack=60, defense=80, attack=40, hp=60, special-defense=45, speed=40}",
         "Grass, Psychic",
         "2024-10-01T19:16:09.849+0000"
        ],
        [
         "Exploud",
         1.5,
         84.0,
         "Soundproof, Scrappy",
         "245",
         "{special-attack=91, defense=63, attack=91, hp=104, special-defense=73, speed=68}",
         "Normal",
         "2024-10-01T19:16:09.849+0000"
        ],
        [
         "Fearow",
         1.2,
         38.0,
         "Keen-eye, Sniper",
         "155",
         "{special-attack=61, defense=65, attack=90, hp=65, special-defense=61, speed=100}",
         "Normal, Flying",
         "2024-10-01T19:16:09.849+0000"
        ],
        [
         "Feebas",
         0.6,
         7.4,
         "Swift-swim, Oblivious, Adaptability",
         "40",
         "{special-attack=10, defense=20, attack=15, hp=20, special-defense=55, speed=80}",
         "Water",
         "2024-10-01T19:16:09.849+0000"
        ],
        [
         "Fennekin",
         0.4,
         9.4,
         "Blaze, Magician",
         "61",
         "{special-attack=62, defense=40, attack=45, hp=40, special-defense=60, speed=60}",
         "Fire",
         "2024-10-01T19:16:09.849+0000"
        ],
        [
         "Ferrothorn",
         1.0,
         110.0,
         "Iron-barbs, Anticipation",
         "171",
         "{special-attack=54, defense=131, attack=94, hp=74, special-defense=116, speed=20}",
         "Grass, Steel",
         "2024-10-01T19:16:09.849+0000"
        ],
        [
         "Finneon",
         0.4,
         7.0,
         "Swift-swim, Storm-drain, Water-veil",
         "66",
         "{special-attack=49, defense=56, attack=49, hp=49, special-defense=61, speed=66}",
         "Water",
         "2024-10-01T19:16:09.849+0000"
        ],
        [
         "Flapple",
         0.3,
         1.0,
         "Ripen, Gluttony, Hustle",
         "170",
         "{special-attack=95, defense=80, attack=110, hp=70, special-defense=60, speed=70}",
         "Grass, Dragon",
         "2024-10-01T19:16:09.849+0000"
        ],
        [
         "Flaaffy",
         0.8,
         13.3,
         "Static, Plus",
         "128",
         "{special-attack=80, defense=55, attack=55, hp=70, special-defense=60, speed=45}",
         "Electric",
         "2024-10-01T19:16:09.849+0000"
        ],
        [
         "Flareon",
         0.9,
         25.0,
         "Flash-fire, Guts",
         "184",
         "{special-attack=95, defense=60, attack=130, hp=65, special-defense=110, speed=65}",
         "Fire",
         "2024-10-01T19:16:09.849+0000"
        ],
        [
         "Flapple",
         0.3,
         1.0,
         "Ripen, Gluttony, Hustle",
         "170",
         "{special-attack=95, defense=80, attack=110, hp=70, special-defense=60, speed=70}",
         "Grass, Dragon",
         "2024-10-01T19:16:09.849+0000"
        ],
        [
         "Fletchinder",
         0.7,
         16.0,
         "Flame-body, Gale-wings",
         "134",
         "{special-attack=56, defense=55, attack=73, hp=62, special-defense=52, speed=84}",
         "Fire, Flying",
         "2024-10-01T19:16:09.849+0000"
        ],
        [
         "Fletchling",
         0.3,
         1.7,
         "Big-pecks, Gale-wings",
         "56",
         "{special-attack=40, defense=43, attack=50, hp=45, special-defense=38, speed=62}",
         "Normal, Flying",
         "2024-10-01T19:16:09.849+0000"
        ],
        [
         "Floatzel",
         1.1,
         33.5,
         "Swift-swim, Water-veil",
         "173",
         "{special-attack=85, defense=55, attack=105, hp=85, special-defense=50, speed=115}",
         "Water",
         "2024-10-01T19:16:09.849+0000"
        ],
        [
         "Florges",
         1.1,
         10.0,
         "Flower-veil, Symbiosis",
         "248",
         "{special-attack=112, defense=68, attack=65, hp=78, special-defense=154, speed=75}",
         "Fairy",
         "2024-10-01T19:16:09.849+0000"
        ],
        [
         "Foongus",
         0.2,
         1.0,
         "Effect-spore, Regenerator",
         "59",
         "{special-attack=55, defense=45, attack=55, hp=69, special-defense=55, speed=15}",
         "Grass, Poison",
         "2024-10-01T19:16:09.849+0000"
        ],
        [
         "Forretress",
         1.2,
         125.8,
         "Sturdy, Overcoat",
         "163",
         "{special-attack=60, defense=140, attack=90, hp=75, special-defense=60, speed=40}",
         "Bug, Steel",
         "2024-10-01T19:16:09.849+0000"
        ],
        [
         "Frillish",
         1.2,
         33.0,
         "Water-absorb, Cursed-body, Damp",
         "67",
         "{special-attack=65, defense=50, attack=40, hp=55, special-defense=85, speed=40}",
         "Water, Ghost",
         "2024-10-01T19:16:09.849+0000"
        ],
        [
         "Frogadier",
         0.6,
         10.9,
         "Torrent, Protean",
         "142",
         "{special-attack=83, defense=52, attack=63, hp=54, special-defense=56, speed=97}",
         "Water",
         "2024-10-01T19:16:09.849+0000"
        ],
        [
         "Froakie",
         0.3,
         7.0,
         "Torrent, Protean",
         "63",
         "{special-attack=62, defense=40, attack=56, hp=41, special-defense=44, speed=71}",
         "Water",
         "2024-10-01T19:16:09.849+0000"
        ],
        [
         "Froslass",
         1.3,
         26.6,
         "Snow-cloak, Cursed-body",
         "168",
         "{special-attack=80, defense=70, attack=80, hp=70, special-defense=70, speed=110}",
         "Ice, Ghost",
         "2024-10-01T19:16:09.849+0000"
        ],
        [
         "Furret",
         1.8,
         32.5,
         "Run-away, Keen-eye, Frisk",
         "145",
         "{special-attack=45, defense=64, attack=76, hp=85, special-defense=55, speed=90}",
         "Normal",
         "2024-10-01T19:16:09.849+0000"
        ],
        [
         "Gabite",
         1.4,
         56.0,
         "Sand-veil, Rough-skin",
         "144",
         "{special-attack=50, defense=65, attack=90, hp=68, special-defense=55, speed=82}",
         "Dragon, Ground",
         "2024-10-01T19:16:09.849+0000"
        ],
        [
         "Gallade",
         1.6,
         52.0,
         "Steadfast, Sharpness, Justified",
         "259",
         "{special-attack=65, defense=65, attack=125, hp=68, special-defense=115, speed=80}",
         "Psychic, Fighting",
         "2024-10-01T19:16:09.849+0000"
        ],
        [
         "Gardevoir",
         1.6,
         48.4,
         "Synchronize, Trace, Telepathy",
         "259",
         "{special-attack=125, defense=65, attack=65, hp=68, special-defense=115, speed=80}",
         "Psychic, Fairy",
         "2024-10-01T19:16:09.849+0000"
        ],
        [
         "Gengar",
         1.5,
         40.5,
         "Cursed-body",
         "250",
         "{special-attack=130, defense=60, attack=65, hp=60, special-defense=75, speed=110}",
         "Ghost, Poison",
         "2024-10-01T19:16:09.849+0000"
        ],
        [
         "Gigalith",
         1.7,
         260.0,
         "Sturdy, Sand-stream, Sand-force",
         "258",
         "{special-attack=60, defense=130, attack=135, hp=85, special-defense=80, speed=25}",
         "Rock",
         "2024-10-01T19:16:09.849+0000"
        ],
        [
         "Gimmighoul",
         0.3,
         5.0,
         "Rattled, Rattled",
         "60",
         "{special-attack=75, defense=70, attack=30, hp=45, special-defense=70, speed=10}",
         "Ghost",
         "2024-10-01T19:16:09.849+0000"
        ],
        [
         "Gogoat",
         1.7,
         91.0,
         "Sap-sipper, Grass-pelt",
         "186",
         "{special-attack=97, defense=62, attack=100, hp=123, special-defense=81, speed=68}",
         "Grass",
         "2024-10-01T19:16:09.849+0000"
        ],
        [
         "Golbat",
         1.6,
         55.0,
         "Inner-focus, Infiltrator",
         "159",
         "{special-attack=65, defense=70, attack=80, hp=75, special-defense=75, speed=90}",
         "Poison, Flying",
         "2024-10-01T19:16:09.849+0000"
        ],
        [
         "Goldeen",
         0.6,
         15.0,
         "Swift-swim, Water-veil, Lightning-rod",
         "64",
         "{special-attack=35, defense=60, attack=67, hp=45, special-defense=50, speed=63}",
         "Water",
         "2024-10-01T19:16:09.849+0000"
        ],
        [
         "Golduck",
         1.7,
         76.6,
         "Damp, Cloud-nine, Swift-swim",
         "175",
         "{special-attack=95, defense=78, attack=82, hp=80, special-defense=80, speed=85}",
         "Water",
         "2024-10-01T19:16:09.849+0000"
        ],
        [
         "Golett",
         1.0,
         92.0,
         "Iron-fist, Klutz, No-guard",
         "61",
         "{special-attack=35, defense=50, attack=74, hp=59, special-defense=50, speed=35}",
         "Ground, Ghost",
         "2024-10-01T19:16:09.849+0000"
        ],
        [
         "Golem",
         1.4,
         300.0,
         "Rock-head, Sturdy, Sand-veil",
         "223",
         "{special-attack=55, defense=130, attack=120, hp=80, special-defense=65, speed=45}",
         "Rock, Ground",
         "2024-10-01T19:16:09.849+0000"
        ],
        [
         "Golisopod",
         2.0,
         108.0,
         "Emergency-exit",
         "186",
         "{special-attack=60, defense=140, attack=125, hp=75, special-defense=90, speed=40}",
         "Bug, Water",
         "2024-10-01T19:16:09.849+0000"
        ],
        [
         "Golurk",
         2.8,
         330.0,
         "Iron-fist, Klutz, No-guard",
         "169",
         "{special-attack=55, defense=80, attack=124, hp=89, special-defense=80, speed=55}",
         "Ground, Ghost",
         "2024-10-01T19:16:09.849+0000"
        ],
        [
         "Goodra",
         2.0,
         150.5,
         "Sap-sipper, Hydration, Gooey",
         "300",
         "{special-attack=110, defense=70, attack=100, hp=90, special-defense=150, speed=80}",
         "Dragon",
         "2024-10-01T19:16:09.849+0000"
        ],
        [
         "Goomy",
         0.3,
         2.8,
         "Sap-sipper, Hydration, Gooey",
         "60",
         "{special-attack=55, defense=35, attack=50, hp=45, special-defense=75, speed=40}",
         "Dragon",
         "2024-10-01T19:16:09.849+0000"
        ],
        [
         "Granbull",
         1.4,
         48.7,
         "Intimidate, Quick-feet, Rattled",
         "158",
         "{special-attack=60, defense=75, attack=120, hp=90, special-defense=60, speed=45}",
         "Fairy",
         "2024-10-01T19:16:09.849+0000"
        ],
        [
         "Grimer",
         0.9,
         30.0,
         "Stench, Sticky-hold, Poison-touch",
         "65",
         "{special-attack=40, defense=50, attack=80, hp=80, special-defense=50, speed=25}",
         "Poison",
         "2024-10-01T19:16:09.849+0000"
        ],
        [
         "Grotle",
         1.1,
         97.0,
         "Overgrow, Shell-armor",
         "142",
         "{special-attack=55, defense=85, attack=89, hp=75, special-defense=65, speed=36}",
         "Grass",
         "2024-10-01T19:16:09.849+0000"
        ],
        [
         "Grovyle",
         0.9,
         21.6,
         "Overgrow, Unburden",
         "142",
         "{special-attack=85, defense=45, attack=65, hp=50, special-defense=65, speed=95}",
         "Grass",
         "2024-10-01T19:16:09.849+0000"
        ],
        [
         "Gulpin",
         0.4,
         10.3,
         "Liquid-ooze, Sticky-hold, Gluttony",
         "60",
         "{special-attack=43, defense=53, attack=43, hp=70, special-defense=53, speed=40}",
         "Poison",
         "2024-10-01T19:16:09.849+0000"
        ],
        [
         "Guzzlord",
         5.5,
         888.0,
         "Beast-boost",
         "285",
         "{special-attack=97, defense=53, attack=101, hp=223, special-defense=53, speed=43}",
         "Dark, Dragon",
         "2024-10-01T19:16:09.849+0000"
        ],
        [
         "Helioptile",
         0.5,
         6.0,
         "Dry-skin, Sand-veil, Solar-power",
         "58",
         "{special-attack=61, defense=33, attack=38, hp=44, special-defense=43, speed=70}",
         "Electric, Normal",
         "2024-10-01T19:16:09.849+0000"
        ],
        [
         "Heliolisk",
         1.0,
         21.0,
         "Dry-skin, Sand-veil, Solar-power",
         "168",
         "{special-attack=109, defense=52, attack=55, hp=62, special-defense=94, speed=109}",
         "Electric, Normal",
         "2024-10-01T19:16:09.849+0000"
        ],
        [
         "Herdier",
         0.9,
         14.7,
         "Intimidate, Sand-rush, Scrappy",
         "130",
         "{special-attack=35, defense=65, attack=80, hp=65, special-defense=65, speed=60}",
         "Normal",
         "2024-10-01T19:16:09.849+0000"
        ],
        [
         "Heracross",
         1.5,
         54.0,
         "Swarm, Guts, Moxie",
         "175",
         "{special-attack=40, defense=75, attack=125, hp=80, special-defense=95, speed=85}",
         "Bug, Fighting",
         "2024-10-01T19:16:09.849+0000"
        ],
        [
         "Hippowdon",
         2.0,
         300.0,
         "Sand-stream, Sand-force",
         "184",
         "{special-attack=68, defense=118, attack=112, hp=108, special-defense=72, speed=47}",
         "Ground",
         "2024-10-01T19:16:09.849+0000"
        ],
        [
         "Hitmonchan",
         1.4,
         50.2,
         "Keen-eye, Iron-fist, Inner-focus",
         "159",
         "{special-attack=35, defense=79, attack=105, hp=50, special-defense=110, speed=76}",
         "Fighting",
         "2024-10-01T19:16:09.849+0000"
        ],
        [
         "Hitmonlee",
         1.5,
         49.8,
         "Limber, Reckless, Unburden",
         "159",
         "{special-attack=35, defense=53, attack=120, hp=50, special-defense=110, speed=87}",
         "Fighting",
         "2024-10-01T19:16:09.849+0000"
        ],
        [
         "Hitmontop",
         1.4,
         48.0,
         "Intimidate, Technician, Steadfast",
         "159",
         "{special-attack=35, defense=95, attack=95, hp=50, special-defense=110, speed=70}",
         "Fighting",
         "2024-10-01T19:16:09.849+0000"
        ],
        [
         "Ho-oh",
         3.8,
         199.0,
         "Pressure, Regenerator",
         "340",
         "{special-attack=110, defense=90, attack=130, hp=106, special-defense=154, speed=90}",
         "Fire, Flying",
         "2024-10-01T19:16:09.849+0000"
        ],
        [
         "Honchkrow",
         0.9,
         27.3,
         "Insomnia, Super-luck, Moxie",
         "177",
         "{special-attack=105, defense=52, attack=125, hp=100, special-defense=52, speed=71}",
         "Dark, Flying",
         "2024-10-01T19:16:09.849+0000"
        ],
        [
         "Hoothoot",
         0.7,
         21.2,
         "Insomnia, Keen-eye, Tinted-lens",
         "52",
         "{special-attack=36, defense=30, attack=30, hp=60, special-defense=56, speed=50}",
         "Normal, Flying",
         "2024-10-01T19:16:09.849+0000"
        ],
        [
         "Hoppip",
         0.4,
         0.5,
         "Chlorophyll, Leaf-guard, Infiltrator",
         "50",
         "{special-attack=35, defense=40, attack=35, hp=35, special-defense=55, speed=50}",
         "Grass, Flying",
         "2024-10-01T19:16:09.849+0000"
        ],
        [
         "Oddish",
         0.5,
         5.4,
         "Chlorophyll, Run-away",
         "64",
         "{special-attack=75, defense=55, attack=50, hp=45, special-defense=65, speed=30}",
         "Grass, Poison",
         "2024-10-01T19:16:09.849+0000"
        ],
        [
         "Omanyte",
         0.4,
         7.5,
         "Swift-swim, Shell-armor, Weak-armor",
         "71",
         "{special-attack=90, defense=100, attack=40, hp=35, special-defense=55, speed=35}",
         "Rock, Water",
         "2024-10-01T19:16:09.849+0000"
        ],
        [
         "Omastar",
         1.0,
         35.0,
         "Swift-swim, Shell-armor, Weak-armor",
         "173",
         "{special-attack=115, defense=125, attack=60, hp=70, special-defense=70, speed=55}",
         "Rock, Water",
         "2024-10-01T19:16:09.849+0000"
        ],
        [
         "Onix",
         8.8,
         210.0,
         "Rock-head, Sturdy, Weak-armor",
         "77",
         "{special-attack=30, defense=160, attack=45, hp=35, special-defense=45, speed=70}",
         "Rock, Ground",
         "2024-10-01T19:16:09.849+0000"
        ],
        [
         "Oranguru",
         1.5,
         76.0,
         "Inner-focus, Telepathy, Symbiosis",
         "172",
         "{special-attack=90, defense=80, attack=60, hp=90, special-defense=110, speed=60}",
         "Normal, Psychic",
         "2024-10-01T19:16:09.849+0000"
        ],
        [
         "Orbeetle",
         0.4,
         40.8,
         "Swarm, Frisk, Telepathy",
         "253",
         "{special-attack=80, defense=110, attack=45, hp=60, special-defense=120, speed=90}",
         "Bug, Psychic",
         "2024-10-01T19:16:09.849+0000"
        ],
        [
         "Pachirisu",
         0.4,
         3.9,
         "Run-away, Pickup, Volt-absorb",
         "142",
         "{special-attack=45, defense=70, attack=45, hp=60, special-defense=90, speed=95}",
         "Electric",
         "2024-10-01T19:16:09.849+0000"
        ],
        [
         "Palkia",
         4.2,
         336.0,
         "Pressure, Telepathy",
         "340",
         "{special-attack=150, defense=100, attack=120, hp=90, special-defense=120, speed=100}",
         "Water, Dragon",
         "2024-10-01T19:16:09.849+0000"
        ],
        [
         "Palpitoad",
         0.8,
         17.0,
         "Swift-swim, Hydration, Water-absorb",
         "134",
         "{special-attack=65, defense=55, attack=65, hp=75, special-defense=55, speed=69}",
         "Water, Ground",
         "2024-10-01T19:16:09.849+0000"
        ],
        [
         "Pancham",
         0.6,
         8.0,
         "Iron-fist, Mold-breaker, Scrappy",
         "70",
         "{special-attack=46, defense=62, attack=82, hp=67, special-defense=48, speed=43}",
         "Fighting",
         "2024-10-01T19:16:09.849+0000"
        ],
        [
         "Pangoro",
         2.1,
         136.0,
         "Iron-fist, Mold-breaker, Scrappy",
         "173",
         "{special-attack=69, defense=78, attack=124, hp=95, special-defense=71, speed=58}",
         "Fighting, Dark",
         "2024-10-01T19:16:09.849+0000"
        ],
        [
         "Panpour",
         0.6,
         13.5,
         "Gluttony, Torrent",
         "63",
         "{special-attack=53, defense=48, attack=53, hp=50, special-defense=48, speed=64}",
         "Water",
         "2024-10-01T19:16:09.849+0000"
        ],
        [
         "Pansage",
         0.6,
         10.5,
         "Gluttony, Overgrow",
         "63",
         "{special-attack=53, defense=48, attack=53, hp=50, special-defense=48, speed=64}",
         "Grass",
         "2024-10-01T19:16:09.849+0000"
        ],
        [
         "Paras",
         0.3,
         5.4,
         "Effect-spore, Dry-skin, Damp",
         "57",
         "{special-attack=45, defense=55, attack=70, hp=35, special-defense=55, speed=25}",
         "Bug, Grass",
         "2024-10-01T19:16:09.849+0000"
        ],
        [
         "Passimian",
         2.0,
         82.8,
         "Receiver, Defiant",
         "172",
         "{special-attack=40, defense=90, attack=120, hp=100, special-defense=60, speed=80}",
         "Fighting",
         "2024-10-01T19:16:09.849+0000"
        ],
        [
         "Pawmi",
         0.3,
         2.5,
         "Static, Natural-cure, Iron-fist",
         "48",
         "{special-attack=40, defense=20, attack=50, hp=45, special-defense=25, speed=60}",
         "Electric",
         "2024-10-01T19:16:09.849+0000"
        ],
        [
         "Pawniard",
         0.5,
         10.2,
         "Defiant, Inner-focus, Pressure",
         "68",
         "{special-attack=40, defense=70, attack=85, hp=45, special-defense=40, speed=60}",
         "Dark, Steel",
         "2024-10-01T19:16:09.849+0000"
        ],
        [
         "Pidgeot",
         1.5,
         39.5,
         "Keen-eye, Tangled-feet, Big-pecks",
         "216",
         "{special-attack=70, defense=75, attack=80, hp=83, special-defense=70, speed=101}",
         "Normal, Flying",
         "2024-10-01T19:16:09.849+0000"
        ],
        [
         "Pidgeotto",
         1.1,
         30.0,
         "Keen-eye, Tangled-feet, Big-pecks",
         "122",
         "{special-attack=50, defense=55, attack=60, hp=63, special-defense=50, speed=71}",
         "Normal, Flying",
         "2024-10-01T19:16:09.849+0000"
        ],
        [
         "Pidgey",
         0.3,
         1.8,
         "Keen-eye, Tangled-feet, Big-pecks",
         "50",
         "{special-attack=35, defense=40, attack=45, hp=40, special-defense=35, speed=56}",
         "Normal, Flying",
         "2024-10-01T19:16:09.849+0000"
        ],
        [
         "Pidove",
         0.3,
         2.1,
         "Big-pecks, Super-luck, Rivalry",
         "53",
         "{special-attack=36, defense=50, attack=55, hp=50, special-defense=30, speed=43}",
         "Normal, Flying",
         "2024-10-01T19:16:09.849+0000"
        ],
        [
         "Pikachu",
         0.4,
         6.0,
         "Static, Lightning-rod",
         "112",
         "{special-attack=50, defense=40, attack=55, hp=35, special-defense=50, speed=90}",
         "Electric",
         "2024-10-01T19:16:09.849+0000"
        ],
        [
         "Pikipek",
         0.3,
         1.2,
         "Keen-eye, Skill-link, Pickup",
         "53",
         "{special-attack=30, defense=30, attack=75, hp=35, special-defense=30, speed=65}",
         "Normal, Flying",
         "2024-10-01T19:16:09.849+0000"
        ],
        [
         "Piloswine",
         1.1,
         55.8,
         "Oblivious, Snow-cloak, Thick-fat",
         "158",
         "{special-attack=60, defense=80, attack=100, hp=100, special-defense=60, speed=50}",
         "Ice, Ground",
         "2024-10-01T19:16:09.849+0000"
        ],
        [
         "Pinsir",
         1.5,
         55.0,
         "Hyper-cutter, Mold-breaker, Moxie",
         "175",
         "{special-attack=55, defense=100, attack=125, hp=65, special-defense=70, speed=85}",
         "Bug",
         "2024-10-01T19:16:09.849+0000"
        ],
        [
         "Piplup",
         0.4,
         5.2,
         "Torrent, Competitive",
         "63",
         "{special-attack=61, defense=53, attack=51, hp=53, special-defense=56, speed=40}",
         "Water",
         "2024-10-01T19:16:09.849+0000"
        ],
        [
         "Porygon",
         0.8,
         36.5,
         "Trace, Download, Analytic",
         "79",
         "{special-attack=85, defense=70, attack=60, hp=65, special-defense=75, speed=40}",
         "Normal",
         "2024-10-01T19:16:09.849+0000"
        ],
        [
         "Porygon-z",
         0.9,
         34.0,
         "Adaptability, Download, Analytic",
         "268",
         "{special-attack=135, defense=70, attack=80, hp=85, special-defense=75, speed=90}",
         "Normal",
         "2024-10-01T19:16:09.849+0000"
        ],
        [
         "Porygon2",
         0.6,
         32.5,
         "Trace, Download, Analytic",
         "180",
         "{special-attack=105, defense=90, attack=80, hp=85, special-defense=95, speed=60}",
         "Normal",
         "2024-10-01T19:16:09.849+0000"
        ],
        [
         "Primeape",
         1.0,
         32.0,
         "Vital-spirit, Anger-point, Defiant",
         "159",
         "{special-attack=60, defense=60, attack=105, hp=65, special-defense=70, speed=95}",
         "Fighting",
         "2024-10-01T19:16:09.849+0000"
        ],
        [
         "Prinplup",
         0.8,
         23.0,
         "Torrent, Competitive",
         "142",
         "{special-attack=81, defense=68, attack=66, hp=64, special-defense=76, speed=50}",
         "Water",
         "2024-10-01T19:16:09.849+0000"
        ],
        [
         "Probopass",
         1.4,
         340.0,
         "Sturdy, Magnet-pull, Sand-force",
         "184",
         "{special-attack=75, defense=145, attack=55, hp=60, special-defense=150, speed=40}",
         "Rock, Steel",
         "2024-10-01T19:16:09.849+0000"
        ],
        [
         "Psyduck",
         0.8,
         19.6,
         "Damp, Cloud-nine, Swift-swim",
         "64",
         "{special-attack=65, defense=48, attack=52, hp=50, special-defense=50, speed=55}",
         "Water",
         "2024-10-01T19:16:09.849+0000"
        ],
        [
         "Purugly",
         1.0,
         43.8,
         "Thick-fat, Own-tempo, Defiant",
         "158",
         "{special-attack=64, defense=64, attack=82, hp=71, special-defense=59, speed=112}",
         "Normal",
         "2024-10-01T19:16:09.849+0000"
        ],
        [
         "Purrloin",
         0.4,
         10.1,
         "Limber, Unburden, Prankster",
         "56",
         "{special-attack=50, defense=37, attack=50, hp=41, special-defense=37, speed=66}",
         "Dark",
         "2024-10-01T19:16:09.849+0000"
        ],
        [
         "Pyroar",
         1.5,
         81.5,
         "Rivalry, Unnerve, Moxie",
         "177",
         "{special-attack=109, defense=72, attack=68, hp=86, special-defense=66, speed=106}",
         "Fire, Normal",
         "2024-10-01T19:16:09.849+0000"
        ],
        [
         "Quagsire",
         1.4,
         75.0,
         "Damp, Water-absorb, Unaware",
         "151",
         "{special-attack=65, defense=85, attack=85, hp=95, special-defense=65, speed=35}",
         "Water, Ground",
         "2024-10-01T19:16:09.849+0000"
        ],
        [
         "Quaxly",
         0.5,
         6.1,
         "Torrent, Moxie",
         "62",
         "{special-attack=50, defense=45, attack=65, hp=55, special-defense=45, speed=50}",
         "Water",
         "2024-10-01T19:16:09.849+0000"
        ],
        [
         "Quilladin",
         0.7,
         29.0,
         "Overgrow, Bulletproof",
         "142",
         "{special-attack=56, defense=95, attack=78, hp=61, special-defense=58, speed=57}",
         "Grass",
         "2024-10-01T19:16:09.849+0000"
        ],
        [
         "Quilava",
         0.9,
         19.0,
         "Blaze, Flash-fire",
         "142",
         "{special-attack=80, defense=58, attack=64, hp=58, special-defense=65, speed=80}",
         "Fire",
         "2024-10-01T19:16:09.849+0000"
        ],
        [
         "Qwilfish",
         0.5,
         3.9,
         "Poison-point, Swift-swim, Intimidate",
         "88",
         "{special-attack=55, defense=85, attack=95, hp=65, special-defense=55, speed=85}",
         "Water, Poison",
         "2024-10-01T19:16:09.849+0000"
        ],
        [
         "Raboot",
         0.6,
         9.0,
         "Blaze, Libero",
         "147",
         "{special-attack=55, defense=60, attack=86, hp=65, special-defense=60, speed=94}",
         "Fire",
         "2024-10-01T19:16:09.849+0000"
        ],
        [
         "Raichu",
         0.8,
         30.0,
         "Static, Lightning-rod",
         "243",
         "{special-attack=90, defense=55, attack=90, hp=60, special-defense=80, speed=110}",
         "Electric",
         "2024-10-01T19:16:09.849+0000"
        ],
        [
         "Raikou",
         1.9,
         178.0,
         "Pressure, Inner-focus",
         "290",
         "{special-attack=115, defense=75, attack=85, hp=90, special-defense=100, speed=115}",
         "Electric",
         "2024-10-01T19:16:09.849+0000"
        ],
        [
         "Ralts",
         0.4,
         6.6,
         "Synchronize, Trace, Telepathy",
         "40",
         "{special-attack=45, defense=25, attack=25, hp=28, special-defense=35, speed=40}",
         "Psychic, Fairy",
         "2024-10-01T19:16:09.849+0000"
        ],
        [
         "Rampardos",
         1.6,
         102.5,
         "Mold-breaker, Sheer-force",
         "173",
         "{special-attack=65, defense=60, attack=165, hp=97, special-defense=50, speed=58}",
         "Rock",
         "2024-10-01T19:16:09.849+0000"
        ],
        [
         "Rapidash",
         1.7,
         95.0,
         "Run-away, Flash-fire, Flame-body",
         "175",
         "{special-attack=80, defense=70, attack=100, hp=65, special-defense=80, speed=105}",
         "Fire",
         "2024-10-01T19:16:09.849+0000"
        ],
        [
         "Raticate",
         0.7,
         18.5,
         "Run-away, Guts, Hustle",
         "145",
         "{special-attack=50, defense=60, attack=81, hp=55, special-defense=70, speed=97}",
         "Normal",
         "2024-10-01T19:16:09.849+0000"
        ],
        [
         "Rattata",
         0.3,
         3.5,
         "Run-away, Guts, Hustle",
         "51",
         "{special-attack=25, defense=35, attack=56, hp=30, special-defense=35, speed=72}",
         "Normal",
         "2024-10-01T19:16:09.849+0000"
        ],
        [
         "Rayquaza",
         7.0,
         206.5,
         "Air-lock",
         "340",
         "{special-attack=150, defense=90, attack=150, hp=105, special-defense=90, speed=95}",
         "Dragon, Flying",
         "2024-10-01T19:16:09.849+0000"
        ],
        [
         "Regice",
         1.8,
         175.0,
         "Clear-body, Ice-body",
         "290",
         "{special-attack=100, defense=100, attack=50, hp=80, special-defense=200, speed=50}",
         "Ice",
         "2024-10-01T19:16:09.849+0000"
        ],
        [
         "Regidrago",
         2.1,
         200.0,
         "Dragons-maw",
         "290",
         "{special-attack=100, defense=50, attack=100, hp=200, special-defense=50, speed=80}",
         "Dragon",
         "2024-10-01T19:16:09.849+0000"
        ],
        [
         "Regigigas",
         3.7,
         420.0,
         "Slow-start",
         "335",
         "{special-attack=80, defense=110, attack=160, hp=110, special-defense=110, speed=100}",
         "Normal",
         "2024-10-01T19:16:09.849+0000"
        ],
        [
         "Regirock",
         1.7,
         230.0,
         "Clear-body, Sturdy",
         "290",
         "{special-attack=50, defense=200, attack=100, hp=80, special-defense=100, speed=50}",
         "Rock",
         "2024-10-01T19:16:09.849+0000"
        ],
        [
         "Registeel",
         1.9,
         205.0,
         "Clear-body, Light-metal",
         "290",
         "{special-attack=75, defense=150, attack=75, hp=80, special-defense=150, speed=50}",
         "Steel",
         "2024-10-01T19:16:09.849+0000"
        ],
        [
         "Reshiram",
         3.2,
         330.0,
         "Turboblaze",
         "340",
         "{special-attack=150, defense=100, attack=120, hp=100, special-defense=120, speed=90}",
         "Dragon, Fire",
         "2024-10-01T19:16:09.849+0000"
        ],
        [
         "Ribombee",
         0.2,
         0.5,
         "Honey-gather, Shield-dust, Sweet-veil",
         "162",
         "{special-attack=95, defense=60, attack=55, hp=60, special-defense=70, speed=124}",
         "Bug, Fairy",
         "2024-10-01T19:16:09.849+0000"
        ],
        [
         "Rillaboom",
         2.1,
         90.0,
         "Overgrow, Grassy-surge",
         "265",
         "{special-attack=60, defense=90, attack=125, hp=100, special-defense=70, speed=85}",
         "Grass",
         "2024-10-01T19:16:09.849+0000"
        ],
        [
         "Rhyperior",
         2.4,
         282.8,
         "Lightning-rod, Solid-rock, Reckless",
         "268",
         "{special-attack=55, defense=130, attack=140, hp=115, special-defense=55, speed=40}",
         "Ground, Rock",
         "2024-10-01T19:16:09.849+0000"
        ],
        [
         "Roselia",
         0.3,
         2.0,
         "Natural-cure, Poison-point, Leaf-guard",
         "140",
         "{special-attack=100, defense=45, attack=60, hp=50, special-defense=80, speed=65}",
         "Grass, Poison",
         "2024-10-01T19:16:09.849+0000"
        ],
        [
         "Roserade",
         0.9,
         14.5,
         "Natural-cure, Poison-point, Technician",
         "258",
         "{special-attack=125, defense=65, attack=70, hp=60, special-defense=105, speed=90}",
         "Grass, Poison",
         "2024-10-01T19:16:09.849+0000"
        ],
        [
         "Rowlet",
         0.3,
         1.5,
         "Overgrow, Long-reach",
         "64",
         "{special-attack=50, defense=55, attack=55, hp=68, special-defense=50, speed=42}",
         "Grass, Flying",
         "2024-10-01T19:16:09.849+0000"
        ],
        [
         "Abomasnow",
         2.2,
         135.5,
         "Snow-warning, Soundproof",
         "173",
         "{special-attack=92, defense=75, attack=92, hp=90, special-defense=85, speed=60}",
         "Grass, Ice",
         "2024-10-01T19:16:09.849+0000"
        ],
        [
         "Abra",
         0.9,
         19.5,
         "Synchronize, Inner-focus, Magic-guard",
         "62",
         "{special-attack=105, defense=15, attack=20, hp=25, special-defense=55, speed=90}",
         "Psychic",
         "2024-10-01T19:16:09.849+0000"
        ],
        [
         "Absol",
         1.2,
         47.0,
         "Pressure, Super-luck, Justified",
         "163",
         "{special-attack=75, defense=60, attack=130, hp=65, special-defense=60, speed=75}",
         "Dark",
         "2024-10-01T19:16:09.849+0000"
        ],
        [
         "Accelgor",
         0.8,
         25.3,
         "Hydration, Sticky-hold, Unburden",
         "173",
         "{special-attack=100, defense=40, attack=70, hp=80, special-defense=60, speed=145}",
         "Bug",
         "2024-10-01T19:16:09.849+0000"
        ],
        [
         "Aerodactyl",
         1.8,
         59.0,
         "Rock-head, Pressure, Unnerve",
         "180",
         "{special-attack=60, defense=65, attack=105, hp=80, special-defense=75, speed=130}",
         "Rock, Flying",
         "2024-10-01T19:16:09.849+0000"
        ],
        [
         "Aggron",
         2.1,
         360.0,
         "Sturdy, Rock-head, Heavy-metal",
         "265",
         "{special-attack=60, defense=180, attack=110, hp=70, special-defense=60, speed=50}",
         "Steel, Rock",
         "2024-10-01T19:16:09.849+0000"
        ],
        [
         "Aipom",
         0.8,
         11.5,
         "Run-away, Pickup, Skill-link",
         "72",
         "{special-attack=40, defense=55, attack=70, hp=55, special-defense=55, speed=85}",
         "Normal",
         "2024-10-01T19:16:09.849+0000"
        ],
        [
         "Alakazam",
         1.5,
         48.0,
         "Synchronize, Inner-focus, Magic-guard",
         "250",
         "{special-attack=135, defense=45, attack=50, hp=55, special-defense=95, speed=120}",
         "Psychic",
         "2024-10-01T19:16:09.849+0000"
        ],
        [
         "Alomomola",
         1.2,
         31.6,
         "Healer, Hydration, Regenerator",
         "165",
         "{special-attack=40, defense=80, attack=75, hp=165, special-defense=45, speed=65}",
         "Water",
         "2024-10-01T19:16:09.849+0000"
        ],
        [
         "Altaria",
         1.1,
         20.6,
         "Natural-cure, Cloud-nine",
         "172",
         "{special-attack=70, defense=90, attack=70, hp=75, special-defense=105, speed=80}",
         "Dragon, Flying",
         "2024-10-01T19:16:09.849+0000"
        ],
        [
         "Ambipom",
         1.2,
         20.3,
         "Technician, Pickup, Skill-link",
         "169",
         "{special-attack=60, defense=66, attack=100, hp=75, special-defense=66, speed=115}",
         "Normal",
         "2024-10-01T19:16:09.849+0000"
        ],
        [
         "Amoonguss",
         0.6,
         10.5,
         "Effect-spore, Regenerator",
         "162",
         "{special-attack=85, defense=70, attack=85, hp=114, special-defense=80, speed=30}",
         "Grass, Poison",
         "2024-10-01T19:16:09.849+0000"
        ],
        [
         "Ampharos",
         1.4,
         61.5,
         "Static, Plus",
         "230",
         "{special-attack=115, defense=85, attack=75, hp=90, special-defense=90, speed=55}",
         "Electric",
         "2024-10-01T19:16:09.849+0000"
        ],
        [
         "Anorith",
         0.7,
         12.5,
         "Battle-armor, Swift-swim",
         "71",
         "{special-attack=40, defense=50, attack=95, hp=45, special-defense=50, speed=75}",
         "Rock, Bug",
         "2024-10-01T19:16:09.849+0000"
        ],
        [
         "Arbok",
         3.5,
         65.0,
         "Intimidate, Shed-skin, Unnerve",
         "157",
         "{special-attack=65, defense=69, attack=95, hp=60, special-defense=79, speed=80}",
         "Poison",
         "2024-10-01T19:16:09.849+0000"
        ],
        [
         "Arcanine",
         1.9,
         155.0,
         "Intimidate, Flash-fire, Justified",
         "194",
         "{special-attack=100, defense=80, attack=110, hp=90, special-defense=80, speed=95}",
         "Fire",
         "2024-10-01T19:16:09.849+0000"
        ],
        [
         "Arceus",
         3.2,
         320.0,
         "Multitype",
         "324",
         "{special-attack=120, defense=120, attack=120, hp=120, special-defense=120, speed=120}",
         "Normal",
         "2024-10-01T19:16:09.849+0000"
        ],
        [
         "Armaldo",
         1.5,
         68.2,
         "Battle-armor, Swift-swim",
         "173",
         "{special-attack=70, defense=100, attack=125, hp=75, special-defense=80, speed=45}",
         "Rock, Bug",
         "2024-10-01T19:16:09.849+0000"
        ],
        [
         "Aromatisse",
         0.8,
         15.5,
         "Healer, Aroma-veil",
         "162",
         "{special-attack=99, defense=72, attack=72, hp=101, special-defense=89, speed=29}",
         "Fairy",
         "2024-10-01T19:16:09.849+0000"
        ],
        [
         "Aron",
         0.4,
         60.0,
         "Sturdy, Rock-head, Heavy-metal",
         "66",
         "{special-attack=40, defense=100, attack=70, hp=50, special-defense=40, speed=30}",
         "Steel, Rock",
         "2024-10-01T19:16:09.849+0000"
        ],
        [
         "Articuno",
         1.7,
         55.4,
         "Pressure, Snow-cloak",
         "290",
         "{special-attack=95, defense=100, attack=85, hp=90, special-defense=125, speed=85}",
         "Ice, Flying",
         "2024-10-01T19:16:09.849+0000"
        ],
        [
         "Audino",
         1.1,
         31.0,
         "Healer, Regenerator, Klutz",
         "390",
         "{special-attack=60, defense=86, attack=60, hp=103, special-defense=86, speed=50}",
         "Normal",
         "2024-10-01T19:16:09.849+0000"
        ],
        [
         "Bagon",
         0.6,
         42.1,
         "Rock-head, Sheer-force",
         "60",
         "{special-attack=40, defense=60, attack=75, hp=45, special-defense=30, speed=50}",
         "Dragon",
         "2024-10-01T19:16:09.849+0000"
        ],
        [
         "Baltoy",
         0.5,
         21.5,
         "Levitate",
         "60",
         "{special-attack=40, defense=55, attack=40, hp=40, special-defense=70, speed=55}",
         "Ground, Psychic",
         "2024-10-01T19:16:09.849+0000"
        ],
        [
         "Banette",
         1.1,
         12.5,
         "Insomnia, Frisk, Cursed-body",
         "159",
         "{special-attack=83, defense=65, attack=115, hp=64, special-defense=63, speed=65}",
         "Ghost",
         "2024-10-01T19:16:09.849+0000"
        ],
        [
         "Barboach",
         0.4,
         1.9,
         "Oblivious, Anticipation, Hydration",
         "58",
         "{special-attack=46, defense=43, attack=48, hp=50, special-defense=41, speed=60}",
         "Water, Ground",
         "2024-10-01T19:16:09.849+0000"
        ],
        [
         "Barraskewda",
         1.3,
         30.0,
         "Swift-swim, Propeller-tail",
         "172",
         "{special-attack=60, defense=60, attack=123, hp=61, special-defense=50, speed=136}",
         "Water",
         "2024-10-01T19:16:09.849+0000"
        ],
        [
         "Beldum",
         0.6,
         95.2,
         "Clear-body, Light-metal",
         "60",
         "{special-attack=35, defense=80, attack=55, hp=40, special-defense=60, speed=30}",
         "Steel, Psychic",
         "2024-10-01T19:16:09.849+0000"
        ],
        [
         "Bellossom",
         0.4,
         5.8,
         "Chlorophyll, Healer",
         "245",
         "{special-attack=90, defense=95, attack=80, hp=75, special-defense=100, speed=50}",
         "Grass",
         "2024-10-01T19:16:09.849+0000"
        ],
        [
         "Bellsprout",
         0.7,
         4.0,
         "Chlorophyll, Gluttony",
         "60",
         "{special-attack=70, defense=35, attack=75, hp=50, special-defense=30, speed=40}",
         "Grass, Poison",
         "2024-10-01T19:16:09.849+0000"
        ],
        [
         "Bergmite",
         1.0,
         99.5,
         "Own-tempo, Ice-body, Sturdy",
         "61",
         "{special-attack=32, defense=85, attack=69, hp=55, special-defense=35, speed=28}",
         "Ice",
         "2024-10-01T19:16:09.849+0000"
        ],
        [
         "Bidoof",
         0.5,
         20.0,
         "Simple, Unaware, Moody",
         "50",
         "{special-attack=35, defense=40, attack=45, hp=59, special-defense=40, speed=31}",
         "Normal",
         "2024-10-01T19:16:09.849+0000"
        ],
        [
         "Bisharp",
         1.6,
         70.0,
         "Defiant, Inner-focus, Pressure",
         "172",
         "{special-attack=60, defense=100, attack=125, hp=65, special-defense=70, speed=70}",
         "Dark, Steel",
         "2024-10-01T19:16:09.849+0000"
        ],
        [
         "Blacephalon",
         1.8,
         13.0,
         "Beast-boost",
         "285",
         "{special-attack=151, defense=53, attack=127, hp=53, special-defense=79, speed=107}",
         "Fire, Ghost",
         "2024-10-01T19:16:09.849+0000"
        ],
        [
         "Blastoise",
         1.6,
         85.5,
         "Torrent, Rain-dish",
         "265",
         "{special-attack=85, defense=100, attack=83, hp=79, special-defense=105, speed=78}",
         "Water",
         "2024-10-01T19:16:09.849+0000"
        ],
        [
         "Blaziken",
         1.9,
         52.0,
         "Blaze, Speed-boost",
         "265",
         "{special-attack=110, defense=70, attack=120, hp=80, special-defense=70, speed=80}",
         "Fire, Fighting",
         "2024-10-01T19:16:09.849+0000"
        ],
        [
         "Blipbug",
         0.4,
         8.0,
         "Swarm, Compound-eyes, Telepathy",
         "36",
         "{special-attack=25, defense=20, attack=20, hp=25, special-defense=45, speed=45}",
         "Bug",
         "2024-10-01T19:16:09.849+0000"
        ],
        [
         "Boltund",
         1.0,
         34.0,
         "Strong-jaw, Competitive",
         "172",
         "{special-attack=90, defense=60, attack=90, hp=69, special-defense=60, speed=121}",
         "Electric",
         "2024-10-01T19:16:09.849+0000"
        ],
        [
         "Bounsweet",
         0.3,
         3.2,
         "Leaf-guard, Oblivious, Sweet-veil",
         "42",
         "{special-attack=30, defense=38, attack=30, hp=42, special-defense=38, speed=32}",
         "Grass",
         "2024-10-01T19:16:09.849+0000"
        ],
        [
         "Braixen",
         1.0,
         14.5,
         "Blaze, Magician",
         "143",
         "{special-attack=90, defense=58, attack=59, hp=59, special-defense=70, speed=73}",
         "Fire",
         "2024-10-01T19:16:09.849+0000"
        ],
        [
         "Brionne",
         0.6,
         17.5,
         "Torrent, Liquid-voice",
         "147",
         "{special-attack=91, defense=69, attack=69, hp=60, special-defense=81, speed=50}",
         "Water",
         "2024-10-01T19:16:09.849+0000"
        ],
        [
         "Butterfree",
         1.1,
         32.0,
         "Compound-eyes, Tinted-lens",
         "198",
         "{special-attack=90, defense=50, attack=45, hp=60, special-defense=80, speed=70}",
         "Bug, Flying",
         "2024-10-01T19:16:09.849+0000"
        ],
        [
         "Buzzwole",
         2.4,
         333.6,
         "Beast-boost",
         "285",
         "{special-attack=53, defense=139, attack=139, hp=107, special-defense=53, speed=79}",
         "Bug, Fighting",
         "2024-10-01T19:16:09.849+0000"
        ],
        [
         "Cacturne",
         1.3,
         77.4,
         "Sand-veil, Water-absorb",
         "166",
         "{special-attack=115, defense=60, attack=115, hp=70, special-defense=60, speed=55}",
         "Grass, Dark",
         "2024-10-01T19:16:09.849+0000"
        ],
        [
         "Calyrex",
         1.1,
         7.7,
         "Unnerve",
         "250",
         "{special-attack=80, defense=80, attack=80, hp=100, special-defense=80, speed=80}",
         "Psychic, Grass",
         "2024-10-01T19:16:09.849+0000"
        ],
        [
         "Carbink",
         0.3,
         5.7,
         "Clear-body, Sturdy",
         "100",
         "{special-attack=50, defense=150, attack=50, hp=50, special-defense=150, speed=50}",
         "Rock, Fairy",
         "2024-10-01T19:16:09.849+0000"
        ],
        [
         "Carnivine",
         1.4,
         27.0,
         "Levitate",
         "159",
         "{special-attack=90, defense=72, attack=100, hp=74, special-defense=72, speed=46}",
         "Grass",
         "2024-10-01T19:16:09.849+0000"
        ],
        [
         "Carracosta",
         1.2,
         81.0,
         "Solid-rock, Sturdy, Swift-swim",
         "173",
         "{special-attack=83, defense=133, attack=108, hp=74, special-defense=65, speed=32}",
         "Water, Rock",
         "2024-10-01T19:16:09.849+0000"
        ],
        [
         "Castform",
         0.3,
         0.8,
         "Forecast",
         "147",
         "{special-attack=70, defense=70, attack=70, hp=70, special-defense=70, speed=70}",
         "Normal",
         "2024-10-01T19:16:09.849+0000"
        ],
        [
         "Caterpie",
         0.3,
         2.9,
         "Shield-dust, Run-away",
         "39",
         "{special-attack=20, defense=35, attack=30, hp=45, special-defense=20, speed=45}",
         "Bug",
         "2024-10-01T19:16:09.849+0000"
        ],
        [
         "Celebi",
         0.6,
         5.0,
         "Natural-cure",
         "300",
         "{special-attack=100, defense=100, attack=100, hp=100, special-defense=100, speed=100}",
         "Psychic, Grass",
         "2024-10-01T19:16:09.849+0000"
        ],
        [
         "Chandelure",
         1.0,
         34.3,
         "Flash-fire, Flame-body, Infiltrator",
         "260",
         "{special-attack=145, defense=90, attack=55, hp=60, special-defense=90, speed=80}",
         "Ghost, Fire",
         "2024-10-01T19:16:09.849+0000"
        ],
        [
         "Chansey",
         1.1,
         34.6,
         "Natural-cure, Serene-grace, Healer",
         "395",
         "{special-attack=35, defense=5, attack=5, hp=250, special-defense=105, speed=50}",
         "Normal",
         "2024-10-01T19:16:09.849+0000"
        ],
        [
         "Charizard",
         1.7,
         90.5,
         "Blaze, Solar-power",
         "267",
         "{special-attack=109, defense=78, attack=84, hp=78, special-defense=85, speed=100}",
         "Fire, Flying",
         "2024-10-01T19:16:09.849+0000"
        ],
        [
         "Charmeleon",
         1.1,
         19.0,
         "Blaze, Solar-power",
         "142",
         "{special-attack=80, defense=58, attack=64, hp=58, special-defense=65, speed=80}",
         "Fire",
         "2024-10-01T19:16:09.849+0000"
        ],
        [
         "Charmander",
         0.6,
         8.5,
         "Blaze, Solar-power",
         "62",
         "{special-attack=60, defense=43, attack=52, hp=39, special-defense=50, speed=65}",
         "Fire",
         "2024-10-01T19:16:09.849+0000"
        ],
        [
         "Chatot",
         0.5,
         1.9,
         "Keen-eye, Tangled-feet, Big-pecks",
         "144",
         "{special-attack=92, defense=45, attack=65, hp=76, special-defense=42, speed=91}",
         "Normal, Flying",
         "2024-10-01T19:16:09.849+0000"
        ],
        [
         "Cherrim",
         0.5,
         9.3,
         "Flower-gift",
         "158",
         "{special-attack=87, defense=70, attack=60, hp=70, special-defense=78, speed=85}",
         "Grass",
         "2024-10-01T19:16:09.849+0000"
        ],
        [
         "Cherubi",
         0.4,
         3.3,
         "Chlorophyll",
         "55",
         "{special-attack=62, defense=45, attack=35, hp=45, special-defense=53, speed=35}",
         "Grass",
         "2024-10-01T19:16:09.849+0000"
        ],
        [
         "Chespin",
         0.4,
         9.0,
         "Overgrow, Bulletproof",
         "63",
         "{special-attack=48, defense=65, attack=61, hp=56, special-defense=45, speed=38}",
         "Grass",
         "2024-10-01T19:16:09.849+0000"
        ],
        [
         "Chikorita",
         0.9,
         6.4,
         "Overgrow, Leaf-guard",
         "64",
         "{special-attack=49, defense=65, attack=49, hp=45, special-defense=65, speed=45}",
         "Grass",
         "2024-10-01T19:16:09.849+0000"
        ],
        [
         "Chimchar",
         0.5,
         6.2,
         "Blaze, Iron-fist",
         "62",
         "{special-attack=58, defense=44, attack=58, hp=44, special-defense=44, speed=61}",
         "Fire",
         "2024-10-01T19:16:09.849+0000"
        ],
        [
         "Houndoom",
         1.4,
         35.0,
         "Early-bird, Flash-fire, Unnerve",
         "175",
         "{special-attack=110, defense=50, attack=90, hp=75, special-defense=80, speed=95}",
         "Dark, Fire",
         "2024-10-01T19:16:09.849+0000"
        ],
        [
         "Houndour",
         0.6,
         10.8,
         "Early-bird, Flash-fire, Unnerve",
         "66",
         "{special-attack=80, defense=30, attack=60, hp=45, special-defense=50, speed=65}",
         "Dark, Fire",
         "2024-10-01T19:16:09.849+0000"
        ],
        [
         "Huntail",
         1.7,
         27.0,
         "Swift-swim, Water-veil",
         "170",
         "{special-attack=94, defense=105, attack=104, hp=55, special-defense=75, speed=52}",
         "Water",
         "2024-10-01T19:16:09.849+0000"
        ],
        [
         "Hydreigon",
         1.8,
         160.0,
         "Levitate",
         "300",
         "{special-attack=125, defense=90, attack=105, hp=92, special-defense=90, speed=98}",
         "Dark, Dragon",
         "2024-10-01T19:16:09.849+0000"
        ],
        [
         "Hypno",
         1.6,
         75.6,
         "Insomnia, Forewarn, Inner-focus",
         "169",
         "{special-attack=73, defense=70, attack=73, hp=85, special-defense=115, speed=67}",
         "Psychic",
         "2024-10-01T19:16:09.849+0000"
        ],
        [
         "Igglybuff",
         0.3,
         1.0,
         "Cute-charm, Competitive, Friend-guard",
         "42",
         "{special-attack=40, defense=15, attack=30, hp=90, special-defense=20, speed=15}",
         "Normal, Fairy",
         "2024-10-01T19:16:09.849+0000"
        ],
        [
         "Incineroar",
         1.8,
         83.0,
         "Blaze, Intimidate",
         "265",
         "{special-attack=80, defense=90, attack=115, hp=95, special-defense=90, speed=60}",
         "Fire, Dark",
         "2024-10-01T19:16:09.849+0000"
        ],
        [
         "Inteleon",
         1.9,
         45.2,
         "Torrent, Sniper",
         "265",
         "{special-attack=125, defense=65, attack=85, hp=70, special-defense=65, speed=120}",
         "Water",
         "2024-10-01T19:16:09.849+0000"
        ],
        [
         "Jangmo-o",
         0.6,
         29.7,
         "Bulletproof, Soundproof, Overcoat",
         "60",
         "{special-attack=45, defense=65, attack=55, hp=45, special-defense=45, speed=45}",
         "Dragon",
         "2024-10-01T19:16:09.849+0000"
        ],
        [
         "Jigglypuff",
         0.5,
         5.5,
         "Cute-charm, Competitive, Friend-guard",
         "95",
         "{special-attack=45, defense=20, attack=45, hp=115, special-defense=25, speed=20}",
         "Normal, Fairy",
         "2024-10-01T19:16:09.849+0000"
        ],
        [
         "Jolteon",
         0.8,
         24.5,
         "Volt-absorb, Quick-feet",
         "184",
         "{special-attack=110, defense=60, attack=65, hp=65, special-defense=95, speed=130}",
         "Electric",
         "2024-10-01T19:16:09.849+0000"
        ],
        [
         "Jynx",
         1.4,
         40.6,
         "Oblivious, Forewarn, Dry-skin",
         "159",
         "{special-attack=115, defense=35, attack=50, hp=65, special-defense=95, speed=95}",
         "Ice, Psychic",
         "2024-10-01T19:16:09.849+0000"
        ],
        [
         "Kabuto",
         0.5,
         11.5,
         "Swift-swim, Battle-armor, Weak-armor",
         "71",
         "{special-attack=55, defense=90, attack=80, hp=30, special-defense=45, speed=55}",
         "Rock, Water",
         "2024-10-01T19:16:09.849+0000"
        ],
        [
         "Kabutops",
         1.3,
         40.5,
         "Swift-swim, Battle-armor, Weak-armor",
         "173",
         "{special-attack=65, defense=105, attack=115, hp=60, special-defense=70, speed=80}",
         "Rock, Water",
         "2024-10-01T19:16:09.849+0000"
        ],
        [
         "Kadabra",
         1.3,
         56.5,
         "Synchronize, Inner-focus, Magic-guard",
         "140",
         "{special-attack=120, defense=30, attack=35, hp=40, special-defense=70, speed=105}",
         "Psychic",
         "2024-10-01T19:16:09.849+0000"
        ],
        [
         "Kakuna",
         0.6,
         10.0,
         "Shed-skin",
         "72",
         "{special-attack=25, defense=50, attack=25, hp=45, special-defense=25, speed=35}",
         "Bug, Poison",
         "2024-10-01T19:16:09.849+0000"
        ],
        [
         "Kecleon",
         1.0,
         22.0,
         "Color-change, Protean",
         "154",
         "{special-attack=60, defense=70, attack=90, hp=60, special-defense=120, speed=40}",
         "Normal",
         "2024-10-01T19:16:09.849+0000"
        ],
        [
         "Kingdra",
         1.8,
         152.0,
         "Swift-swim, Sniper, Damp",
         "270",
         "{special-attack=95, defense=95, attack=95, hp=75, special-defense=95, speed=85}",
         "Water, Dragon",
         "2024-10-01T19:16:09.849+0000"
        ],
        [
         "Kingler",
         1.3,
         60.0,
         "Hyper-cutter, Shell-armor, Sheer-force",
         "166",
         "{special-attack=50, defense=115, attack=130, hp=55, special-defense=50, speed=75}",
         "Water",
         "2024-10-01T19:16:09.849+0000"
        ],
        [
         "Kirlia",
         0.8,
         20.2,
         "Synchronize, Trace, Telepathy",
         "97",
         "{special-attack=65, defense=35, attack=35, hp=38, special-defense=55, speed=50}",
         "Psychic, Fairy",
         "2024-10-01T19:16:09.849+0000"
        ],
        [
         "Klang",
         0.6,
         51.0,
         "Plus, Minus, Clear-body",
         "154",
         "{special-attack=70, defense=95, attack=80, hp=60, special-defense=85, speed=50}",
         "Steel",
         "2024-10-01T19:16:09.849+0000"
        ],
        [
         "Klink",
         0.3,
         21.0,
         "Plus, Minus, Clear-body",
         "60",
         "{special-attack=45, defense=70, attack=55, hp=40, special-defense=60, speed=30}",
         "Steel",
         "2024-10-01T19:16:09.849+0000"
        ],
        [
         "Klinklang",
         0.6,
         81.0,
         "Plus, Minus, Clear-body",
         "260",
         "{special-attack=70, defense=115, attack=100, hp=60, special-defense=85, speed=90}",
         "Steel",
         "2024-10-01T19:16:09.849+0000"
        ],
        [
         "Koffing",
         0.6,
         1.0,
         "Levitate, Neutralizing-gas, Stench",
         "68",
         "{special-attack=60, defense=95, attack=65, hp=40, special-defense=45, speed=35}",
         "Poison",
         "2024-10-01T19:16:09.849+0000"
        ],
        [
         "Komala",
         0.4,
         19.9,
         "Comatose",
         "168",
         "{special-attack=75, defense=65, attack=115, hp=65, special-defense=95, speed=65}",
         "Normal",
         "2024-10-01T19:16:09.849+0000"
        ],
        [
         "Kommo-o",
         1.6,
         78.2,
         "Bulletproof, Soundproof, Overcoat",
         "300",
         "{special-attack=100, defense=125, attack=110, hp=75, special-defense=105, speed=85}",
         "Dragon, Fighting",
         "2024-10-01T19:16:09.849+0000"
        ],
        [
         "Krabby",
         0.4,
         6.5,
         "Hyper-cutter, Shell-armor, Sheer-force",
         "65",
         "{special-attack=25, defense=90, attack=105, hp=30, special-defense=25, speed=50}",
         "Water",
         "2024-10-01T19:16:09.849+0000"
        ],
        [
         "Kricketot",
         0.3,
         2.2,
         "Shed-skin, Run-away",
         "39",
         "{special-attack=25, defense=41, attack=25, hp=37, special-defense=41, speed=25}",
         "Bug",
         "2024-10-01T19:16:09.849+0000"
        ],
        [
         "Kricketune",
         1.0,
         25.5,
         "Swarm, Technician",
         "134",
         "{special-attack=55, defense=51, attack=85, hp=77, special-defense=51, speed=65}",
         "Bug",
         "2024-10-01T19:16:09.849+0000"
        ],
        [
         "Krookodile",
         1.5,
         96.3,
         "Intimidate, Moxie, Anger-point",
         "260",
         "{special-attack=65, defense=80, attack=117, hp=95, special-defense=70, speed=92}",
         "Ground, Dark",
         "2024-10-01T19:16:09.849+0000"
        ],
        [
         "Kyogre",
         4.5,
         352.0,
         "Drizzle",
         "335",
         "{special-attack=150, defense=90, attack=100, hp=100, special-defense=140, speed=90}",
         "Water",
         "2024-10-01T19:16:09.849+0000"
        ],
        [
         "Kyurem",
         3.0,
         325.0,
         "Pressure",
         "330",
         "{special-attack=130, defense=90, attack=130, hp=125, special-defense=90, speed=95}",
         "Dragon, Ice",
         "2024-10-01T19:16:09.849+0000"
        ],
        [
         "Lanturn",
         1.2,
         22.5,
         "Volt-absorb, Illuminate, Water-absorb",
         "161",
         "{special-attack=76, defense=58, attack=58, hp=125, special-defense=76, speed=67}",
         "Water, Electric",
         "2024-10-01T19:16:09.849+0000"
        ],
        [
         "Lapras",
         2.5,
         220.0,
         "Water-absorb, Shell-armor, Hydration",
         "187",
         "{special-attack=85, defense=80, attack=85, hp=130, special-defense=95, speed=60}",
         "Water, Ice",
         "2024-10-01T19:16:09.849+0000"
        ],
        [
         "Larvesta",
         1.1,
         28.8,
         "Flame-body, Swarm",
         "72",
         "{special-attack=50, defense=55, attack=85, hp=55, special-defense=55, speed=60}",
         "Bug, Fire",
         "2024-10-01T19:16:09.849+0000"
        ],
        [
         "Larvitar",
         0.6,
         72.0,
         "Guts, Sand-veil",
         "60",
         "{special-attack=45, defense=50, attack=64, hp=50, special-defense=50, speed=41}",
         "Rock, Ground",
         "2024-10-01T19:16:09.849+0000"
        ],
        [
         "Latias",
         1.4,
         40.0,
         "Levitate",
         "300",
         "{special-attack=110, defense=90, attack=80, hp=80, special-defense=130, speed=110}",
         "Dragon, Psychic",
         "2024-10-01T19:16:09.849+0000"
        ],
        [
         "Latios",
         2.0,
         60.0,
         "Levitate",
         "300",
         "{special-attack=130, defense=80, attack=90, hp=80, special-defense=110, speed=110}",
         "Dragon, Psychic",
         "2024-10-01T19:16:09.849+0000"
        ],
        [
         "Leafeon",
         1.0,
         25.5,
         "Leaf-guard, Chlorophyll",
         "184",
         "{special-attack=60, defense=130, attack=110, hp=65, special-defense=65, speed=95}",
         "Grass",
         "2024-10-01T19:16:09.849+0000"
        ],
        [
         "Leavanny",
         1.2,
         20.5,
         "Swarm, Chlorophyll, Overcoat",
         "225",
         "{special-attack=70, defense=80, attack=103, hp=75, special-defense=80, speed=92}",
         "Bug, Grass",
         "2024-10-01T19:16:09.849+0000"
        ],
        [
         "Ledian",
         1.4,
         35.6,
         "Swarm, Early-bird, Iron-fist",
         "137",
         "{special-attack=55, defense=50, attack=35, hp=55, special-defense=110, speed=85}",
         "Bug, Flying",
         "2024-10-01T19:16:09.849+0000"
        ],
        [
         "Ledyba",
         1.0,
         10.8,
         "Swarm, Early-bird, Rattled",
         "53",
         "{special-attack=40, defense=30, attack=20, hp=40, special-defense=80, speed=55}",
         "Bug, Flying",
         "2024-10-01T19:16:09.849+0000"
        ],
        [
         "Lickilicky",
         1.7,
         140.0,
         "Own-tempo, Oblivious, Cloud-nine",
         "180",
         "{special-attack=80, defense=95, attack=85, hp=110, special-defense=95, speed=50}",
         "Normal",
         "2024-10-01T19:16:09.849+0000"
        ],
        [
         "Lickitung",
         1.2,
         65.5,
         "Own-tempo, Oblivious, Cloud-nine",
         "77",
         "{special-attack=60, defense=75, attack=55, hp=90, special-defense=75, speed=30}",
         "Normal",
         "2024-10-01T19:16:09.849+0000"
        ],
        [
         "Liepard",
         1.1,
         37.5,
         "Limber, Unburden, Prankster",
         "156",
         "{special-attack=88, defense=50, attack=88, hp=64, special-defense=50, speed=106}",
         "Dark",
         "2024-10-01T19:16:09.849+0000"
        ],
        [
         "Lileep",
         1.0,
         23.8,
         "Suction-cups, Storm-drain",
         "71",
         "{special-attack=61, defense=77, attack=41, hp=66, special-defense=87, speed=23}",
         "Rock, Grass",
         "2024-10-01T19:16:09.849+0000"
        ],
        [
         "Lilligant",
         1.1,
         16.3,
         "Chlorophyll, Own-tempo, Leaf-guard",
         "168",
         "{special-attack=110, defense=75, attack=60, hp=70, special-defense=75, speed=90}",
         "Grass",
         "2024-10-01T19:16:09.849+0000"
        ],
        [
         "Linoone",
         0.5,
         32.5,
         "Pickup, Gluttony, Quick-feet",
         "147",
         "{special-attack=50, defense=61, attack=70, hp=78, special-defense=61, speed=100}",
         "Normal",
         "2024-10-01T19:16:09.849+0000"
        ],
        [
         "Litwick",
         0.3,
         3.1,
         "Flash-fire, Flame-body, Infiltrator",
         "55",
         "{special-attack=65, defense=55, attack=30, hp=50, special-defense=55, speed=20}",
         "Ghost, Fire",
         "2024-10-01T19:16:09.849+0000"
        ],
        [
         "Litten",
         0.4,
         4.3,
         "Blaze, Intimidate",
         "64",
         "{special-attack=60, defense=40, attack=65, hp=45, special-defense=40, speed=70}",
         "Fire",
         "2024-10-01T19:16:09.849+0000"
        ],
        [
         "Lopunny",
         1.2,
         33.3,
         "Cute-charm, Klutz, Limber",
         "168",
         "{special-attack=54, defense=84, attack=76, hp=65, special-defense=96, speed=105}",
         "Normal",
         "2024-10-01T19:16:09.849+0000"
        ],
        [
         "Lotad",
         0.5,
         2.6,
         "Swift-swim, Rain-dish, Own-tempo",
         "44",
         "{special-attack=40, defense=30, attack=30, hp=40, special-defense=50, speed=30}",
         "Water, Grass",
         "2024-10-01T19:16:09.849+0000"
        ],
        [
         "Loudred",
         1.0,
         40.5,
         "Soundproof, Scrappy",
         "126",
         "{special-attack=71, defense=43, attack=71, hp=84, special-defense=43, speed=48}",
         "Normal",
         "2024-10-01T19:16:09.849+0000"
        ],
        [
         "Lucario",
         1.2,
         54.0,
         "Steadfast, Inner-focus, Justified",
         "184",
         "{special-attack=115, defense=70, attack=110, hp=70, special-defense=70, speed=90}",
         "Fighting, Steel",
         "2024-10-01T19:16:09.849+0000"
        ],
        [
         "Ludicolo",
         1.5,
         55.0,
         "Swift-swim, Rain-dish, Own-tempo",
         "240",
         "{special-attack=90, defense=70, attack=70, hp=80, special-defense=100, speed=70}",
         "Water, Grass",
         "2024-10-01T19:16:09.849+0000"
        ],
        [
         "Lumineon",
         1.2,
         24.0,
         "Swift-swim, Storm-drain, Water-veil",
         "161",
         "{special-attack=69, defense=76, attack=69, hp=69, special-defense=86, speed=91}",
         "Water",
         "2024-10-01T19:16:09.849+0000"
        ],
        [
         "Lunala",
         4.0,
         120.0,
         "Shadow-shield",
         "340",
         "{special-attack=137, defense=89, attack=113, hp=137, special-defense=107, speed=97}",
         "Psychic, Ghost",
         "2024-10-01T19:16:09.849+0000"
        ],
        [
         "Lunatone",
         1.0,
         168.0,
         "Levitate",
         "161",
         "{special-attack=95, defense=65, attack=55, hp=90, special-defense=85, speed=70}",
         "Rock, Psychic",
         "2024-10-01T19:16:09.849+0000"
        ],
        [
         "Luxio",
         0.9,
         30.5,
         "Rivalry, Intimidate, Guts",
         "127",
         "{special-attack=60, defense=49, attack=85, hp=60, special-defense=49, speed=60}",
         "Electric",
         "2024-10-01T19:16:09.849+0000"
        ],
        [
         "Luxray",
         1.4,
         42.0,
         "Rivalry, Intimidate, Guts",
         "262",
         "{special-attack=95, defense=79, attack=120, hp=80, special-defense=79, speed=70}",
         "Electric",
         "2024-10-01T19:16:09.849+0000"
        ],
        [
         "Magby",
         0.7,
         21.4,
         "Flame-body, Vital-spirit",
         "73",
         "{special-attack=70, defense=37, attack=75, hp=45, special-defense=55, speed=83}",
         "Fire",
         "2024-10-01T19:16:09.849+0000"
        ],
        [
         "Magcargo",
         0.8,
         55.0,
         "Magma-armor, Flame-body, Weak-armor",
         "151",
         "{special-attack=90, defense=120, attack=50, hp=60, special-defense=80, speed=30}",
         "Fire, Rock",
         "2024-10-01T19:16:09.849+0000"
        ],
        [
         "Magikarp",
         0.9,
         10.0,
         "Swift-swim, Rattled",
         "40",
         "{special-attack=15, defense=55, attack=10, hp=20, special-defense=20, speed=80}",
         "Water",
         "2024-10-01T19:16:09.849+0000"
        ],
        [
         "Magmar",
         1.3,
         44.5,
         "Flame-body, Vital-spirit",
         "173",
         "{special-attack=100, defense=57, attack=95, hp=65, special-defense=85, speed=93}",
         "Fire",
         "2024-10-01T19:16:09.849+0000"
        ],
        [
         "Magmortar",
         1.6,
         68.0,
         "Flame-body, Vital-spirit",
         "270",
         "{special-attack=125, defense=67, attack=95, hp=75, special-defense=95, speed=83}",
         "Fire",
         "2024-10-01T19:16:09.849+0000"
        ],
        [
         "Magnemite",
         0.3,
         6.0,
         "Magnet-pull, Sturdy, Analytic",
         "65",
         "{special-attack=95, defense=70, attack=35, hp=25, special-defense=55, speed=45}",
         "Electric, Steel",
         "2024-10-01T19:16:09.849+0000"
        ],
        [
         "Mamoswine",
         2.5,
         291.0,
         "Oblivious, Snow-cloak, Thick-fat",
         "265",
         "{special-attack=70, defense=80, attack=130, hp=110, special-defense=60, speed=80}",
         "Ice, Ground",
         "2024-10-01T19:16:09.849+0000"
        ],
        [
         "Manaphy",
         0.3,
         1.4,
         "Hydration",
         "270",
         "{special-attack=100, defense=100, attack=100, hp=100, special-defense=100, speed=100}",
         "Water",
         "2024-10-01T19:16:09.849+0000"
        ],
        [
         "Mandibuzz",
         1.2,
         39.5,
         "Big-pecks, Overcoat, Weak-armor",
         "179",
         "{special-attack=55, defense=105, attack=65, hp=110, special-defense=95, speed=80}",
         "Dark, Flying",
         "2024-10-01T19:16:09.849+0000"
        ],
        [
         "Manectric",
         1.5,
         40.2,
         "Static, Lightning-rod, Minus",
         "166",
         "{special-attack=105, defense=60, attack=75, hp=70, special-defense=60, speed=105}",
         "Electric",
         "2024-10-01T19:16:09.849+0000"
        ],
        [
         "Maractus",
         1.0,
         28.0,
         "Water-absorb, Chlorophyll, Storm-drain",
         "161",
         "{special-attack=106, defense=67, attack=86, hp=75, special-defense=67, speed=60}",
         "Grass",
         "2024-10-01T19:16:09.849+0000"
        ],
        [
         "Mareep",
         0.6,
         7.8,
         "Static, Plus",
         "56",
         "{special-attack=65, defense=40, attack=40, hp=55, special-defense=45, speed=35}",
         "Electric",
         "2024-10-01T19:16:09.849+0000"
        ],
        [
         "Marill",
         0.4,
         8.5,
         "Thick-fat, Huge-power, Sap-sipper",
         "88",
         "{special-attack=20, defense=50, attack=20, hp=70, special-defense=50, speed=40}",
         "Water, Fairy",
         "2024-10-01T19:16:09.849+0000"
        ],
        [
         "Marshtomp",
         0.7,
         28.0,
         "Torrent, Damp",
         "142",
         "{special-attack=60, defense=70, attack=85, hp=70, special-defense=70, speed=50}",
         "Water, Ground",
         "2024-10-01T19:16:09.849+0000"
        ],
        [
         "Masquerain",
         0.8,
         3.6,
         "Intimidate, Unnerve",
         "159",
         "{special-attack=100, defense=62, attack=60, hp=70, special-defense=82, speed=80}",
         "Bug, Flying",
         "2024-10-01T19:16:09.849+0000"
        ],
        [
         "Mawile",
         0.6,
         11.5,
         "Hyper-cutter, Intimidate, Sheer-force",
         "133",
         "{special-attack=55, defense=85, attack=85, hp=50, special-defense=55, speed=50}",
         "Steel, Fairy",
         "2024-10-01T19:16:09.849+0000"
        ],
        [
         "Medicham",
         1.3,
         31.5,
         "Pure-power, Telepathy",
         "144",
         "{special-attack=60, defense=75, attack=60, hp=60, special-defense=75, speed=80}",
         "Fighting, Psychic",
         "2024-10-01T19:16:09.849+0000"
        ],
        [
         "Meditite",
         0.6,
         11.2,
         "Pure-power, Telepathy",
         "56",
         "{special-attack=40, defense=55, attack=40, hp=30, special-defense=55, speed=60}",
         "Fighting, Psychic",
         "2024-10-01T19:16:09.849+0000"
        ],
        [
         "Melmetal",
         2.5,
         800.0,
         "Iron-fist",
         "300",
         "{special-attack=80, defense=143, attack=143, hp=135, special-defense=65, speed=34}",
         "Steel",
         "2024-10-01T19:16:09.849+0000"
        ],
        [
         "Meltan",
         0.2,
         8.0,
         "Magnet-pull",
         "150",
         "{special-attack=55, defense=65, attack=65, hp=46, special-defense=35, speed=34}",
         "Steel",
         "2024-10-01T19:16:09.849+0000"
        ],
        [
         "Mesprit",
         0.3,
         0.3,
         "Levitate",
         "290",
         "{special-attack=105, defense=105, attack=105, hp=80, special-defense=105, speed=80}",
         "Psychic",
         "2024-10-01T19:16:09.849+0000"
        ],
        [
         "Metagross",
         1.6,
         550.0,
         "Clear-body, Light-metal",
         "300",
         "{special-attack=95, defense=130, attack=135, hp=80, special-defense=90, speed=70}",
         "Steel, Psychic",
         "2024-10-01T19:16:09.849+0000"
        ],
        [
         "Metang",
         1.2,
         202.5,
         "Clear-body, Light-metal",
         "147",
         "{special-attack=55, defense=100, attack=75, hp=60, special-defense=80, speed=50}",
         "Steel, Psychic",
         "2024-10-01T19:16:09.849+0000"
        ],
        [
         "Metapod",
         0.7,
         9.9,
         "Shed-skin",
         "72",
         "{special-attack=25, defense=55, attack=20, hp=50, special-defense=25, speed=30}",
         "Bug",
         "2024-10-01T19:16:09.849+0000"
        ],
        [
         "Mew",
         0.4,
         4.0,
         "Synchronize",
         "300",
         "{special-attack=100, defense=100, attack=100, hp=100, special-defense=100, speed=100}",
         "Psychic",
         "2024-10-01T19:16:09.849+0000"
        ],
        [
         "Mewtwo",
         2.0,
         122.0,
         "Pressure, Unnerve",
         "340",
         "{special-attack=154, defense=90, attack=110, hp=106, special-defense=90, speed=130}",
         "Psychic",
         "2024-10-01T19:16:09.849+0000"
        ],
        [
         "Minccino",
         0.4,
         5.8,
         "Cute-charm, Technician, Skill-link",
         "60",
         "{special-attack=40, defense=40, attack=50, hp=55, special-defense=40, speed=75}",
         "Normal",
         "2024-10-01T19:16:09.849+0000"
        ],
        [
         "Minun",
         0.4,
         4.2,
         "Minus, Volt-absorb",
         "142",
         "{special-attack=75, defense=50, attack=40, hp=60, special-defense=85, speed=95}",
         "Electric",
         "2024-10-01T19:16:09.849+0000"
        ],
        [
         "Mismagius",
         0.9,
         4.4,
         "Levitate",
         "173",
         "{special-attack=105, defense=60, attack=60, hp=60, special-defense=105, speed=105}",
         "Ghost",
         "2024-10-01T19:16:09.849+0000"
        ],
        [
         "Mienshao",
         1.4,
         35.5,
         "Inner-focus, Regenerator, Reckless",
         "179",
         "{special-attack=95, defense=60, attack=125, hp=65, special-defense=60, speed=105}",
         "Fighting",
         "2024-10-01T19:16:09.849+0000"
        ],
        [
         "Mightyena",
         1.0,
         37.0,
         "Intimidate, Quick-feet, Moxie",
         "147",
         "{special-attack=60, defense=70, attack=90, hp=70, special-defense=60, speed=70}",
         "Dark",
         "2024-10-01T19:16:09.849+0000"
        ],
        [
         "Milcery",
         0.2,
         0.3,
         "Sweet-veil, Aroma-veil",
         "54",
         "{special-attack=50, defense=40, attack=40, hp=45, special-defense=61, speed=34}",
         "Fairy",
         "2024-10-01T19:16:09.849+0000"
        ],
        [
         "Milotic",
         6.2,
         162.0,
         "Marvel-scale, Competitive, Cute-charm",
         "189",
         "{special-attack=100, defense=79, attack=60, hp=95, special-defense=125, speed=81}",
         "Water",
         "2024-10-01T19:16:09.849+0000"
        ],
        [
         "Minccino",
         0.4,
         5.8,
         "Cute-charm, Technician, Skill-link",
         "60",
         "{special-attack=40, defense=40, attack=50, hp=55, special-defense=40, speed=75}",
         "Normal",
         "2024-10-01T19:16:09.849+0000"
        ],
        [
         "Minun",
         0.4,
         4.2,
         "Minus, Volt-absorb",
         "142",
         "{special-attack=75, defense=50, attack=40, hp=60, special-defense=85, speed=95}",
         "Electric",
         "2024-10-01T19:16:09.849+0000"
        ],
        [
         "Mismagius",
         0.9,
         4.4,
         "Levitate",
         "173",
         "{special-attack=105, defense=60, attack=60, hp=60, special-defense=105, speed=105}",
         "Ghost",
         "2024-10-01T19:16:09.849+0000"
        ],
        [
         "Mienshao",
         1.4,
         35.5,
         "Inner-focus, Regenerator, Reckless",
         "179",
         "{special-attack=95, defense=60, attack=125, hp=65, special-defense=60, speed=105}",
         "Fighting",
         "2024-10-01T19:16:09.849+0000"
        ],
        [
         "Mightyena",
         1.0,
         37.0,
         "Intimidate, Quick-feet, Moxie",
         "147",
         "{special-attack=60, defense=70, attack=90, hp=70, special-defense=60, speed=70}",
         "Dark",
         "2024-10-01T19:16:09.849+0000"
        ],
        [
         "Milcery",
         0.2,
         0.3,
         "Sweet-veil, Aroma-veil",
         "54",
         "{special-attack=50, defense=40, attack=40, hp=45, special-defense=61, speed=34}",
         "Fairy",
         "2024-10-01T19:16:09.849+0000"
        ],
        [
         "Milotic",
         6.2,
         162.0,
         "Marvel-scale, Competitive, Cute-charm",
         "189",
         "{special-attack=100, defense=79, attack=60, hp=95, special-defense=125, speed=81}",
         "Water",
         "2024-10-01T19:16:09.849+0000"
        ],
        [
         "Moltres",
         2.0,
         60.0,
         "Pressure, Flame-body",
         "290",
         "{special-attack=125, defense=90, attack=100, hp=90, special-defense=85, speed=90}",
         "Fire, Flying",
         "2024-10-01T19:16:09.849+0000"
        ],
        [
         "Monferno",
         0.9,
         22.0,
         "Blaze, Iron-fist",
         "142",
         "{special-attack=78, defense=52, attack=78, hp=64, special-defense=52, speed=81}",
         "Fire, Fighting",
         "2024-10-01T19:16:09.849+0000"
        ],
        [
         "Morelull",
         0.2,
         1.5,
         "Illuminate, Effect-spore, Rain-dish",
         "57",
         "{special-attack=65, defense=55, attack=35, hp=40, special-defense=75, speed=15}",
         "Grass, Fairy",
         "2024-10-01T19:16:09.849+0000"
        ],
        [
         "Mudbray",
         1.0,
         110.0,
         "Own-tempo, Stamina, Inner-focus",
         "77",
         "{special-attack=45, defense=70, attack=100, hp=70, special-defense=55, speed=45}",
         "Ground",
         "2024-10-01T19:16:09.849+0000"
        ],
        [
         "Mudkip",
         0.4,
         7.6,
         "Torrent, Damp",
         "62",
         "{special-attack=50, defense=50, attack=70, hp=50, special-defense=50, speed=40}",
         "Water",
         "2024-10-01T19:16:09.849+0000"
        ],
        [
         "Muk",
         1.2,
         30.0,
         "Stench, Sticky-hold, Poison-touch",
         "175",
         "{special-attack=65, defense=75, attack=105, hp=105, special-defense=100, speed=50}",
         "Poison",
         "2024-10-01T19:16:09.849+0000"
        ],
        [
         "Munna",
         0.6,
         23.3,
         "Forewarn, Synchronize, Telepathy",
         "58",
         "{special-attack=67, defense=45, attack=25, hp=76, special-defense=55, speed=24}",
         "Psychic",
         "2024-10-01T19:16:09.849+0000"
        ],
        [
         "Murkrow",
         0.5,
         2.1,
         "Insomnia, Super-luck, Prankster",
         "81",
         "{special-attack=85, defense=42, attack=85, hp=60, special-defense=42, speed=91}",
         "Dark, Flying",
         "2024-10-01T19:16:09.849+0000"
        ],
        [
         "Musharna",
         1.1,
         60.5,
         "Forewarn, Synchronize, Telepathy",
         "170",
         "{special-attack=107, defense=85, attack=55, hp=116, special-defense=95, speed=29}",
         "Psychic",
         "2024-10-01T19:16:09.849+0000"
        ],
        [
         "Naganadel",
         3.6,
         150.0,
         "Beast-boost",
         "270",
         "{special-attack=127, defense=73, attack=73, hp=73, special-defense=73, speed=121}",
         "Poison, Dragon",
         "2024-10-01T19:16:09.849+0000"
        ],
        [
         "Natu",
         0.2,
         2.0,
         "Synchronize, Early-bird, Magic-bounce",
         "64",
         "{special-attack=70, defense=45, attack=50, hp=40, special-defense=45, speed=70}",
         "Psychic, Flying",
         "2024-10-01T19:16:09.849+0000"
        ],
        [
         "Necrozma",
         2.4,
         230.0,
         "Prism-armor",
         "300",
         "{special-attack=127, defense=101, attack=107, hp=97, special-defense=89, speed=79}",
         "Psychic",
         "2024-10-01T19:16:09.849+0000"
        ],
        [
         "Nidorina",
         0.8,
         20.0,
         "Poison-point, Rivalry, Hustle",
         "128",
         "{special-attack=55, defense=67, attack=62, hp=70, special-defense=55, speed=56}",
         "Poison",
         "2024-10-01T19:16:09.849+0000"
        ],
        [
         "Nidorino",
         0.9,
         19.5,
         "Poison-point, Rivalry, Hustle",
         "128",
         "{special-attack=55, defense=57, attack=72, hp=61, special-defense=55, speed=65}",
         "Poison",
         "2024-10-01T19:16:09.849+0000"
        ],
        [
         "Nidoqueen",
         1.3,
         60.0,
         "Poison-point, Rivalry, Sheer-force",
         "253",
         "{special-attack=75, defense=87, attack=92, hp=90, special-defense=85, speed=76}",
         "Poison, Ground",
         "2024-10-01T19:16:09.849+0000"
        ],
        [
         "Nidoking",
         1.4,
         62.0,
         "Poison-point, Rivalry, Sheer-force",
         "253",
         "{special-attack=85, defense=77, attack=102, hp=81, special-defense=75, speed=85}",
         "Poison, Ground",
         "2024-10-01T19:16:09.849+0000"
        ],
        [
         "Ninetales",
         1.1,
         19.9,
         "Flash-fire, Drought",
         "177",
         "{special-attack=81, defense=75, attack=76, hp=73, special-defense=100, speed=100}",
         "Fire",
         "2024-10-01T19:16:09.849+0000"
        ],
        [
         "Noctowl",
         1.6,
         40.8,
         "Insomnia, Keen-eye, Tinted-lens",
         "158",
         "{special-attack=86, defense=50, attack=50, hp=100, special-defense=96, speed=70}",
         "Normal, Flying",
         "2024-10-01T19:16:09.849+0000"
        ],
        [
         "Noibat",
         0.5,
         8.0,
         "Frisk, Infiltrator, Telepathy",
         "49",
         "{special-attack=45, defense=35, attack=30, hp=40, special-defense=40, speed=55}",
         "Flying, Dragon",
         "2024-10-01T19:16:09.849+0000"
        ],
        [
         "Noivern",
         1.5,
         85.0,
         "Frisk, Infiltrator, Telepathy",
         "187",
         "{special-attack=97, defense=80, attack=70, hp=85, special-defense=80, speed=123}",
         "Flying, Dragon",
         "2024-10-01T19:16:09.849+0000"
        ],
        [
         "Numel",
         0.7,
         24.0,
         "Oblivious, Simple, Own-tempo",
         "61",
         "{special-attack=65, defense=40, attack=60, hp=60, special-defense=45, speed=35}",
         "Fire, Ground",
         "2024-10-01T19:16:09.849+0000"
        ],
        [
         "Nuzleaf",
         1.0,
         28.0,
         "Chlorophyll, Early-bird, Pickpocket",
         "119",
         "{special-attack=60, defense=40, attack=70, hp=70, special-defense=40, speed=60}",
         "Grass, Dark",
         "2024-10-01T19:16:09.849+0000"
        ],
        [
         "Obstagoon",
         1.6,
         46.0,
         "Reckless, Guts, Defiant",
         "260",
         "{special-attack=60, defense=101, attack=90, hp=93, special-defense=81, speed=95}",
         "Dark, Normal",
         "2024-10-01T19:16:09.849+0000"
        ],
        [
         "Octillery",
         0.9,
         28.5,
         "Suction-cups, Sniper, Moody",
         "168",
         "{special-attack=105, defense=75, attack=105, hp=75, special-defense=75, speed=45}",
         "Water",
         "2024-10-01T19:16:09.849+0000"
        ],
        [
         "Sableye",
         0.5,
         11.0,
         "Keen-eye, Stall, Prankster",
         "133",
         "{special-attack=65, defense=75, attack=75, hp=50, special-defense=65, speed=50}",
         "Dark, Ghost",
         "2024-10-01T19:16:09.849+0000"
        ],
        [
         "Salamence",
         1.5,
         102.6,
         "Intimidate, Moxie",
         "300",
         "{special-attack=110, defense=80, attack=135, hp=95, special-defense=80, speed=100}",
         "Dragon, Flying",
         "2024-10-01T19:16:09.849+0000"
        ],
        [
         "Samurott",
         1.5,
         94.6,
         "Torrent, Shell-armor",
         "238",
         "{special-attack=108, defense=85, attack=100, hp=95, special-defense=70, speed=70}",
         "Water",
         "2024-10-01T19:16:09.849+0000"
        ],
        [
         "Sandaconda",
         3.8,
         65.5,
         "Sand-spit, Shed-skin, Sand-veil",
         "179",
         "{special-attack=65, defense=125, attack=107, hp=72, special-defense=70, speed=71}",
         "Ground",
         "2024-10-01T19:16:09.849+0000"
        ],
        [
         "Sandshrew",
         0.6,
         12.0,
         "Sand-veil, Sand-rush",
         "60",
         "{special-attack=20, defense=85, attack=75, hp=50, special-defense=30, speed=40}",
         "Ground",
         "2024-10-01T19:16:09.849+0000"
        ],
        [
         "Sandslash",
         1.0,
         29.5,
         "Sand-veil, Sand-rush",
         "158",
         "{special-attack=45, defense=110, attack=100, hp=75, special-defense=55, speed=65}",
         "Ground",
         "2024-10-01T19:16:09.849+0000"
        ],
        [
         "Sceptile",
         1.7,
         52.2,
         "Overgrow, Unburden",
         "265",
         "{special-attack=105, defense=65, attack=85, hp=70, special-defense=85, speed=120}",
         "Grass",
         "2024-10-01T19:16:09.849+0000"
        ],
        [
         "Scizor",
         1.8,
         118.0,
         "Swarm, Technician, Light-metal",
         "175",
         "{special-attack=55, defense=100, attack=130, hp=70, special-defense=80, speed=65}",
         "Bug, Steel",
         "2024-10-01T19:16:09.849+0000"
        ],
        [
         "Scyther",
         1.5,
         56.0,
         "Swarm, Technician, Steadfast",
         "100",
         "{special-attack=55, defense=80, attack=110, hp=70, special-defense=80, speed=105}",
         "Bug, Flying",
         "2024-10-01T19:16:09.849+0000"
        ],
        [
         "Seadra",
         1.2,
         25.0,
         "Poison-point, Sniper, Damp",
         "154",
         "{special-attack=95, defense=95, attack=65, hp=55, special-defense=45, speed=85}",
         "Water",
         "2024-10-01T19:16:09.849+0000"
        ],
        [
         "Seaking",
         1.3,
         39.0,
         "Swift-swim, Water-veil, Lightning-rod",
         "158",
         "{special-attack=65, defense=65, attack=92, hp=80, special-defense=80, speed=68}",
         "Water",
         "2024-10-01T19:16:09.849+0000"
        ],
        [
         "Sealeo",
         1.1,
         87.6,
         "Thick-fat, Ice-body, Oblivious",
         "144",
         "{special-attack=75, defense=70, attack=60, hp=90, special-defense=70, speed=45}",
         "Ice, Water",
         "2024-10-01T19:16:09.849+0000"
        ],
        [
         "Seel",
         1.1,
         90.0,
         "Thick-fat, Hydration, Ice-body",
         "65",
         "{special-attack=45, defense=55, attack=45, hp=65, special-defense=70, speed=45}",
         "Water",
         "2024-10-01T19:16:09.849+0000"
        ],
        [
         "Seedot",
         0.5,
         4.0,
         "Chlorophyll, Early-bird, Pickpocket",
         "44",
         "{special-attack=30, defense=50, attack=40, hp=40, special-defense=30, speed=30}",
         "Grass",
         "2024-10-01T19:16:09.849+0000"
        ],
        [
         "Seismitoad",
         1.5,
         62.0,
         "Swift-swim, Poison-touch, Water-absorb",
         "255",
         "{special-attack=85, defense=75, attack=95, hp=105, special-defense=75, speed=74}",
         "Water, Ground",
         "2024-10-01T19:16:09.849+0000"
        ],
        [
         "Sentret",
         0.8,
         6.0,
         "Run-away, Keen-eye, Frisk",
         "43",
         "{special-attack=35, defense=34, attack=46, hp=35, special-defense=45, speed=20}",
         "Normal",
         "2024-10-01T19:16:09.849+0000"
        ],
        [
         "Serperior",
         3.3,
         63.0,
         "Overgrow, Contrary",
         "238",
         "{special-attack=75, defense=95, attack=75, hp=75, special-defense=95, speed=113}",
         "Grass",
         "2024-10-01T19:16:09.849+0000"
        ],
        [
         "Servine",
         0.8,
         16.0,
         "Overgrow, Contrary",
         "145",
         "{special-attack=60, defense=75, attack=60, hp=60, special-defense=75, speed=83}",
         "Grass",
         "2024-10-01T19:16:09.849+0000"
        ],
        [
         "Seviper",
         2.7,
         52.5,
         "Shed-skin, Infiltrator",
         "160",
         "{special-attack=100, defense=60, attack=100, hp=73, special-defense=60, speed=65}",
         "Poison",
         "2024-10-01T19:16:09.849+0000"
        ],
        [
         "Sharpedo",
         1.8,
         88.8,
         "Rough-skin, Speed-boost",
         "161",
         "{special-attack=95, defense=40, attack=120, hp=70, special-defense=40, speed=95}",
         "Water, Dark",
         "2024-10-01T19:16:09.849+0000"
        ],
        [
         "Shellder",
         0.3,
         4.0,
         "Shell-armor, Skill-link, Overcoat",
         "61",
         "{special-attack=45, defense=100, attack=65, hp=30, special-defense=25, speed=40}",
         "Water",
         "2024-10-01T19:16:09.849+0000"
        ],
        [
         "Shellos",
         0.3,
         6.3,
         "Sticky-hold, Storm-drain, Sand-force",
         "65",
         "{special-attack=57, defense=48, attack=48, hp=76, special-defense=62, speed=34}",
         "Water",
         "2024-10-01T19:16:09.849+0000"
        ],
        [
         "Shiftry",
         1.3,
         59.6,
         "Chlorophyll, Wind-rider, Pickpocket",
         "240",
         "{special-attack=90, defense=60, attack=100, hp=90, special-defense=60, speed=80}",
         "Grass, Dark",
         "2024-10-01T19:16:09.849+0000"
        ],
        [
         "Shinx",
         0.5,
         9.5,
         "Rivalry, Intimidate, Guts",
         "53",
         "{special-attack=40, defense=34, attack=65, hp=45, special-defense=34, speed=45}",
         "Electric",
         "2024-10-01T19:16:09.849+0000"
        ],
        [
         "Shroomish",
         0.4,
         4.5,
         "Effect-spore, Poison-heal, Quick-feet",
         "59",
         "{special-attack=40, defense=60, attack=40, hp=60, special-defense=60, speed=35}",
         "Grass",
         "2024-10-01T19:16:09.849+0000"
        ],
        [
         "Shuckle",
         0.6,
         20.5,
         "Sturdy, Gluttony, Contrary",
         "177",
         "{special-attack=10, defense=230, attack=10, hp=20, special-defense=230, speed=5}",
         "Bug, Rock",
         "2024-10-01T19:16:09.849+0000"
        ],
        [
         "Silicobra",
         2.2,
         7.6,
         "Sand-spit, Shed-skin, Sand-veil",
         "63",
         "{special-attack=35, defense=75, attack=57, hp=52, special-defense=50, speed=46}",
         "Ground",
         "2024-10-01T19:16:09.849+0000"
        ],
        [
         "Silicobra",
         2.2,
         7.6,
         "Sand-spit, Shed-skin, Sand-veil",
         "63",
         "{special-attack=35, defense=75, attack=57, hp=52, special-defense=50, speed=46}",
         "Ground",
         "2024-10-01T19:16:09.849+0000"
        ],
        [
         "Simisage",
         1.1,
         30.5,
         "Gluttony, Overgrow",
         "174",
         "{special-attack=98, defense=63, attack=98, hp=75, special-defense=63, speed=101}",
         "Grass",
         "2024-10-01T19:16:09.849+0000"
        ],
        [
         "Simisear",
         1.0,
         28.0,
         "Gluttony, Blaze",
         "174",
         "{special-attack=98, defense=63, attack=98, hp=75, special-defense=63, speed=101}",
         "Fire",
         "2024-10-01T19:16:09.849+0000"
        ],
        [
         "Simipour",
         1.0,
         29.0,
         "Gluttony, Torrent",
         "174",
         "{special-attack=98, defense=63, attack=98, hp=75, special-defense=63, speed=101}",
         "Water",
         "2024-10-01T19:16:09.849+0000"
        ],
        [
         "Sinistea",
         0.1,
         0.2,
         "Weak-armor, Cursed-body",
         "62",
         "{special-attack=74, defense=45, attack=45, hp=40, special-defense=54, speed=50}",
         "Ghost",
         "2024-10-01T19:16:09.849+0000"
        ],
        [
         "Skarmory",
         1.7,
         50.5,
         "Keen-eye, Sturdy, Weak-armor",
         "163",
         "{special-attack=40, defense=140, attack=80, hp=65, special-defense=70, speed=70}",
         "Steel, Flying",
         "2024-10-01T19:16:09.849+0000"
        ],
        [
         "Skitty",
         0.6,
         11.0,
         "Cute-charm, Normalize, Wonder-skin",
         "52",
         "{special-attack=35, defense=45, attack=45, hp=50, special-defense=35, speed=50}",
         "Normal",
         "2024-10-01T19:16:09.849+0000"
        ],
        [
         "Skorupi",
         0.8,
         12.0,
         "Battle-armor, Sniper, Keen-eye",
         "66",
         "{special-attack=30, defense=90, attack=50, hp=40, special-defense=55, speed=65}",
         "Poison, Bug",
         "2024-10-01T19:16:09.849+0000"
        ],
        [
         "Slaking",
         2.0,
         130.5,
         "Truant",
         "252",
         "{special-attack=95, defense=100, attack=160, hp=150, special-defense=65, speed=100}",
         "Normal",
         "2024-10-01T19:16:09.849+0000"
        ],
        [
         "Slakoth",
         0.8,
         24.0,
         "Truant",
         "56",
         "{special-attack=35, defense=60, attack=60, hp=60, special-defense=35, speed=30}",
         "Normal",
         "2024-10-01T19:16:09.849+0000"
        ],
        [
         "Slugma",
         0.7,
         35.0,
         "Magma-armor, Flame-body, Weak-armor",
         "50",
         "{special-attack=70, defense=40, attack=40, hp=40, special-defense=40, speed=20}",
         "Fire",
         "2024-10-01T19:16:09.849+0000"
        ],
        [
         "Sliggoo",
         0.8,
         17.5,
         "Sap-sipper, Hydration, Gooey",
         "158",
         "{special-attack=83, defense=53, attack=75, hp=68, special-defense=113, speed=60}",
         "Dragon",
         "2024-10-01T19:16:09.849+0000"
        ],
        [
         "Slowbro",
         1.6,
         78.5,
         "Oblivious, Own-tempo, Regenerator",
         "172",
         "{special-attack=100, defense=110, attack=75, hp=95, special-defense=80, speed=30}",
         "Water, Psychic",
         "2024-10-01T19:16:09.849+0000"
        ],
        [
         "Slowking",
         2.0,
         79.5,
         "Oblivious, Own-tempo, Regenerator",
         "172",
         "{special-attack=100, defense=80, attack=75, hp=95, special-defense=110, speed=30}",
         "Water, Psychic",
         "2024-10-01T19:16:09.849+0000"
        ],
        [
         "Slowpoke",
         1.2,
         36.0,
         "Oblivious, Own-tempo, Regenerator",
         "63",
         "{special-attack=40, defense=65, attack=65, hp=90, special-defense=40, speed=15}",
         "Water, Psychic",
         "2024-10-01T19:16:09.849+0000"
        ],
        [
         "Slurpuff",
         0.8,
         5.0,
         "Sweet-veil, Unburden",
         "168",
         "{special-attack=85, defense=86, attack=80, hp=82, special-defense=75, speed=72}",
         "Fairy",
         "2024-10-01T19:16:09.849+0000"
        ],
        [
         "Smoochum",
         0.4,
         6.0,
         "Oblivious, Forewarn, Hydration",
         "61",
         "{special-attack=85, defense=15, attack=30, hp=45, special-defense=65, speed=65}",
         "Ice, Psychic",
         "2024-10-01T19:16:09.849+0000"
        ],
        [
         "Snorlax",
         2.1,
         460.0,
         "Immunity, Thick-fat, Gluttony",
         "189",
         "{special-attack=65, defense=65, attack=110, hp=160, special-defense=110, speed=30}",
         "Normal",
         "2024-10-01T19:16:09.849+0000"
        ],
        [
         "Snorunt",
         0.7,
         16.8,
         "Inner-focus, Ice-body, Moody",
         "60",
         "{special-attack=50, defense=50, attack=50, hp=50, special-defense=50, speed=50}",
         "Ice",
         "2024-10-01T19:16:09.849+0000"
        ],
        [
         "Sobble",
         0.3,
         4.0,
         "Torrent, Sniper",
         "62",
         "{special-attack=70, defense=40, attack=40, hp=50, special-defense=40, speed=70}",
         "Water",
         "2024-10-01T19:16:09.849+0000"
        ],
        [
         "Solgaleo",
         3.4,
         230.0,
         "Full-metal-body",
         "340",
         "{special-attack=113, defense=107, attack=137, hp=137, special-defense=89, speed=97}",
         "Psychic, Steel",
         "2024-10-01T19:16:09.849+0000"
        ],
        [
         "Solgaleo",
         3.4,
         230.0,
         "Full-metal-body",
         "340",
         "{special-attack=113, defense=107, attack=137, hp=137, special-defense=89, speed=97}",
         "Psychic, Steel",
         "2024-10-01T19:16:09.849+0000"
        ],
        [
         "Solrock",
         1.2,
         154.0,
         "Levitate",
         "161",
         "{special-attack=55, defense=85, attack=95, hp=90, special-defense=65, speed=70}",
         "Rock, Psychic",
         "2024-10-01T19:16:09.849+0000"
        ],
        [
         "Spearow",
         0.3,
         2.0,
         "Keen-eye, Sniper",
         "52",
         "{special-attack=31, defense=30, attack=60, hp=40, special-defense=31, speed=70}",
         "Normal, Flying",
         "2024-10-01T19:16:09.849+0000"
        ],
        [
         "Spewpa",
         0.3,
         8.4,
         "Shed-skin, Friend-guard",
         "75",
         "{special-attack=27, defense=60, attack=22, hp=45, special-defense=30, speed=29}",
         "Bug",
         "2024-10-01T19:16:09.849+0000"
        ],
        [
         "Spheal",
         0.8,
         39.5,
         "Thick-fat, Ice-body, Oblivious",
         "58",
         "{special-attack=55, defense=50, attack=40, hp=70, special-defense=50, speed=25}",
         "Ice, Water",
         "2024-10-01T19:16:09.849+0000"
        ],
        [
         "Spinarak",
         0.5,
         8.5,
         "Swarm, Insomnia, Sniper",
         "50",
         "{special-attack=40, defense=40, attack=60, hp=40, special-defense=40, speed=30}",
         "Bug, Poison",
         "2024-10-01T19:16:09.849+0000"
        ],
        [
         "Spritzee",
         0.2,
         0.5,
         "Healer, Aroma-veil",
         "68",
         "{special-attack=63, defense=60, attack=52, hp=78, special-defense=65, speed=23}",
         "Fairy",
         "2024-10-01T19:16:09.849+0000"
        ],
        [
         "Stakataka",
         5.5,
         820.0,
         "Beast-boost",
         "285",
         "{special-attack=53, defense=211, attack=131, hp=61, special-defense=101, speed=13}",
         "Rock, Steel",
         "2024-10-01T19:16:09.849+0000"
        ],
        [
         "Stantler",
         1.4,
         71.2,
         "Intimidate, Frisk, Sap-sipper",
         "163",
         "{special-attack=85, defense=62, attack=95, hp=73, special-defense=65, speed=85}",
         "Normal",
         "2024-10-01T19:16:09.849+0000"
        ],
        [
         "Staraptor",
         1.2,
         24.9,
         "Intimidate, Reckless",
         "218",
         "{special-attack=50, defense=70, attack=120, hp=85, special-defense=60, speed=100}",
         "Normal, Flying",
         "2024-10-01T19:16:09.849+0000"
        ],
        [
         "Staravia",
         0.6,
         15.5,
         "Intimidate, Reckless",
         "119",
         "{special-attack=40, defense=50, attack=75, hp=55, special-defense=40, speed=80}",
         "Normal, Flying",
         "2024-10-01T19:16:09.849+0000"
        ],
        [
         "Starly",
         0.3,
         2.0,
         "Keen-eye, Reckless",
         "49",
         "{special-attack=30, defense=30, attack=55, hp=40, special-defense=30, speed=60}",
         "Normal, Flying",
         "2024-10-01T19:16:09.849+0000"
        ],
        [
         "Starmie",
         1.1,
         80.0,
         "Illuminate, Natural-cure, Analytic",
         "182",
         "{special-attack=100, defense=85, attack=75, hp=60, special-defense=85, speed=115}",
         "Water, Psychic",
         "2024-10-01T19:16:09.849+0000"
        ],
        [
         "Staryu",
         0.8,
         34.5,
         "Illuminate, Natural-cure, Analytic",
         "68",
         "{special-attack=70, defense=55, attack=45, hp=30, special-defense=55, speed=85}",
         "Water",
         "2024-10-01T19:16:09.849+0000"
        ]
       ],
       "datasetInfos": [],
       "dbfsResultPath": null,
       "isJsonSchema": true,
       "metadata": {},
       "overflow": false,
       "plotOptions": {
        "customPlotOptions": {},
        "displayType": "table",
        "pivotAggregation": null,
        "pivotColumns": null,
        "xColumns": null,
        "yColumns": null
       },
       "removedWidgets": [],
       "schema": [
        {
         "metadata": "{}",
         "name": "Nome",
         "type": "\"string\""
        },
        {
         "metadata": "{}",
         "name": "Altura",
         "type": "\"float\""
        },
        {
         "metadata": "{}",
         "name": "Peso",
         "type": "\"float\""
        },
        {
         "metadata": "{}",
         "name": "Habilidades",
         "type": "\"string\""
        },
        {
         "metadata": "{}",
         "name": "Experiencia_Base",
         "type": "\"string\""
        },
        {
         "metadata": "{}",
         "name": "Status",
         "type": "\"string\""
        },
        {
         "metadata": "{}",
         "name": "tipos",
         "type": "\"string\""
        },
        {
         "metadata": "{}",
         "name": "dt_referencia_criacao",
         "type": "\"timestamp\""
        }
       ],
       "type": "table"
      }
     },
     "output_type": "display_data"
    }
   ],
   "source": [
    "%sql\n",
    "select * from dbstage.tbPokemon"
   ]
  }
 ],
 "metadata": {
  "application/vnd.databricks.v1+notebook": {
   "dashboards": [],
   "environmentMetadata": null,
   "language": "python",
   "notebookMetadata": {
    "mostRecentlyExecutedCommandWithImplicitDF": {
     "commandId": 1326040200487787,
     "dataframes": [
      "_sqldf"
     ]
    },
    "pythonIndentUnit": 4
   },
   "notebookName": "NboStagePokemon",
   "widgets": {}
  }
 },
 "nbformat": 4,
 "nbformat_minor": 0
}
