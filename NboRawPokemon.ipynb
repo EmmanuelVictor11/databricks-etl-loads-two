{
 "cells": [
  {
   "cell_type": "code",
   "execution_count": 0,
   "metadata": {
    "application/vnd.databricks.v1+cell": {
     "cellMetadata": {
      "byteLimit": 2048000,
      "rowLimit": 10000
     },
     "inputWidgets": {},
     "nuid": "7de9b418-e170-4af5-83c3-2ee26272c407",
     "showTitle": false,
     "title": ""
    }
   },
   "outputs": [],
   "source": [
    "# dfraw = spark.sql(\"\"\"select *, \n",
    "#     dateadd(hour,-3,current_timestamp()) as dt_data_atualizacao \n",
    "# from dbstage.tbpokemon\"\"\")"
   ]
  },
  {
   "cell_type": "code",
   "execution_count": 0,
   "metadata": {
    "application/vnd.databricks.v1+cell": {
     "cellMetadata": {
      "byteLimit": 2048000,
      "rowLimit": 10000
     },
     "inputWidgets": {},
     "nuid": "f4c3a052-b575-4363-a245-2bb0a66730cd",
     "showTitle": false,
     "title": ""
    }
   },
   "outputs": [
    {
     "output_type": "stream",
     "name": "stdout",
     "output_type": "stream",
     "text": [
      "Out[8]: DataFrame[]"
     ]
    }
   ],
   "source": [
    "# (dfraw\n",
    "#     .write\n",
    "#     .format(\"delta\")\n",
    "#     .mode(\"overwrite\")\n",
    "#     .option(\"overwriteSchema\", True)\n",
    "#     .save(\"/dbfs/tmp/dbraw/pokemon\")\n",
    "# )\n",
    "# spark.sql(\"create table if not exists dbraw.tbpokemon using delta location '/dbfs/tmp/dbraw/pokemon'\")\n",
    " "
   ]
  },
  {
   "cell_type": "code",
   "execution_count": 0,
   "metadata": {
    "application/vnd.databricks.v1+cell": {
     "cellMetadata": {
      "byteLimit": 2048000,
      "implicitDf": true,
      "rowLimit": 10000
     },
     "inputWidgets": {},
     "nuid": "bd2c4283-8b32-4bec-820f-55d845fcc74a",
     "showTitle": false,
     "title": ""
    }
   },
   "outputs": [
    {
     "output_type": "display_data",
     "data": {
      "text/html": [
       "<style scoped>\n",
       "  .table-result-container {\n",
       "    max-height: 300px;\n",
       "    overflow: auto;\n",
       "  }\n",
       "  table, th, td {\n",
       "    border: 1px solid black;\n",
       "    border-collapse: collapse;\n",
       "  }\n",
       "  th, td {\n",
       "    padding: 5px;\n",
       "  }\n",
       "  th {\n",
       "    text-align: left;\n",
       "  }\n",
       "</style><div class='table-result-container'><table class='table-result'><thead style='background-color: white'><tr><th>num_affected_rows</th><th>num_updated_rows</th><th>num_deleted_rows</th><th>num_inserted_rows</th></tr></thead><tbody><tr><td>498</td><td>498</td><td>0</td><td>0</td></tr></tbody></table></div>"
      ]
     },
     "metadata": {
      "application/vnd.databricks.v1+output": {
       "addedWidgets": {},
       "aggData": [],
       "aggError": "",
       "aggOverflow": false,
       "aggSchema": [],
       "aggSeriesLimitReached": false,
       "aggType": "",
       "arguments": {},
       "columnCustomDisplayInfos": {},
       "data": [
        [
         498,
         498,
         0,
         0
        ]
       ],
       "datasetInfos": [],
       "dbfsResultPath": null,
       "isJsonSchema": true,
       "metadata": {},
       "overflow": false,
       "plotOptions": {
        "customPlotOptions": {},
        "displayType": "table",
        "pivotAggregation": null,
        "pivotColumns": null,
        "xColumns": null,
        "yColumns": null
       },
       "removedWidgets": [],
       "schema": [
        {
         "metadata": "{}",
         "name": "num_affected_rows",
         "type": "\"long\""
        },
        {
         "metadata": "{}",
         "name": "num_updated_rows",
         "type": "\"long\""
        },
        {
         "metadata": "{}",
         "name": "num_deleted_rows",
         "type": "\"long\""
        },
        {
         "metadata": "{}",
         "name": "num_inserted_rows",
         "type": "\"long\""
        }
       ],
       "type": "table"
      }
     },
     "output_type": "display_data"
    }
   ],
   "source": [
    "%sql\n",
    "MERGE INTO dbraw.tbpokemon AS a\n",
    "USING (select distinct * from dbstage.tbpokemon) AS b\n",
    "ON  a.nome   = b.nome\n",
    "and a.tipos  = b.tipos\n",
    "and a.Altura = b.Altura\n",
    "WHEN MATCHED THEN\n",
    "  UPDATE SET\n",
    "    a.peso                          = b.Peso,\n",
    "    a.habilidades                   = b.Habilidades,\n",
    "    a.Experiencia_Base              = b.Experiencia_Base,\n",
    "    a.Status                        = b.Status,\n",
    "    a.dt_data_atualizacao           = DATEADD(HOUR, -3, CURRENT_TIMESTAMP())\n",
    "WHEN NOT MATCHED THEN\n",
    "  INSERT \n",
    "  (\n",
    "   altura\n",
    "  ,peso\n",
    "  ,habilidades\n",
    "  ,Experiencia_Base\n",
    "  ,Status\n",
    "  ,tipos\n",
    "  ,dt_referencia_criacao\n",
    "  )\n",
    "  VALUES \n",
    "  (\n",
    "   altura\n",
    "  ,peso\n",
    "  ,habilidades\n",
    "  ,Experiencia_Base\n",
    "  ,Status\n",
    "  ,tipos\n",
    "  ,DATEADD(HOUR, -3, CURRENT_TIMESTAMP())\n",
    "  )\n"
   ]
  }
 ],
 "metadata": {
  "application/vnd.databricks.v1+notebook": {
   "dashboards": [],
   "environmentMetadata": null,
   "language": "python",
   "notebookMetadata": {
    "mostRecentlyExecutedCommandWithImplicitDF": {
     "commandId": 2053632195349978,
     "dataframes": [
      "_sqldf"
     ]
    },
    "pythonIndentUnit": 4
   },
   "notebookName": "NboRawPokemon",
   "widgets": {}
  }
 },
 "nbformat": 4,
 "nbformat_minor": 0
}
